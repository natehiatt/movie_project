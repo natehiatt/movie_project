{
 "cells": [
  {
   "cell_type": "code",
   "execution_count": 60,
   "metadata": {},
   "outputs": [],
   "source": [
    "import pandas as pd\n",
    "import numpy as np\n",
    "import matplotlib.pyplot as plt\n",
    "import seaborn as sns\n",
    "import scipy.stats as stats\n",
    "import sqlite3\n",
    "import statsmodels.api as sm\n",
    "from lin_reg import best_line"
   ]
  },
  {
   "cell_type": "markdown",
   "metadata": {},
   "source": [
    "# (1) Business Understanding "
   ]
  },
  {
   "cell_type": "code",
   "execution_count": null,
   "metadata": {},
   "outputs": [],
   "source": []
  },
  {
   "cell_type": "markdown",
   "metadata": {},
   "source": [
    "# (2) Data Understanding"
   ]
  },
  {
   "cell_type": "code",
   "execution_count": 61,
   "metadata": {},
   "outputs": [],
   "source": [
    "# Importing our datasets\n",
    "\n",
    "tn_movie_budgets = pd.read_csv('data/tn.movie_budgets.csv.gz')\n",
    "tmdb_movies = pd.read_csv('data/tmdb.movies.csv.gz')\n",
    "rt_reviews = pd.read_csv('data/rt.reviews.tsv.gz', sep = '\\t', encoding='latin-1')\n",
    "rt_movie_info = pd.read_csv('data/rt.movie_info.tsv.gz', sep = '\\t')\n",
    "movie_gross = pd.read_csv('data/bom.movie_gross.csv.gz')\n",
    "conn = sqlite3.connect('data/im.db')"
   ]
  },
  {
   "cell_type": "markdown",
   "metadata": {},
   "source": [
    "# (3) Data Preparation"
   ]
  },
  {
   "cell_type": "markdown",
   "metadata": {},
   "source": [
    "## (3.i) TMDB Data\n",
    "\n",
    "This data comes from The Movie Database (TMDB), which can be accessed [here](https://www.themoviedb.org/?language=en-US).\n",
    "\n",
    "We can first check out our `tmdb_movies` data using a `.info()` and `.head()`. We can see that we have 26,517 rows to start, with 9 columns of data and an index column. We have some basic information about the film -- notably the name and release date -- as well as some metrics relating to popularity: `popularity`, `vote_average`, `vote_count`. "
   ]
  },
  {
   "cell_type": "code",
   "execution_count": 18,
   "metadata": {},
   "outputs": [
    {
     "name": "stdout",
     "output_type": "stream",
     "text": [
      "<class 'pandas.core.frame.DataFrame'>\n",
      "RangeIndex: 26517 entries, 0 to 26516\n",
      "Data columns (total 10 columns):\n",
      " #   Column             Non-Null Count  Dtype  \n",
      "---  ------             --------------  -----  \n",
      " 0   Unnamed: 0         26517 non-null  int64  \n",
      " 1   genre_ids          26517 non-null  object \n",
      " 2   id                 26517 non-null  int64  \n",
      " 3   original_language  26517 non-null  object \n",
      " 4   original_title     26517 non-null  object \n",
      " 5   popularity         26517 non-null  float64\n",
      " 6   release_date       26517 non-null  object \n",
      " 7   title              26517 non-null  object \n",
      " 8   vote_average       26517 non-null  float64\n",
      " 9   vote_count         26517 non-null  int64  \n",
      "dtypes: float64(2), int64(3), object(5)\n",
      "memory usage: 2.0+ MB\n"
     ]
    }
   ],
   "source": [
    "tmdb_movies.info()"
   ]
  },
  {
   "cell_type": "markdown",
   "metadata": {},
   "source": [
    "We'll then do some basic data cleaning. We're eventually going to merge with a few other dataframes using the name of the film, so we're going to preemptively change the `title` column to be named `primary_title`. We'll also drop those columns of data which are unnecessary for our analysis. As we would expect, we still have our 26,517 records."
   ]
  },
  {
   "cell_type": "code",
   "execution_count": 19,
   "metadata": {},
   "outputs": [
    {
     "name": "stdout",
     "output_type": "stream",
     "text": [
      "<class 'pandas.core.frame.DataFrame'>\n",
      "RangeIndex: 26517 entries, 0 to 26516\n",
      "Data columns (total 7 columns):\n",
      " #   Column         Non-Null Count  Dtype  \n",
      "---  ------         --------------  -----  \n",
      " 0   Unnamed: 0     26517 non-null  int64  \n",
      " 1   id             26517 non-null  int64  \n",
      " 2   popularity     26517 non-null  float64\n",
      " 3   release_date   26517 non-null  object \n",
      " 4   primary_title  26517 non-null  object \n",
      " 5   vote_average   26517 non-null  float64\n",
      " 6   vote_count     26517 non-null  int64  \n",
      "dtypes: float64(2), int64(3), object(2)\n",
      "memory usage: 1.4+ MB\n"
     ]
    }
   ],
   "source": [
    "# Rename the title column to primary_title to match the other dataframes\n",
    "tmdb_movies.rename(columns={'title': 'primary_title'}, inplace=True)\n",
    "# Drop the columns that are not needed\n",
    "tmdb_movies.drop(columns=['genre_ids', 'original_language', 'original_title'], inplace=True)\n",
    "tmdb_movies.info()"
   ]
  },
  {
   "cell_type": "markdown",
   "metadata": {},
   "source": [
    "## (3.ii) The Numbers Data\n",
    "Our next dataset comes from The Numbers, which can be found [here](https://www.the-numbers.com/movie/budgets/all). \n",
    "\n",
    "We'll once again start off with a `.info()` and `.head()` so that we can get a sense of what's contained in the data. Here, we get some of our financial information. Specifically, we can see the reported `production_budget` of the movie, along with its `domestic_gross` and `worldwide_gross`. From here, we'll be able to compute a rudimentary (if somewhat flawed) return on investment (ROI) figure. "
   ]
  },
  {
   "cell_type": "code",
   "execution_count": 20,
   "metadata": {},
   "outputs": [
    {
     "name": "stdout",
     "output_type": "stream",
     "text": [
      "<class 'pandas.core.frame.DataFrame'>\n",
      "RangeIndex: 5782 entries, 0 to 5781\n",
      "Data columns (total 6 columns):\n",
      " #   Column             Non-Null Count  Dtype \n",
      "---  ------             --------------  ----- \n",
      " 0   id                 5782 non-null   int64 \n",
      " 1   release_date       5782 non-null   object\n",
      " 2   movie              5782 non-null   object\n",
      " 3   production_budget  5782 non-null   object\n",
      " 4   domestic_gross     5782 non-null   object\n",
      " 5   worldwide_gross    5782 non-null   object\n",
      "dtypes: int64(1), object(5)\n",
      "memory usage: 271.2+ KB\n"
     ]
    }
   ],
   "source": [
    "tn_movie_budgets.info()"
   ]
  },
  {
   "cell_type": "code",
   "execution_count": 21,
   "metadata": {},
   "outputs": [
    {
     "data": {
      "text/html": [
       "<div>\n",
       "<style scoped>\n",
       "    .dataframe tbody tr th:only-of-type {\n",
       "        vertical-align: middle;\n",
       "    }\n",
       "\n",
       "    .dataframe tbody tr th {\n",
       "        vertical-align: top;\n",
       "    }\n",
       "\n",
       "    .dataframe thead th {\n",
       "        text-align: right;\n",
       "    }\n",
       "</style>\n",
       "<table border=\"1\" class=\"dataframe\">\n",
       "  <thead>\n",
       "    <tr style=\"text-align: right;\">\n",
       "      <th></th>\n",
       "      <th>id</th>\n",
       "      <th>release_date</th>\n",
       "      <th>movie</th>\n",
       "      <th>production_budget</th>\n",
       "      <th>domestic_gross</th>\n",
       "      <th>worldwide_gross</th>\n",
       "    </tr>\n",
       "  </thead>\n",
       "  <tbody>\n",
       "    <tr>\n",
       "      <th>0</th>\n",
       "      <td>1</td>\n",
       "      <td>Dec 18, 2009</td>\n",
       "      <td>Avatar</td>\n",
       "      <td>$425,000,000</td>\n",
       "      <td>$760,507,625</td>\n",
       "      <td>$2,776,345,279</td>\n",
       "    </tr>\n",
       "    <tr>\n",
       "      <th>1</th>\n",
       "      <td>2</td>\n",
       "      <td>May 20, 2011</td>\n",
       "      <td>Pirates of the Caribbean: On Stranger Tides</td>\n",
       "      <td>$410,600,000</td>\n",
       "      <td>$241,063,875</td>\n",
       "      <td>$1,045,663,875</td>\n",
       "    </tr>\n",
       "    <tr>\n",
       "      <th>2</th>\n",
       "      <td>3</td>\n",
       "      <td>Jun 7, 2019</td>\n",
       "      <td>Dark Phoenix</td>\n",
       "      <td>$350,000,000</td>\n",
       "      <td>$42,762,350</td>\n",
       "      <td>$149,762,350</td>\n",
       "    </tr>\n",
       "    <tr>\n",
       "      <th>3</th>\n",
       "      <td>4</td>\n",
       "      <td>May 1, 2015</td>\n",
       "      <td>Avengers: Age of Ultron</td>\n",
       "      <td>$330,600,000</td>\n",
       "      <td>$459,005,868</td>\n",
       "      <td>$1,403,013,963</td>\n",
       "    </tr>\n",
       "    <tr>\n",
       "      <th>4</th>\n",
       "      <td>5</td>\n",
       "      <td>Dec 15, 2017</td>\n",
       "      <td>Star Wars Ep. VIII: The Last Jedi</td>\n",
       "      <td>$317,000,000</td>\n",
       "      <td>$620,181,382</td>\n",
       "      <td>$1,316,721,747</td>\n",
       "    </tr>\n",
       "  </tbody>\n",
       "</table>\n",
       "</div>"
      ],
      "text/plain": [
       "   id  release_date                                        movie  \\\n",
       "0   1  Dec 18, 2009                                       Avatar   \n",
       "1   2  May 20, 2011  Pirates of the Caribbean: On Stranger Tides   \n",
       "2   3   Jun 7, 2019                                 Dark Phoenix   \n",
       "3   4   May 1, 2015                      Avengers: Age of Ultron   \n",
       "4   5  Dec 15, 2017            Star Wars Ep. VIII: The Last Jedi   \n",
       "\n",
       "  production_budget domestic_gross worldwide_gross  \n",
       "0      $425,000,000   $760,507,625  $2,776,345,279  \n",
       "1      $410,600,000   $241,063,875  $1,045,663,875  \n",
       "2      $350,000,000    $42,762,350    $149,762,350  \n",
       "3      $330,600,000   $459,005,868  $1,403,013,963  \n",
       "4      $317,000,000   $620,181,382  $1,316,721,747  "
      ]
     },
     "execution_count": 21,
     "metadata": {},
     "output_type": "execute_result"
    }
   ],
   "source": [
    "tn_movie_budgets.head()"
   ]
  },
  {
   "cell_type": "markdown",
   "metadata": {},
   "source": [
    "We can also see that the `movie` column corresponds to the name of the film, so we will once again rename that column to `primary_title` so that we can perform merges later. Additionally, the financial columns are formatted as strings rather than integers. We will first strip the dollar signs and commas out of the string and then convert the columns to the integer datatype, so that we can more easily perform our analyses. We also will convert `release_date` to a `datetime` object, and from there extract both the month and year of release, and create the corresponding columns `release_month` and `release_year`."
   ]
  },
  {
   "cell_type": "code",
   "execution_count": 22,
   "metadata": {},
   "outputs": [
    {
     "name": "stdout",
     "output_type": "stream",
     "text": [
      "<class 'pandas.core.frame.DataFrame'>\n",
      "RangeIndex: 5782 entries, 0 to 5781\n",
      "Data columns (total 6 columns):\n",
      " #   Column             Non-Null Count  Dtype \n",
      "---  ------             --------------  ----- \n",
      " 0   id                 5782 non-null   int64 \n",
      " 1   release_date       5782 non-null   object\n",
      " 2   primary_title      5782 non-null   object\n",
      " 3   production_budget  5782 non-null   object\n",
      " 4   domestic_gross     5782 non-null   object\n",
      " 5   worldwide_gross    5782 non-null   object\n",
      "dtypes: int64(1), object(5)\n",
      "memory usage: 271.2+ KB\n"
     ]
    }
   ],
   "source": [
    "# Rename the movie column to primary_title to match the other dataframes\n",
    "tn_movie_budgets.rename(columns={'movie': 'primary_title'}, inplace=True)\n",
    "tn_movie_budgets.info()"
   ]
  },
  {
   "cell_type": "code",
   "execution_count": 23,
   "metadata": {},
   "outputs": [],
   "source": [
    "# Convert the release_date column to a datetime object and create new columns for release_month and release_year\n",
    "tn_movie_budgets['release_date'] = pd.to_datetime(tn_movie_budgets['release_date'])\n",
    "tn_movie_budgets['release_month'] = pd.to_datetime(tn_movie_budgets['release_date']).dt.month_name()\n",
    "tn_movie_budgets['release_year'] = pd.to_datetime(tn_movie_budgets['release_date']).dt.year"
   ]
  },
  {
   "cell_type": "code",
   "execution_count": 24,
   "metadata": {},
   "outputs": [
    {
     "name": "stdout",
     "output_type": "stream",
     "text": [
      "<class 'pandas.core.frame.DataFrame'>\n",
      "RangeIndex: 5782 entries, 0 to 5781\n",
      "Data columns (total 8 columns):\n",
      " #   Column             Non-Null Count  Dtype         \n",
      "---  ------             --------------  -----         \n",
      " 0   id                 5782 non-null   int64         \n",
      " 1   release_date       5782 non-null   datetime64[ns]\n",
      " 2   primary_title      5782 non-null   object        \n",
      " 3   production_budget  5782 non-null   int64         \n",
      " 4   domestic_gross     5782 non-null   int64         \n",
      " 5   worldwide_gross    5782 non-null   int64         \n",
      " 6   release_month      5782 non-null   object        \n",
      " 7   release_year       5782 non-null   int64         \n",
      "dtypes: datetime64[ns](1), int64(5), object(2)\n",
      "memory usage: 361.5+ KB\n"
     ]
    }
   ],
   "source": [
    "# Create a function to allow us to convert the columns to integers\n",
    "def convert_to_int(df, column):\n",
    "    df[column] = df[column].str.replace('$', '')\n",
    "    df[column] = df[column].str.replace(',', '').astype(int)\n",
    "    return df[column]\n",
    "\n",
    "# Call the function for our three columns\n",
    "convert_to_int(tn_movie_budgets, 'domestic_gross')\n",
    "convert_to_int(tn_movie_budgets, 'worldwide_gross')\n",
    "convert_to_int(tn_movie_budgets, 'production_budget')\n",
    "\n",
    "# Check to make sure everything looks alright\n",
    "tn_movie_budgets.info()"
   ]
  },
  {
   "cell_type": "code",
   "execution_count": 25,
   "metadata": {},
   "outputs": [
    {
     "data": {
      "text/plain": [
       "December     745\n",
       "October      573\n",
       "August       496\n",
       "September    493\n",
       "November     486\n",
       "June         479\n",
       "March        470\n",
       "April        454\n",
       "July         440\n",
       "May          407\n",
       "February     392\n",
       "January      347\n",
       "Name: release_month, dtype: int64"
      ]
     },
     "execution_count": 25,
     "metadata": {},
     "output_type": "execute_result"
    }
   ],
   "source": [
    "# We'll also order our months chronologically, so when we plot them, the x\n",
    "# Axis won't be in alphabetical order.\n",
    "months = ['January', 'February', 'March', 'April', 'May', 'June', 'July', 'August', 'September', 'October', 'November', 'December']\n",
    "tn_movie_budgets['release_month'] = pd.Categorical(tn_movie_budgets['release_month'], categories=months, ordered=True)\n",
    "tn_movie_budgets['release_month'].value_counts()"
   ]
  },
  {
   "cell_type": "markdown",
   "metadata": {},
   "source": [
    "### Removing zeroes\n",
    "\n",
    "Within this dataset, we have a number of films for which there is no reported budget data. Since one of our chief concerns is the financial success of a film, the lack of data on these fronts makes those records useless. \n",
    "\n",
    "We first check to make sure that removing the data for which we have no budget information does not throw out an excessive number of records. We go from 5,782 entries to 5,234, so it seems pretty safe to remove the zeroes."
   ]
  },
  {
   "cell_type": "code",
   "execution_count": 26,
   "metadata": {},
   "outputs": [
    {
     "name": "stdout",
     "output_type": "stream",
     "text": [
      "<class 'pandas.core.frame.DataFrame'>\n",
      "RangeIndex: 5782 entries, 0 to 5781\n",
      "Data columns (total 8 columns):\n",
      " #   Column             Non-Null Count  Dtype         \n",
      "---  ------             --------------  -----         \n",
      " 0   id                 5782 non-null   int64         \n",
      " 1   release_date       5782 non-null   datetime64[ns]\n",
      " 2   primary_title      5782 non-null   object        \n",
      " 3   production_budget  5782 non-null   int64         \n",
      " 4   domestic_gross     5782 non-null   int64         \n",
      " 5   worldwide_gross    5782 non-null   int64         \n",
      " 6   release_month      5782 non-null   category      \n",
      " 7   release_year       5782 non-null   int64         \n",
      "dtypes: category(1), datetime64[ns](1), int64(5), object(1)\n",
      "memory usage: 322.4+ KB\n"
     ]
    }
   ],
   "source": [
    "tn_movie_budgets.info()"
   ]
  },
  {
   "cell_type": "code",
   "execution_count": 44,
   "metadata": {},
   "outputs": [
    {
     "name": "stdout",
     "output_type": "stream",
     "text": [
      "<class 'pandas.core.frame.DataFrame'>\n",
      "Int64Index: 4387 entries, 0 to 5781\n",
      "Data columns (total 8 columns):\n",
      " #   Column             Non-Null Count  Dtype         \n",
      "---  ------             --------------  -----         \n",
      " 0   id                 4387 non-null   int64         \n",
      " 1   release_date       4387 non-null   datetime64[ns]\n",
      " 2   primary_title      4387 non-null   object        \n",
      " 3   production_budget  4387 non-null   int64         \n",
      " 4   domestic_gross     3865 non-null   object        \n",
      " 5   worldwide_gross    4387 non-null   int64         \n",
      " 6   release_month      4387 non-null   category      \n",
      " 7   release_year       4387 non-null   int64         \n",
      "dtypes: category(1), datetime64[ns](1), int64(4), object(2)\n",
      "memory usage: 278.9+ KB\n"
     ]
    }
   ],
   "source": [
    "tn_movie_budgets[tn_movie_budgets['domestic_gross'] != 0].info()"
   ]
  },
  {
   "cell_type": "code",
   "execution_count": 45,
   "metadata": {},
   "outputs": [
    {
     "name": "stdout",
     "output_type": "stream",
     "text": [
      "<class 'pandas.core.frame.DataFrame'>\n",
      "Int64Index: 0 entries\n",
      "Data columns (total 8 columns):\n",
      " #   Column             Non-Null Count  Dtype         \n",
      "---  ------             --------------  -----         \n",
      " 0   id                 0 non-null      int64         \n",
      " 1   release_date       0 non-null      datetime64[ns]\n",
      " 2   primary_title      0 non-null      object        \n",
      " 3   production_budget  0 non-null      int64         \n",
      " 4   domestic_gross     0 non-null      object        \n",
      " 5   worldwide_gross    0 non-null      int64         \n",
      " 6   release_month      0 non-null      category      \n",
      " 7   release_year       0 non-null      int64         \n",
      "dtypes: category(1), datetime64[ns](1), int64(4), object(2)\n",
      "memory usage: 416.0+ bytes\n"
     ]
    }
   ],
   "source": [
    "tn_movie_budgets[tn_movie_budgets['domestic_gross'] == 0].info()"
   ]
  },
  {
   "cell_type": "code",
   "execution_count": 46,
   "metadata": {},
   "outputs": [],
   "source": [
    "# Since we wouldn't lose too much data, we can drop the zeroes\n",
    "tn_movie_budgets['domestic_gross'] = tn_movie_budgets[tn_movie_budgets['domestic_gross'] != 0]"
   ]
  },
  {
   "cell_type": "code",
   "execution_count": 47,
   "metadata": {},
   "outputs": [
    {
     "name": "stdout",
     "output_type": "stream",
     "text": [
      "<class 'pandas.core.frame.DataFrame'>\n",
      "Int64Index: 0 entries\n",
      "Data columns (total 8 columns):\n",
      " #   Column             Non-Null Count  Dtype         \n",
      "---  ------             --------------  -----         \n",
      " 0   id                 0 non-null      int64         \n",
      " 1   release_date       0 non-null      datetime64[ns]\n",
      " 2   primary_title      0 non-null      object        \n",
      " 3   production_budget  0 non-null      int64         \n",
      " 4   domestic_gross     0 non-null      object        \n",
      " 5   worldwide_gross    0 non-null      int64         \n",
      " 6   release_month      0 non-null      category      \n",
      " 7   release_year       0 non-null      int64         \n",
      "dtypes: category(1), datetime64[ns](1), int64(4), object(2)\n",
      "memory usage: 416.0+ bytes\n"
     ]
    }
   ],
   "source": [
    "tn_movie_budgets[tn_movie_budgets['domestic_gross'] == 0].info()"
   ]
  },
  {
   "cell_type": "markdown",
   "metadata": {},
   "source": [
    "One potentially problematic point is the spread of data for the `release_year`. Just from a preliminary look, we can see that there are a handful of films from the very early days of cinema. Since these will likely not have huge bearing on a start-up production company today, and since they constitute a very small proportion of our data, we can go ahead and filter them out. \n",
    "\n",
    "Below, you can see the distribution and count for our full dataset. We go from 5234 entries to 3865 entries."
   ]
  },
  {
   "cell_type": "code",
   "execution_count": 30,
   "metadata": {},
   "outputs": [
    {
     "data": {
      "text/plain": [
       "1915      1\n",
       "1916      2\n",
       "1920      1\n",
       "1925      2\n",
       "1927      1\n",
       "       ... \n",
       "2016    219\n",
       "2017    168\n",
       "2018    143\n",
       "2019     67\n",
       "2020      3\n",
       "Name: release_year, Length: 96, dtype: int64"
      ]
     },
     "execution_count": 30,
     "metadata": {},
     "output_type": "execute_result"
    }
   ],
   "source": [
    "tn_movie_budgets['release_year'].value_counts().sort_index()"
   ]
  },
  {
   "cell_type": "code",
   "execution_count": 34,
   "metadata": {},
   "outputs": [
    {
     "name": "stdout",
     "output_type": "stream",
     "text": [
      "<class 'pandas.core.frame.DataFrame'>\n",
      "RangeIndex: 5782 entries, 0 to 5781\n",
      "Data columns (total 8 columns):\n",
      " #   Column             Non-Null Count  Dtype         \n",
      "---  ------             --------------  -----         \n",
      " 0   id                 5782 non-null   int64         \n",
      " 1   release_date       5782 non-null   datetime64[ns]\n",
      " 2   primary_title      5782 non-null   object        \n",
      " 3   production_budget  5782 non-null   int64         \n",
      " 4   domestic_gross     5782 non-null   int64         \n",
      " 5   worldwide_gross    5782 non-null   int64         \n",
      " 6   release_month      5782 non-null   category      \n",
      " 7   release_year       5782 non-null   int64         \n",
      "dtypes: category(1), datetime64[ns](1), int64(5), object(1)\n",
      "memory usage: 322.4+ KB\n"
     ]
    },
    {
     "data": {
      "image/png": "[encoded data removed]",
      "text/plain": [
       "<Figure size 2160x720 with 1 Axes>"
      ]
     },
     "metadata": {},
     "output_type": "display_data"
    }
   ],
   "source": [
    "ax1 = plt.subplots(figsize = (30, 10))\n",
    "\n",
    "ax1 = tn_movie_budgets['release_year'].value_counts().sort_index().plot.bar()\n",
    "ax1.set_title('Number of Films Released per Year')\n",
    "ax1.set_xlabel('Release Year')\n",
    "ax1.set_ylabel('Number of Films Released')\n",
    "\n",
    "plt.style.use('ggplot')\n",
    "tn_movie_budgets.info()\n"
   ]
  },
  {
   "cell_type": "markdown",
   "metadata": {},
   "source": [
    "This graph justifies our decision to focus only on data from recent films. As the vast majority of films in this dataset are post-2000, we will subset to this period."
   ]
  },
  {
   "cell_type": "code",
   "execution_count": 35,
   "metadata": {},
   "outputs": [
    {
     "name": "stdout",
     "output_type": "stream",
     "text": [
      "<class 'pandas.core.frame.DataFrame'>\n",
      "Int64Index: 4387 entries, 0 to 5781\n",
      "Data columns (total 8 columns):\n",
      " #   Column             Non-Null Count  Dtype         \n",
      "---  ------             --------------  -----         \n",
      " 0   id                 4387 non-null   int64         \n",
      " 1   release_date       4387 non-null   datetime64[ns]\n",
      " 2   primary_title      4387 non-null   object        \n",
      " 3   production_budget  4387 non-null   int64         \n",
      " 4   domestic_gross     4387 non-null   int64         \n",
      " 5   worldwide_gross    4387 non-null   int64         \n",
      " 6   release_month      4387 non-null   category      \n",
      " 7   release_year       4387 non-null   int64         \n",
      "dtypes: category(1), datetime64[ns](1), int64(5), object(1)\n",
      "memory usage: 278.9+ KB\n"
     ]
    },
    {
     "data": {
      "image/png": "[encoded data removed]",
      "text/plain": [
       "<Figure size 432x288 with 1 Axes>"
      ]
     },
     "metadata": {},
     "output_type": "display_data"
    }
   ],
   "source": [
    "tn_2000 = tn_movie_budgets[tn_movie_budgets['release_year'] >= 2000].copy()\n",
    "\n",
    "ax2 = tn_2000['release_year'].value_counts().sort_index().plot.bar()\n",
    "ax2.set_title('Number of Films Released per Year after 2000')\n",
    "ax2.set_xlabel('Release Year')\n",
    "ax2.set_ylabel('Number of Films Released')\n",
    "\n",
    "\n",
    "plt.style.use('ggplot')\n",
    "tn_2000.info()"
   ]
  },
  {
   "cell_type": "code",
   "execution_count": 36,
   "metadata": {},
   "outputs": [
    {
     "name": "stdout",
     "output_type": "stream",
     "text": [
      "<class 'pandas.core.frame.DataFrame'>\n",
      "Int64Index: 4387 entries, 0 to 5781\n",
      "Data columns (total 8 columns):\n",
      " #   Column             Non-Null Count  Dtype         \n",
      "---  ------             --------------  -----         \n",
      " 0   id                 4387 non-null   int64         \n",
      " 1   release_date       4387 non-null   datetime64[ns]\n",
      " 2   primary_title      4387 non-null   object        \n",
      " 3   production_budget  4387 non-null   int64         \n",
      " 4   domestic_gross     4387 non-null   int64         \n",
      " 5   worldwide_gross    4387 non-null   int64         \n",
      " 6   release_month      4387 non-null   category      \n",
      " 7   release_year       4387 non-null   int64         \n",
      "dtypes: category(1), datetime64[ns](1), int64(5), object(1)\n",
      "memory usage: 278.9+ KB\n"
     ]
    }
   ],
   "source": [
    "# Saving the year filter in place\n",
    "tn_movie_budgets = tn_movie_budgets[tn_movie_budgets['release_year'] >= 2000].copy()\n",
    "tn_movie_budgets.info()"
   ]
  },
  {
   "cell_type": "markdown",
   "metadata": {},
   "source": [
    "### Creating an ROI Column"
   ]
  },
  {
   "cell_type": "code",
   "execution_count": 55,
   "metadata": {},
   "outputs": [],
   "source": [
    "tn_movie_budgets['domestic_ROI'] = ((tn_movie_budgets['domestic_gross'] - tn_movie_budgets['production_budget']) / tn_movie_budgets['production_budget']) * 100\n",
    "\n",
    "tn_movie_budgets['worldwide_ROI'] = ((tn_movie_budgets['worldwide_gross'] - tn_movie_budgets['production_budget']) / tn_movie_budgets['production_budget']) * 100"
   ]
  },
  {
   "cell_type": "markdown",
   "metadata": {},
   "source": [
    "### Removing Budget Outliers"
   ]
  },
  {
   "cell_type": "code",
   "execution_count": 56,
   "metadata": {},
   "outputs": [
    {
     "data": {
      "image/png": "[encoded data removed]",
      "text/plain": [
       "<Figure size 432x288 with 1 Axes>"
      ]
     },
     "metadata": {},
     "output_type": "display_data"
    }
   ],
   "source": [
    "#Boxplot to visualize the outliers\n",
    "sns.boxplot(x=tn_movie_budgets['production_budget'])\n",
    "plt.show()"
   ]
  },
  {
   "cell_type": "code",
   "execution_count": 58,
   "metadata": {},
   "outputs": [],
   "source": [
    "# Calculating the first and third quartiles for production budget\n",
    "Q1 = tn_movie_budgets['production_budget'].quantile(0.25)\n",
    "Q3 = tn_movie_budgets['production_budget'].quantile(0.75)\n",
    "\n",
    "# Calculating the Interquartile Range\n",
    "IQR = Q3 - Q1\n",
    "\n",
    "# Getting the lower and upper bounds for outliers\n",
    "lower_bound = Q1 - 1.5 * IQR\n",
    "upper_bound = Q3 + 1.5 * IQR\n",
    "\n",
    "# Removing the rows with production budget outliers, saving as a separate df\n",
    "tn_movie_budgets_no_outliers= tn_movie_budgets.loc[(tn_movie_budgets['production_budget'] >= lower_bound) & (tn_movie_budgets['production_budget'] <= upper_bound)]\n"
   ]
  },
  {
   "cell_type": "markdown",
   "metadata": {},
   "source": [
    "## (3.iii) SQL IMDB Database"
   ]
  },
  {
   "cell_type": "code",
   "execution_count": 62,
   "metadata": {},
   "outputs": [
    {
     "data": {
      "text/html": [
       "<div>\n",
       "<style scoped>\n",
       "    .dataframe tbody tr th:only-of-type {\n",
       "        vertical-align: middle;\n",
       "    }\n",
       "\n",
       "    .dataframe tbody tr th {\n",
       "        vertical-align: top;\n",
       "    }\n",
       "\n",
       "    .dataframe thead th {\n",
       "        text-align: right;\n",
       "    }\n",
       "</style>\n",
       "<table border=\"1\" class=\"dataframe\">\n",
       "  <thead>\n",
       "    <tr style=\"text-align: right;\">\n",
       "      <th></th>\n",
       "      <th>Table Names</th>\n",
       "    </tr>\n",
       "  </thead>\n",
       "  <tbody>\n",
       "    <tr>\n",
       "      <th>0</th>\n",
       "      <td>movie_basics</td>\n",
       "    </tr>\n",
       "    <tr>\n",
       "      <th>1</th>\n",
       "      <td>directors</td>\n",
       "    </tr>\n",
       "    <tr>\n",
       "      <th>2</th>\n",
       "      <td>known_for</td>\n",
       "    </tr>\n",
       "    <tr>\n",
       "      <th>3</th>\n",
       "      <td>movie_akas</td>\n",
       "    </tr>\n",
       "    <tr>\n",
       "      <th>4</th>\n",
       "      <td>movie_ratings</td>\n",
       "    </tr>\n",
       "    <tr>\n",
       "      <th>5</th>\n",
       "      <td>persons</td>\n",
       "    </tr>\n",
       "    <tr>\n",
       "      <th>6</th>\n",
       "      <td>principals</td>\n",
       "    </tr>\n",
       "    <tr>\n",
       "      <th>7</th>\n",
       "      <td>writers</td>\n",
       "    </tr>\n",
       "  </tbody>\n",
       "</table>\n",
       "</div>"
      ],
      "text/plain": [
       "     Table Names\n",
       "0   movie_basics\n",
       "1      directors\n",
       "2      known_for\n",
       "3     movie_akas\n",
       "4  movie_ratings\n",
       "5        persons\n",
       "6     principals\n",
       "7        writers"
      ]
     },
     "execution_count": 62,
     "metadata": {},
     "output_type": "execute_result"
    }
   ],
   "source": [
    "# Viewing the schema\n",
    "pd.read_sql('SELECT name AS \"Table Names\" FROM sqlite_master WHERE type=\"table\"', conn)"
   ]
  },
  {
   "cell_type": "code",
   "execution_count": null,
   "metadata": {},
   "outputs": [],
   "source": []
  },
  {
   "cell_type": "markdown",
   "metadata": {},
   "source": [
    "# Data Analysis"
   ]
  },
  {
   "cell_type": "code",
   "execution_count": null,
   "metadata": {},
   "outputs": [],
   "source": []
  },
  {
   "cell_type": "code",
   "execution_count": null,
   "metadata": {},
   "outputs": [],
   "source": []
  },
  {
   "cell_type": "markdown",
   "metadata": {},
   "source": [
    "# Conclusion"
   ]
  },
  {
   "cell_type": "markdown",
   "metadata": {},
   "source": [
    "## Recommendations"
   ]
  },
  {
   "cell_type": "markdown",
   "metadata": {},
   "source": [
    "## Limitations"
   ]
  },
  {
   "cell_type": "markdown",
   "metadata": {},
   "source": [
    "## Next Steps"
   ]
  },
  {
   "cell_type": "code",
   "execution_count": null,
   "metadata": {},
   "outputs": [],
   "source": []
  }
 ],
 "metadata": {
  "kernelspec": {
   "display_name": "Python 3",
   "language": "python",
   "name": "python3"
  },
  "language_info": {
   "codemirror_mode": {
    "name": "ipython",
    "version": 3
   },
   "file_extension": ".py",
   "mimetype": "text/x-python",
   "name": "python",
   "nbconvert_exporter": "python",
   "pygments_lexer": "ipython3",
   "version": "3.8.5"
  }
 },
 "nbformat": 4,
 "nbformat_minor": 2
}
