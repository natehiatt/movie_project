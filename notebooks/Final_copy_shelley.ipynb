{
 "cells": [
  {
   "cell_type": "code",
   "execution_count": 1,
   "metadata": {},
   "outputs": [],
   "source": [
    "import pandas as pd\n",
    "import numpy as np\n",
    "import matplotlib.pyplot as plt\n",
    "import seaborn as sns\n",
    "import scipy.stats as stats\n",
    "import sqlite3\n",
    "import statsmodels.api as sm\n",
    "from lin_reg import best_line"
   ]
  },
  {
   "cell_type": "markdown",
   "metadata": {},
   "source": [
    "Table of Contents\n",
    "1. Business Understanding\n",
    "2. Data Understanding\n",
    "3. Data Preparation\n",
    "    3.i. TMDB data\n",
    "3.ii. The numbers data\n",
    "3.ii.a. Removing zeroes\n",
    "3.ii.b Keeping Only Post-2000 Data (Inclusive)\n",
    "3.ii.c. Creating an ROI column\n",
    "3.ii.d. Removing Budget Outliers\n",
    "3.iii. SQL IMDB Database\n",
    "3.iii.a Creating Directors and Writers DataFrames\n",
    "3.iv. Getting DataFrames for Runtime and Budget Regressions\n",
    "3.v. Creating DataFrames for 2-D and 3-D Movies\n",
    "Data Analysis\n",
    "4.i Release Month Analysis\n",
    "4.ii 3-D vs. 2-D Analysis\n",
    "4.ii.a 2-Sample T-Tests on 2-D vs. 3-D\n",
    "4.iii. Experienced vs. Inexperienced Directors and Writers Analysis\n",
    "Directors hypothesis test\n",
    "Writers hypothesis test\n",
    "4.iv. Runtime and Budget Analysis\n",
    "Budget Regressions and Visuals\n",
    "Runtime Regressions and Visuals\n"
   ]
  },
  {
   "cell_type": "markdown",
   "metadata": {},
   "source": [
    "# (1) Business Understanding "
   ]
  },
  {
   "cell_type": "code",
   "execution_count": null,
   "metadata": {},
   "outputs": [],
   "source": []
  },
  {
   "cell_type": "markdown",
   "metadata": {},
   "source": [
    "# (2) Data Understanding"
   ]
  },
  {
   "cell_type": "code",
   "execution_count": 2,
   "metadata": {},
   "outputs": [],
   "source": [
    "# Importing our datasets\n",
    "\n",
    "tn_movie_budgets = pd.read_csv('../data/tn.movie_budgets.csv.gz')\n",
    "tmdb_movies = pd.read_csv('../data/tmdb.movies.csv.gz')\n",
    "rt_reviews = pd.read_csv('../data/rt.reviews.tsv.gz', sep = '\\t', encoding='latin-1')\n",
    "rt_movie_info = pd.read_csv('../data/rt.movie_info.tsv.gz', sep = '\\t')\n",
    "movie_gross = pd.read_csv('../data/bom.movie_gross.csv.gz')\n",
    "conn = sqlite3.connect('../data/im.db')"
   ]
  },
  {
   "cell_type": "markdown",
   "metadata": {},
   "source": [
    "# (3) Data Preparation"
   ]
  },
  {
   "cell_type": "markdown",
   "metadata": {},
   "source": [
    "## (3.i) TMDB Data\n",
    "\n",
    "This data comes from The Movie Database (TMDB), which can be accessed [here](https://www.themoviedb.org/?language=en-US).\n",
    "\n",
    "We can first check out our `tmdb_movies` data using a `.info()` and `.head()`. We can see that we have 26,517 rows to start, with 9 columns of data and an index column. We have some basic information about the film -- notably the name and release date -- as well as some metrics relating to popularity: `popularity`, `vote_average`, `vote_count`. "
   ]
  },
  {
   "cell_type": "code",
   "execution_count": 3,
   "metadata": {},
   "outputs": [
    {
     "name": "stdout",
     "output_type": "stream",
     "text": [
      "<class 'pandas.core.frame.DataFrame'>\n",
      "RangeIndex: 26517 entries, 0 to 26516\n",
      "Data columns (total 10 columns):\n",
      " #   Column             Non-Null Count  Dtype  \n",
      "---  ------             --------------  -----  \n",
      " 0   Unnamed: 0         26517 non-null  int64  \n",
      " 1   genre_ids          26517 non-null  object \n",
      " 2   id                 26517 non-null  int64  \n",
      " 3   original_language  26517 non-null  object \n",
      " 4   original_title     26517 non-null  object \n",
      " 5   popularity         26517 non-null  float64\n",
      " 6   release_date       26517 non-null  object \n",
      " 7   title              26517 non-null  object \n",
      " 8   vote_average       26517 non-null  float64\n",
      " 9   vote_count         26517 non-null  int64  \n",
      "dtypes: float64(2), int64(3), object(5)\n",
      "memory usage: 2.0+ MB\n"
     ]
    }
   ],
   "source": [
    "tmdb_movies.info()"
   ]
  },
  {
   "cell_type": "markdown",
   "metadata": {},
   "source": [
    "We'll then do some basic data cleaning. We're eventually going to merge with a few other dataframes using the name of the film, so we're going to preemptively change the `title` column to be named `primary_title`. We'll also drop those columns of data which are unnecessary for our analysis. As we would expect, we still have our 26,517 records."
   ]
  },
  {
   "cell_type": "code",
   "execution_count": 4,
   "metadata": {},
   "outputs": [
    {
     "name": "stdout",
     "output_type": "stream",
     "text": [
      "<class 'pandas.core.frame.DataFrame'>\n",
      "RangeIndex: 26517 entries, 0 to 26516\n",
      "Data columns (total 7 columns):\n",
      " #   Column         Non-Null Count  Dtype  \n",
      "---  ------         --------------  -----  \n",
      " 0   Unnamed: 0     26517 non-null  int64  \n",
      " 1   id             26517 non-null  int64  \n",
      " 2   popularity     26517 non-null  float64\n",
      " 3   release_date   26517 non-null  object \n",
      " 4   primary_title  26517 non-null  object \n",
      " 5   vote_average   26517 non-null  float64\n",
      " 6   vote_count     26517 non-null  int64  \n",
      "dtypes: float64(2), int64(3), object(2)\n",
      "memory usage: 1.4+ MB\n"
     ]
    }
   ],
   "source": [
    "# Rename the title column to primary_title to match the other dataframes\n",
    "tmdb_movies.rename(columns={'title': 'primary_title'}, inplace=True)\n",
    "# Drop the columns that are not needed\n",
    "tmdb_movies.drop(columns=['genre_ids', 'original_language', 'original_title'], inplace=True)\n",
    "tmdb_movies.info()"
   ]
  },
  {
   "cell_type": "markdown",
   "metadata": {},
   "source": [
    "## (3.ii) The Numbers Data\n",
    "Our next dataset comes from The Numbers, which can be found [here](https://www.the-numbers.com/movie/budgets/all). \n",
    "\n",
    "We'll once again start off with a `.info()` and `.head()` so that we can get a sense of what's contained in the data. Here, we get some of our financial information. Specifically, we can see the reported `production_budget` of the movie, along with its `domestic_gross` and `worldwide_gross`. From here, we'll be able to compute a rudimentary (if somewhat flawed) return on investment (ROI) figure. "
   ]
  },
  {
   "cell_type": "code",
   "execution_count": 5,
   "metadata": {},
   "outputs": [
    {
     "name": "stdout",
     "output_type": "stream",
     "text": [
      "<class 'pandas.core.frame.DataFrame'>\n",
      "RangeIndex: 5782 entries, 0 to 5781\n",
      "Data columns (total 6 columns):\n",
      " #   Column             Non-Null Count  Dtype \n",
      "---  ------             --------------  ----- \n",
      " 0   id                 5782 non-null   int64 \n",
      " 1   release_date       5782 non-null   object\n",
      " 2   movie              5782 non-null   object\n",
      " 3   production_budget  5782 non-null   object\n",
      " 4   domestic_gross     5782 non-null   object\n",
      " 5   worldwide_gross    5782 non-null   object\n",
      "dtypes: int64(1), object(5)\n",
      "memory usage: 271.2+ KB\n"
     ]
    }
   ],
   "source": [
    "tn_movie_budgets.info()"
   ]
  },
  {
   "cell_type": "code",
   "execution_count": 6,
   "metadata": {},
   "outputs": [
    {
     "data": {
      "text/html": [
       "<div>\n",
       "<style scoped>\n",
       "    .dataframe tbody tr th:only-of-type {\n",
       "        vertical-align: middle;\n",
       "    }\n",
       "\n",
       "    .dataframe tbody tr th {\n",
       "        vertical-align: top;\n",
       "    }\n",
       "\n",
       "    .dataframe thead th {\n",
       "        text-align: right;\n",
       "    }\n",
       "</style>\n",
       "<table border=\"1\" class=\"dataframe\">\n",
       "  <thead>\n",
       "    <tr style=\"text-align: right;\">\n",
       "      <th></th>\n",
       "      <th>id</th>\n",
       "      <th>release_date</th>\n",
       "      <th>movie</th>\n",
       "      <th>production_budget</th>\n",
       "      <th>domestic_gross</th>\n",
       "      <th>worldwide_gross</th>\n",
       "    </tr>\n",
       "  </thead>\n",
       "  <tbody>\n",
       "    <tr>\n",
       "      <th>0</th>\n",
       "      <td>1</td>\n",
       "      <td>Dec 18, 2009</td>\n",
       "      <td>Avatar</td>\n",
       "      <td>$425,000,000</td>\n",
       "      <td>$760,507,625</td>\n",
       "      <td>$2,776,345,279</td>\n",
       "    </tr>\n",
       "    <tr>\n",
       "      <th>1</th>\n",
       "      <td>2</td>\n",
       "      <td>May 20, 2011</td>\n",
       "      <td>Pirates of the Caribbean: On Stranger Tides</td>\n",
       "      <td>$410,600,000</td>\n",
       "      <td>$241,063,875</td>\n",
       "      <td>$1,045,663,875</td>\n",
       "    </tr>\n",
       "    <tr>\n",
       "      <th>2</th>\n",
       "      <td>3</td>\n",
       "      <td>Jun 7, 2019</td>\n",
       "      <td>Dark Phoenix</td>\n",
       "      <td>$350,000,000</td>\n",
       "      <td>$42,762,350</td>\n",
       "      <td>$149,762,350</td>\n",
       "    </tr>\n",
       "    <tr>\n",
       "      <th>3</th>\n",
       "      <td>4</td>\n",
       "      <td>May 1, 2015</td>\n",
       "      <td>Avengers: Age of Ultron</td>\n",
       "      <td>$330,600,000</td>\n",
       "      <td>$459,005,868</td>\n",
       "      <td>$1,403,013,963</td>\n",
       "    </tr>\n",
       "    <tr>\n",
       "      <th>4</th>\n",
       "      <td>5</td>\n",
       "      <td>Dec 15, 2017</td>\n",
       "      <td>Star Wars Ep. VIII: The Last Jedi</td>\n",
       "      <td>$317,000,000</td>\n",
       "      <td>$620,181,382</td>\n",
       "      <td>$1,316,721,747</td>\n",
       "    </tr>\n",
       "  </tbody>\n",
       "</table>\n",
       "</div>"
      ],
      "text/plain": [
       "   id  release_date                                        movie  \\\n",
       "0   1  Dec 18, 2009                                       Avatar   \n",
       "1   2  May 20, 2011  Pirates of the Caribbean: On Stranger Tides   \n",
       "2   3   Jun 7, 2019                                 Dark Phoenix   \n",
       "3   4   May 1, 2015                      Avengers: Age of Ultron   \n",
       "4   5  Dec 15, 2017            Star Wars Ep. VIII: The Last Jedi   \n",
       "\n",
       "  production_budget domestic_gross worldwide_gross  \n",
       "0      $425,000,000   $760,507,625  $2,776,345,279  \n",
       "1      $410,600,000   $241,063,875  $1,045,663,875  \n",
       "2      $350,000,000    $42,762,350    $149,762,350  \n",
       "3      $330,600,000   $459,005,868  $1,403,013,963  \n",
       "4      $317,000,000   $620,181,382  $1,316,721,747  "
      ]
     },
     "execution_count": 6,
     "metadata": {},
     "output_type": "execute_result"
    }
   ],
   "source": [
    "tn_movie_budgets.head()"
   ]
  },
  {
   "cell_type": "markdown",
   "metadata": {},
   "source": [
    "We can also see that the `movie` column corresponds to the name of the film, so we will once again rename that column to `primary_title` so that we can perform merges later. Additionally, the financial columns are formatted as strings rather than integers. We will first strip the dollar signs and commas out of the string and then convert the columns to the integer datatype, so that we can more easily perform our analyses. We also will convert `release_date` to a `datetime` object, and from there extract both the month and year of release, and create the corresponding columns `release_month` and `release_year`."
   ]
  },
  {
   "cell_type": "code",
   "execution_count": 7,
   "metadata": {},
   "outputs": [
    {
     "name": "stdout",
     "output_type": "stream",
     "text": [
      "<class 'pandas.core.frame.DataFrame'>\n",
      "RangeIndex: 5782 entries, 0 to 5781\n",
      "Data columns (total 6 columns):\n",
      " #   Column             Non-Null Count  Dtype \n",
      "---  ------             --------------  ----- \n",
      " 0   id                 5782 non-null   int64 \n",
      " 1   release_date       5782 non-null   object\n",
      " 2   primary_title      5782 non-null   object\n",
      " 3   production_budget  5782 non-null   object\n",
      " 4   domestic_gross     5782 non-null   object\n",
      " 5   worldwide_gross    5782 non-null   object\n",
      "dtypes: int64(1), object(5)\n",
      "memory usage: 271.2+ KB\n"
     ]
    }
   ],
   "source": [
    "# Rename the movie column to primary_title to match the other dataframes\n",
    "tn_movie_budgets.rename(columns={'movie': 'primary_title'}, inplace=True)\n",
    "tn_movie_budgets.info()"
   ]
  },
  {
   "cell_type": "code",
   "execution_count": 8,
   "metadata": {},
   "outputs": [],
   "source": [
    "# Convert the release_date column to a datetime object and create new columns for release_month and release_year\n",
    "tn_movie_budgets['release_date'] = pd.to_datetime(tn_movie_budgets['release_date'])\n",
    "tn_movie_budgets['release_month'] = pd.to_datetime(tn_movie_budgets['release_date']).dt.month_name()\n",
    "tn_movie_budgets['release_year'] = pd.to_datetime(tn_movie_budgets['release_date']).dt.year"
   ]
  },
  {
   "cell_type": "code",
   "execution_count": 9,
   "metadata": {},
   "outputs": [
    {
     "name": "stdout",
     "output_type": "stream",
     "text": [
      "<class 'pandas.core.frame.DataFrame'>\n",
      "RangeIndex: 5782 entries, 0 to 5781\n",
      "Data columns (total 8 columns):\n",
      " #   Column             Non-Null Count  Dtype         \n",
      "---  ------             --------------  -----         \n",
      " 0   id                 5782 non-null   int64         \n",
      " 1   release_date       5782 non-null   datetime64[ns]\n",
      " 2   primary_title      5782 non-null   object        \n",
      " 3   production_budget  5782 non-null   int64         \n",
      " 4   domestic_gross     5782 non-null   int64         \n",
      " 5   worldwide_gross    5782 non-null   int64         \n",
      " 6   release_month      5782 non-null   object        \n",
      " 7   release_year       5782 non-null   int64         \n",
      "dtypes: datetime64[ns](1), int64(5), object(2)\n",
      "memory usage: 361.5+ KB\n"
     ]
    }
   ],
   "source": [
    "# Create a function to allow us to convert the columns to integers\n",
    "def convert_to_int(df, column):\n",
    "    df[column] = df[column].str.replace('$', '')\n",
    "    df[column] = df[column].str.replace(',', '').astype(int)\n",
    "    return df[column]\n",
    "\n",
    "# Call the function for our three columns\n",
    "convert_to_int(tn_movie_budgets, 'domestic_gross')\n",
    "convert_to_int(tn_movie_budgets, 'worldwide_gross')\n",
    "convert_to_int(tn_movie_budgets, 'production_budget')\n",
    "\n",
    "# Check to make sure everything looks alright\n",
    "tn_movie_budgets.info()"
   ]
  },
  {
   "cell_type": "code",
   "execution_count": 10,
   "metadata": {},
   "outputs": [
    {
     "data": {
      "text/plain": [
       "December     745\n",
       "October      573\n",
       "August       496\n",
       "September    493\n",
       "November     486\n",
       "June         479\n",
       "March        470\n",
       "April        454\n",
       "July         440\n",
       "May          407\n",
       "February     392\n",
       "January      347\n",
       "Name: release_month, dtype: int64"
      ]
     },
     "execution_count": 10,
     "metadata": {},
     "output_type": "execute_result"
    }
   ],
   "source": [
    "# We'll also order our months chronologically, so when we plot them, the x\n",
    "# Axis won't be in alphabetical order.\n",
    "months = ['January', 'February', 'March', 'April', 'May', 'June', 'July', 'August', 'September', 'October', 'November', 'December']\n",
    "tn_movie_budgets['release_month'] = pd.Categorical(tn_movie_budgets['release_month'], categories=months, ordered=True)\n",
    "tn_movie_budgets['release_month'].value_counts()"
   ]
  },
  {
   "cell_type": "markdown",
   "metadata": {},
   "source": [
    "### (3.ii.a) Removing zeroes\n",
    "\n",
    "Within this dataset, we have a number of films for which there is no reported budget data. Since one of our chief concerns is the financial success of a film, the lack of data on these fronts makes those records useless. \n",
    "\n",
    "We first check to make sure that removing the data for which we have no budget information does not throw out an excessive number of records. We go from 5,782 entries to 5,234, so it seems pretty safe to remove the zeroes."
   ]
  },
  {
   "cell_type": "code",
   "execution_count": 11,
   "metadata": {},
   "outputs": [
    {
     "data": {
      "text/html": [
       "<div>\n",
       "<style scoped>\n",
       "    .dataframe tbody tr th:only-of-type {\n",
       "        vertical-align: middle;\n",
       "    }\n",
       "\n",
       "    .dataframe tbody tr th {\n",
       "        vertical-align: top;\n",
       "    }\n",
       "\n",
       "    .dataframe thead th {\n",
       "        text-align: right;\n",
       "    }\n",
       "</style>\n",
       "<table border=\"1\" class=\"dataframe\">\n",
       "  <thead>\n",
       "    <tr style=\"text-align: right;\">\n",
       "      <th></th>\n",
       "      <th>id</th>\n",
       "      <th>release_date</th>\n",
       "      <th>primary_title</th>\n",
       "      <th>production_budget</th>\n",
       "      <th>domestic_gross</th>\n",
       "      <th>worldwide_gross</th>\n",
       "      <th>release_month</th>\n",
       "      <th>release_year</th>\n",
       "    </tr>\n",
       "  </thead>\n",
       "  <tbody>\n",
       "    <tr>\n",
       "      <th>0</th>\n",
       "      <td>1</td>\n",
       "      <td>2009-12-18</td>\n",
       "      <td>Avatar</td>\n",
       "      <td>425000000</td>\n",
       "      <td>760507625</td>\n",
       "      <td>2776345279</td>\n",
       "      <td>December</td>\n",
       "      <td>2009</td>\n",
       "    </tr>\n",
       "    <tr>\n",
       "      <th>1</th>\n",
       "      <td>2</td>\n",
       "      <td>2011-05-20</td>\n",
       "      <td>Pirates of the Caribbean: On Stranger Tides</td>\n",
       "      <td>410600000</td>\n",
       "      <td>241063875</td>\n",
       "      <td>1045663875</td>\n",
       "      <td>May</td>\n",
       "      <td>2011</td>\n",
       "    </tr>\n",
       "    <tr>\n",
       "      <th>2</th>\n",
       "      <td>3</td>\n",
       "      <td>2019-06-07</td>\n",
       "      <td>Dark Phoenix</td>\n",
       "      <td>350000000</td>\n",
       "      <td>42762350</td>\n",
       "      <td>149762350</td>\n",
       "      <td>June</td>\n",
       "      <td>2019</td>\n",
       "    </tr>\n",
       "    <tr>\n",
       "      <th>3</th>\n",
       "      <td>4</td>\n",
       "      <td>2015-05-01</td>\n",
       "      <td>Avengers: Age of Ultron</td>\n",
       "      <td>330600000</td>\n",
       "      <td>459005868</td>\n",
       "      <td>1403013963</td>\n",
       "      <td>May</td>\n",
       "      <td>2015</td>\n",
       "    </tr>\n",
       "    <tr>\n",
       "      <th>4</th>\n",
       "      <td>5</td>\n",
       "      <td>2017-12-15</td>\n",
       "      <td>Star Wars Ep. VIII: The Last Jedi</td>\n",
       "      <td>317000000</td>\n",
       "      <td>620181382</td>\n",
       "      <td>1316721747</td>\n",
       "      <td>December</td>\n",
       "      <td>2017</td>\n",
       "    </tr>\n",
       "  </tbody>\n",
       "</table>\n",
       "</div>"
      ],
      "text/plain": [
       "   id release_date                                primary_title  \\\n",
       "0   1   2009-12-18                                       Avatar   \n",
       "1   2   2011-05-20  Pirates of the Caribbean: On Stranger Tides   \n",
       "2   3   2019-06-07                                 Dark Phoenix   \n",
       "3   4   2015-05-01                      Avengers: Age of Ultron   \n",
       "4   5   2017-12-15            Star Wars Ep. VIII: The Last Jedi   \n",
       "\n",
       "   production_budget  domestic_gross  worldwide_gross release_month  \\\n",
       "0          425000000       760507625       2776345279      December   \n",
       "1          410600000       241063875       1045663875           May   \n",
       "2          350000000        42762350        149762350          June   \n",
       "3          330600000       459005868       1403013963           May   \n",
       "4          317000000       620181382       1316721747      December   \n",
       "\n",
       "   release_year  \n",
       "0          2009  \n",
       "1          2011  \n",
       "2          2019  \n",
       "3          2015  \n",
       "4          2017  "
      ]
     },
     "execution_count": 11,
     "metadata": {},
     "output_type": "execute_result"
    }
   ],
   "source": [
    "tn_movie_budgets.head()"
   ]
  },
  {
   "cell_type": "code",
   "execution_count": 12,
   "metadata": {},
   "outputs": [
    {
     "name": "stdout",
     "output_type": "stream",
     "text": [
      "<class 'pandas.core.frame.DataFrame'>\n",
      "RangeIndex: 5782 entries, 0 to 5781\n",
      "Data columns (total 8 columns):\n",
      " #   Column             Non-Null Count  Dtype         \n",
      "---  ------             --------------  -----         \n",
      " 0   id                 5782 non-null   int64         \n",
      " 1   release_date       5782 non-null   datetime64[ns]\n",
      " 2   primary_title      5782 non-null   object        \n",
      " 3   production_budget  5782 non-null   int64         \n",
      " 4   domestic_gross     5782 non-null   int64         \n",
      " 5   worldwide_gross    5782 non-null   int64         \n",
      " 6   release_month      5782 non-null   category      \n",
      " 7   release_year       5782 non-null   int64         \n",
      "dtypes: category(1), datetime64[ns](1), int64(5), object(1)\n",
      "memory usage: 322.4+ KB\n"
     ]
    }
   ],
   "source": [
    "tn_movie_budgets.info()"
   ]
  },
  {
   "cell_type": "code",
   "execution_count": 13,
   "metadata": {},
   "outputs": [
    {
     "name": "stdout",
     "output_type": "stream",
     "text": [
      "<class 'pandas.core.frame.DataFrame'>\n",
      "Int64Index: 5234 entries, 0 to 5781\n",
      "Data columns (total 8 columns):\n",
      " #   Column             Non-Null Count  Dtype         \n",
      "---  ------             --------------  -----         \n",
      " 0   id                 5234 non-null   int64         \n",
      " 1   release_date       5234 non-null   datetime64[ns]\n",
      " 2   primary_title      5234 non-null   object        \n",
      " 3   production_budget  5234 non-null   int64         \n",
      " 4   domestic_gross     5234 non-null   int64         \n",
      " 5   worldwide_gross    5234 non-null   int64         \n",
      " 6   release_month      5234 non-null   category      \n",
      " 7   release_year       5234 non-null   int64         \n",
      "dtypes: category(1), datetime64[ns](1), int64(5), object(1)\n",
      "memory usage: 332.6+ KB\n"
     ]
    }
   ],
   "source": [
    "tn_movie_budgets[tn_movie_budgets['domestic_gross'] != 0].info()"
   ]
  },
  {
   "cell_type": "code",
   "execution_count": 14,
   "metadata": {},
   "outputs": [
    {
     "name": "stdout",
     "output_type": "stream",
     "text": [
      "<class 'pandas.core.frame.DataFrame'>\n",
      "Int64Index: 548 entries, 194 to 5780\n",
      "Data columns (total 8 columns):\n",
      " #   Column             Non-Null Count  Dtype         \n",
      "---  ------             --------------  -----         \n",
      " 0   id                 548 non-null    int64         \n",
      " 1   release_date       548 non-null    datetime64[ns]\n",
      " 2   primary_title      548 non-null    object        \n",
      " 3   production_budget  548 non-null    int64         \n",
      " 4   domestic_gross     548 non-null    int64         \n",
      " 5   worldwide_gross    548 non-null    int64         \n",
      " 6   release_month      548 non-null    category      \n",
      " 7   release_year       548 non-null    int64         \n",
      "dtypes: category(1), datetime64[ns](1), int64(5), object(1)\n",
      "memory usage: 35.2+ KB\n"
     ]
    }
   ],
   "source": [
    "tn_movie_budgets[tn_movie_budgets['domestic_gross'] == 0].info()"
   ]
  },
  {
   "cell_type": "code",
   "execution_count": 15,
   "metadata": {},
   "outputs": [],
   "source": [
    "# Since we wouldn't lose too much data, we can drop the zeroes\n",
    "tn_movie_budgets = tn_movie_budgets[tn_movie_budgets['domestic_gross'] != 0]"
   ]
  },
  {
   "cell_type": "code",
   "execution_count": 16,
   "metadata": {},
   "outputs": [
    {
     "data": {
      "text/plain": [
       "0"
      ]
     },
     "execution_count": 16,
     "metadata": {},
     "output_type": "execute_result"
    }
   ],
   "source": [
    "tn_movie_budgets['domestic_gross'].isna().sum()"
   ]
  },
  {
   "cell_type": "code",
   "execution_count": 17,
   "metadata": {},
   "outputs": [
    {
     "name": "stdout",
     "output_type": "stream",
     "text": [
      "<class 'pandas.core.frame.DataFrame'>\n",
      "Int64Index: 5234 entries, 0 to 5781\n",
      "Data columns (total 8 columns):\n",
      " #   Column             Non-Null Count  Dtype         \n",
      "---  ------             --------------  -----         \n",
      " 0   id                 5234 non-null   int64         \n",
      " 1   release_date       5234 non-null   datetime64[ns]\n",
      " 2   primary_title      5234 non-null   object        \n",
      " 3   production_budget  5234 non-null   int64         \n",
      " 4   domestic_gross     5234 non-null   int64         \n",
      " 5   worldwide_gross    5234 non-null   int64         \n",
      " 6   release_month      5234 non-null   category      \n",
      " 7   release_year       5234 non-null   int64         \n",
      "dtypes: category(1), datetime64[ns](1), int64(5), object(1)\n",
      "memory usage: 332.6+ KB\n"
     ]
    }
   ],
   "source": [
    "tn_movie_budgets.info()"
   ]
  },
  {
   "cell_type": "code",
   "execution_count": 18,
   "metadata": {},
   "outputs": [],
   "source": [
    "tn_movie_budgets['domestic_gross'] = tn_movie_budgets['domestic_gross'].astype(int)"
   ]
  },
  {
   "cell_type": "code",
   "execution_count": 19,
   "metadata": {},
   "outputs": [
    {
     "name": "stdout",
     "output_type": "stream",
     "text": [
      "<class 'pandas.core.frame.DataFrame'>\n",
      "Int64Index: 0 entries\n",
      "Data columns (total 8 columns):\n",
      " #   Column             Non-Null Count  Dtype         \n",
      "---  ------             --------------  -----         \n",
      " 0   id                 0 non-null      int64         \n",
      " 1   release_date       0 non-null      datetime64[ns]\n",
      " 2   primary_title      0 non-null      object        \n",
      " 3   production_budget  0 non-null      int64         \n",
      " 4   domestic_gross     0 non-null      int64         \n",
      " 5   worldwide_gross    0 non-null      int64         \n",
      " 6   release_month      0 non-null      category      \n",
      " 7   release_year       0 non-null      int64         \n",
      "dtypes: category(1), datetime64[ns](1), int64(5), object(1)\n",
      "memory usage: 416.0+ bytes\n"
     ]
    }
   ],
   "source": [
    "tn_movie_budgets[tn_movie_budgets['domestic_gross'] == 0].info()"
   ]
  },
  {
   "cell_type": "markdown",
   "metadata": {},
   "source": [
    "One potentially problematic point is the spread of data for the `release_year`. Just from a preliminary look, we can see that there are a handful of films from the very early days of cinema. Since these will likely not have huge bearing on a start-up production company today, and since they constitute a very small proportion of our data, we can go ahead and filter them out. \n",
    "\n",
    "Below, you can see the distribution and count for our full dataset. We go from 5234 entries to 3865 entries."
   ]
  },
  {
   "cell_type": "code",
   "execution_count": 20,
   "metadata": {},
   "outputs": [
    {
     "data": {
      "text/plain": [
       "1915      1\n",
       "1916      1\n",
       "1920      1\n",
       "1925      2\n",
       "1929      1\n",
       "       ... \n",
       "2015    208\n",
       "2016    192\n",
       "2017    149\n",
       "2018    137\n",
       "2019     44\n",
       "Name: release_year, Length: 92, dtype: int64"
      ]
     },
     "execution_count": 20,
     "metadata": {},
     "output_type": "execute_result"
    }
   ],
   "source": [
    "tn_movie_budgets['release_year'].value_counts().sort_index()"
   ]
  },
  {
   "cell_type": "code",
   "execution_count": 21,
   "metadata": {},
   "outputs": [
    {
     "name": "stdout",
     "output_type": "stream",
     "text": [
      "<class 'pandas.core.frame.DataFrame'>\n",
      "Int64Index: 5234 entries, 0 to 5781\n",
      "Data columns (total 8 columns):\n",
      " #   Column             Non-Null Count  Dtype         \n",
      "---  ------             --------------  -----         \n",
      " 0   id                 5234 non-null   int64         \n",
      " 1   release_date       5234 non-null   datetime64[ns]\n",
      " 2   primary_title      5234 non-null   object        \n",
      " 3   production_budget  5234 non-null   int64         \n",
      " 4   domestic_gross     5234 non-null   int64         \n",
      " 5   worldwide_gross    5234 non-null   int64         \n",
      " 6   release_month      5234 non-null   category      \n",
      " 7   release_year       5234 non-null   int64         \n",
      "dtypes: category(1), datetime64[ns](1), int64(5), object(1)\n",
      "memory usage: 332.6+ KB\n"
     ]
    },
    {
     "data": {
      "image/png": "[encoded data removed]",
      "text/plain": [
       "<Figure size 2160x720 with 1 Axes>"
      ]
     },
     "metadata": {
      "needs_background": "light"
     },
     "output_type": "display_data"
    }
   ],
   "source": [
    "ax1 = plt.subplots(figsize = (30, 10))\n",
    "\n",
    "ax1 = tn_movie_budgets['release_year'].value_counts().sort_index().plot.bar()\n",
    "ax1.set_title('Number of Films Released per Year')\n",
    "ax1.set_xlabel('Release Year')\n",
    "ax1.set_ylabel('Number of Films Released')\n",
    "\n",
    "plt.style.use('ggplot')\n",
    "tn_movie_budgets.info()\n"
   ]
  },
  {
   "cell_type": "markdown",
   "metadata": {},
   "source": [
    "This graph justifies our decision to focus only on data from recent films. As the vast majority of films in this dataset are post-2000, we will subset to this period."
   ]
  },
  {
   "cell_type": "markdown",
   "metadata": {},
   "source": [
    "### (3.ii.b) Keeping Only Post-2000 Data (Inclusive)"
   ]
  },
  {
   "cell_type": "code",
   "execution_count": 22,
   "metadata": {},
   "outputs": [
    {
     "name": "stdout",
     "output_type": "stream",
     "text": [
      "<class 'pandas.core.frame.DataFrame'>\n",
      "Int64Index: 3865 entries, 0 to 5781\n",
      "Data columns (total 8 columns):\n",
      " #   Column             Non-Null Count  Dtype         \n",
      "---  ------             --------------  -----         \n",
      " 0   id                 3865 non-null   int64         \n",
      " 1   release_date       3865 non-null   datetime64[ns]\n",
      " 2   primary_title      3865 non-null   object        \n",
      " 3   production_budget  3865 non-null   int64         \n",
      " 4   domestic_gross     3865 non-null   int64         \n",
      " 5   worldwide_gross    3865 non-null   int64         \n",
      " 6   release_month      3865 non-null   category      \n",
      " 7   release_year       3865 non-null   int64         \n",
      "dtypes: category(1), datetime64[ns](1), int64(5), object(1)\n",
      "memory usage: 245.7+ KB\n"
     ]
    },
    {
     "data": {
      "image/png": "[encoded data removed]",
      "text/plain": [
       "<Figure size 432x288 with 1 Axes>"
      ]
     },
     "metadata": {},
     "output_type": "display_data"
    }
   ],
   "source": [
    "tn_2000 = tn_movie_budgets[tn_movie_budgets['release_year'] >= 2000].copy()\n",
    "\n",
    "ax2 = tn_2000['release_year'].value_counts().sort_index().plot.bar()\n",
    "ax2.set_title('Number of Films Released per Year after 2000')\n",
    "ax2.set_xlabel('Release Year')\n",
    "ax2.set_ylabel('Number of Films Released')\n",
    "\n",
    "\n",
    "plt.style.use('ggplot')\n",
    "tn_2000.info()"
   ]
  },
  {
   "cell_type": "code",
   "execution_count": 23,
   "metadata": {},
   "outputs": [
    {
     "name": "stdout",
     "output_type": "stream",
     "text": [
      "<class 'pandas.core.frame.DataFrame'>\n",
      "Int64Index: 3865 entries, 0 to 5781\n",
      "Data columns (total 8 columns):\n",
      " #   Column             Non-Null Count  Dtype         \n",
      "---  ------             --------------  -----         \n",
      " 0   id                 3865 non-null   int64         \n",
      " 1   release_date       3865 non-null   datetime64[ns]\n",
      " 2   primary_title      3865 non-null   object        \n",
      " 3   production_budget  3865 non-null   int64         \n",
      " 4   domestic_gross     3865 non-null   int64         \n",
      " 5   worldwide_gross    3865 non-null   int64         \n",
      " 6   release_month      3865 non-null   category      \n",
      " 7   release_year       3865 non-null   int64         \n",
      "dtypes: category(1), datetime64[ns](1), int64(5), object(1)\n",
      "memory usage: 245.7+ KB\n"
     ]
    }
   ],
   "source": [
    "# Saving the year filter in place\n",
    "tn_movie_budgets = tn_movie_budgets[tn_movie_budgets['release_year'] >= 2000].copy()\n",
    "tn_movie_budgets.info()"
   ]
  },
  {
   "cell_type": "markdown",
   "metadata": {},
   "source": [
    "### (3.ii.c) Creating an ROI Column"
   ]
  },
  {
   "cell_type": "code",
   "execution_count": null,
   "metadata": {},
   "outputs": [],
   "source": []
  },
  {
   "cell_type": "code",
   "execution_count": 24,
   "metadata": {},
   "outputs": [],
   "source": [
    "tn_movie_budgets['domestic_ROI'] = ((tn_movie_budgets['domestic_gross'] - tn_movie_budgets['production_budget']) / tn_movie_budgets['production_budget']) * 100\n",
    "\n",
    "tn_movie_budgets['worldwide_ROI'] = ((tn_movie_budgets['worldwide_gross'] - tn_movie_budgets['production_budget']) / tn_movie_budgets['production_budget']) * 100"
   ]
  },
  {
   "cell_type": "code",
   "execution_count": 25,
   "metadata": {},
   "outputs": [
    {
     "data": {
      "text/plain": [
       "id                   0\n",
       "release_date         0\n",
       "primary_title        0\n",
       "production_budget    0\n",
       "domestic_gross       0\n",
       "worldwide_gross      0\n",
       "release_month        0\n",
       "release_year         0\n",
       "domestic_ROI         0\n",
       "worldwide_ROI        0\n",
       "dtype: int64"
      ]
     },
     "execution_count": 25,
     "metadata": {},
     "output_type": "execute_result"
    }
   ],
   "source": [
    "tn_movie_budgets.isna().sum()"
   ]
  },
  {
   "cell_type": "code",
   "execution_count": 26,
   "metadata": {},
   "outputs": [
    {
     "name": "stdout",
     "output_type": "stream",
     "text": [
      "<class 'pandas.core.frame.DataFrame'>\n",
      "Int64Index: 3865 entries, 0 to 5781\n",
      "Data columns (total 10 columns):\n",
      " #   Column             Non-Null Count  Dtype         \n",
      "---  ------             --------------  -----         \n",
      " 0   id                 3865 non-null   int64         \n",
      " 1   release_date       3865 non-null   datetime64[ns]\n",
      " 2   primary_title      3865 non-null   object        \n",
      " 3   production_budget  3865 non-null   int64         \n",
      " 4   domestic_gross     3865 non-null   int64         \n",
      " 5   worldwide_gross    3865 non-null   int64         \n",
      " 6   release_month      3865 non-null   category      \n",
      " 7   release_year       3865 non-null   int64         \n",
      " 8   domestic_ROI       3865 non-null   float64       \n",
      " 9   worldwide_ROI      3865 non-null   float64       \n",
      "dtypes: category(1), datetime64[ns](1), float64(2), int64(5), object(1)\n",
      "memory usage: 306.1+ KB\n"
     ]
    }
   ],
   "source": [
    "tn_movie_budgets.info()"
   ]
  },
  {
   "cell_type": "code",
   "execution_count": 27,
   "metadata": {},
   "outputs": [],
   "source": [
    "# Since there are very few nulls relative to all the domestic_gross data points, we drop them here\n",
    "tn_movie_budgets.dropna(subset = ['domestic_gross'], inplace=True)"
   ]
  },
  {
   "cell_type": "code",
   "execution_count": 28,
   "metadata": {},
   "outputs": [
    {
     "data": {
      "text/plain": [
       "id                   0\n",
       "release_date         0\n",
       "primary_title        0\n",
       "production_budget    0\n",
       "domestic_gross       0\n",
       "worldwide_gross      0\n",
       "release_month        0\n",
       "release_year         0\n",
       "domestic_ROI         0\n",
       "worldwide_ROI        0\n",
       "dtype: int64"
      ]
     },
     "execution_count": 28,
     "metadata": {},
     "output_type": "execute_result"
    }
   ],
   "source": [
    "tn_movie_budgets.isna().sum()"
   ]
  },
  {
   "cell_type": "markdown",
   "metadata": {},
   "source": [
    "### (3.ii.d) Removing Budget Outliers"
   ]
  },
  {
   "cell_type": "code",
   "execution_count": 29,
   "metadata": {},
   "outputs": [
    {
     "data": {
      "image/png": "[encoded data removed]",
      "text/plain": [
       "<Figure size 432x288 with 1 Axes>"
      ]
     },
     "metadata": {},
     "output_type": "display_data"
    }
   ],
   "source": [
    "#Boxplot to visualize the outliers\n",
    "sns.boxplot(x=tn_movie_budgets['production_budget'])\n",
    "plt.show()"
   ]
  },
  {
   "cell_type": "code",
   "execution_count": 30,
   "metadata": {},
   "outputs": [],
   "source": [
    "# Calculating the first and third quartiles for production budget\n",
    "Q1 = tn_movie_budgets['production_budget'].quantile(0.25)\n",
    "Q3 = tn_movie_budgets['production_budget'].quantile(0.75)\n",
    "\n",
    "# Calculating the Interquartile Range\n",
    "IQR = Q3 - Q1\n",
    "\n",
    "# Getting the lower and upper bounds for outliers\n",
    "lower_bound = Q1 - 1.5 * IQR\n",
    "upper_bound = Q3 + 1.5 * IQR\n",
    "\n",
    "# Removing the rows with production budget outliers, saving as a separate df\n",
    "tn_movie_budgets_no_outliers= tn_movie_budgets.loc[(tn_movie_budgets['production_budget'] >= lower_bound) & (tn_movie_budgets['production_budget'] <= upper_bound)]\n"
   ]
  },
  {
   "cell_type": "markdown",
   "metadata": {},
   "source": [
    "## (3.iii) SQL IMDB Database"
   ]
  },
  {
   "cell_type": "code",
   "execution_count": 31,
   "metadata": {},
   "outputs": [
    {
     "data": {
      "text/html": [
       "<div>\n",
       "<style scoped>\n",
       "    .dataframe tbody tr th:only-of-type {\n",
       "        vertical-align: middle;\n",
       "    }\n",
       "\n",
       "    .dataframe tbody tr th {\n",
       "        vertical-align: top;\n",
       "    }\n",
       "\n",
       "    .dataframe thead th {\n",
       "        text-align: right;\n",
       "    }\n",
       "</style>\n",
       "<table border=\"1\" class=\"dataframe\">\n",
       "  <thead>\n",
       "    <tr style=\"text-align: right;\">\n",
       "      <th></th>\n",
       "      <th>Table Names</th>\n",
       "    </tr>\n",
       "  </thead>\n",
       "  <tbody>\n",
       "    <tr>\n",
       "      <th>0</th>\n",
       "      <td>movie_basics</td>\n",
       "    </tr>\n",
       "    <tr>\n",
       "      <th>1</th>\n",
       "      <td>directors</td>\n",
       "    </tr>\n",
       "    <tr>\n",
       "      <th>2</th>\n",
       "      <td>known_for</td>\n",
       "    </tr>\n",
       "    <tr>\n",
       "      <th>3</th>\n",
       "      <td>movie_akas</td>\n",
       "    </tr>\n",
       "    <tr>\n",
       "      <th>4</th>\n",
       "      <td>movie_ratings</td>\n",
       "    </tr>\n",
       "    <tr>\n",
       "      <th>5</th>\n",
       "      <td>persons</td>\n",
       "    </tr>\n",
       "    <tr>\n",
       "      <th>6</th>\n",
       "      <td>principals</td>\n",
       "    </tr>\n",
       "    <tr>\n",
       "      <th>7</th>\n",
       "      <td>writers</td>\n",
       "    </tr>\n",
       "  </tbody>\n",
       "</table>\n",
       "</div>"
      ],
      "text/plain": [
       "     Table Names\n",
       "0   movie_basics\n",
       "1      directors\n",
       "2      known_for\n",
       "3     movie_akas\n",
       "4  movie_ratings\n",
       "5        persons\n",
       "6     principals\n",
       "7        writers"
      ]
     },
     "execution_count": 31,
     "metadata": {},
     "output_type": "execute_result"
    }
   ],
   "source": [
    "# Viewing the schema\n",
    "pd.read_sql('SELECT name AS \"Table Names\" FROM sqlite_master WHERE type=\"table\"', conn)"
   ]
  },
  {
   "cell_type": "code",
   "execution_count": 32,
   "metadata": {},
   "outputs": [
    {
     "data": {
      "text/html": [
       "<div>\n",
       "<style scoped>\n",
       "    .dataframe tbody tr th:only-of-type {\n",
       "        vertical-align: middle;\n",
       "    }\n",
       "\n",
       "    .dataframe tbody tr th {\n",
       "        vertical-align: top;\n",
       "    }\n",
       "\n",
       "    .dataframe thead th {\n",
       "        text-align: right;\n",
       "    }\n",
       "</style>\n",
       "<table border=\"1\" class=\"dataframe\">\n",
       "  <thead>\n",
       "    <tr style=\"text-align: right;\">\n",
       "      <th></th>\n",
       "      <th>movie_id</th>\n",
       "      <th>primary_title</th>\n",
       "      <th>original_title</th>\n",
       "      <th>start_year</th>\n",
       "      <th>runtime_minutes</th>\n",
       "      <th>genres</th>\n",
       "    </tr>\n",
       "  </thead>\n",
       "  <tbody>\n",
       "    <tr>\n",
       "      <th>0</th>\n",
       "      <td>tt0063540</td>\n",
       "      <td>Sunghursh</td>\n",
       "      <td>Sunghursh</td>\n",
       "      <td>2013</td>\n",
       "      <td>175.0</td>\n",
       "      <td>Action,Crime,Drama</td>\n",
       "    </tr>\n",
       "    <tr>\n",
       "      <th>1</th>\n",
       "      <td>tt0066787</td>\n",
       "      <td>One Day Before the Rainy Season</td>\n",
       "      <td>Ashad Ka Ek Din</td>\n",
       "      <td>2019</td>\n",
       "      <td>114.0</td>\n",
       "      <td>Biography,Drama</td>\n",
       "    </tr>\n",
       "    <tr>\n",
       "      <th>2</th>\n",
       "      <td>tt0069049</td>\n",
       "      <td>The Other Side of the Wind</td>\n",
       "      <td>The Other Side of the Wind</td>\n",
       "      <td>2018</td>\n",
       "      <td>122.0</td>\n",
       "      <td>Drama</td>\n",
       "    </tr>\n",
       "    <tr>\n",
       "      <th>3</th>\n",
       "      <td>tt0069204</td>\n",
       "      <td>Sabse Bada Sukh</td>\n",
       "      <td>Sabse Bada Sukh</td>\n",
       "      <td>2018</td>\n",
       "      <td>NaN</td>\n",
       "      <td>Comedy,Drama</td>\n",
       "    </tr>\n",
       "    <tr>\n",
       "      <th>4</th>\n",
       "      <td>tt0100275</td>\n",
       "      <td>The Wandering Soap Opera</td>\n",
       "      <td>La Telenovela Errante</td>\n",
       "      <td>2017</td>\n",
       "      <td>80.0</td>\n",
       "      <td>Comedy,Drama,Fantasy</td>\n",
       "    </tr>\n",
       "    <tr>\n",
       "      <th>...</th>\n",
       "      <td>...</td>\n",
       "      <td>...</td>\n",
       "      <td>...</td>\n",
       "      <td>...</td>\n",
       "      <td>...</td>\n",
       "      <td>...</td>\n",
       "    </tr>\n",
       "    <tr>\n",
       "      <th>146139</th>\n",
       "      <td>tt9916538</td>\n",
       "      <td>Kuambil Lagi Hatiku</td>\n",
       "      <td>Kuambil Lagi Hatiku</td>\n",
       "      <td>2019</td>\n",
       "      <td>123.0</td>\n",
       "      <td>Drama</td>\n",
       "    </tr>\n",
       "    <tr>\n",
       "      <th>146140</th>\n",
       "      <td>tt9916622</td>\n",
       "      <td>Rodolpho Teóphilo - O Legado de um Pioneiro</td>\n",
       "      <td>Rodolpho Teóphilo - O Legado de um Pioneiro</td>\n",
       "      <td>2015</td>\n",
       "      <td>NaN</td>\n",
       "      <td>Documentary</td>\n",
       "    </tr>\n",
       "    <tr>\n",
       "      <th>146141</th>\n",
       "      <td>tt9916706</td>\n",
       "      <td>Dankyavar Danka</td>\n",
       "      <td>Dankyavar Danka</td>\n",
       "      <td>2013</td>\n",
       "      <td>NaN</td>\n",
       "      <td>Comedy</td>\n",
       "    </tr>\n",
       "    <tr>\n",
       "      <th>146142</th>\n",
       "      <td>tt9916730</td>\n",
       "      <td>6 Gunn</td>\n",
       "      <td>6 Gunn</td>\n",
       "      <td>2017</td>\n",
       "      <td>116.0</td>\n",
       "      <td>None</td>\n",
       "    </tr>\n",
       "    <tr>\n",
       "      <th>146143</th>\n",
       "      <td>tt9916754</td>\n",
       "      <td>Chico Albuquerque - Revelações</td>\n",
       "      <td>Chico Albuquerque - Revelações</td>\n",
       "      <td>2013</td>\n",
       "      <td>NaN</td>\n",
       "      <td>Documentary</td>\n",
       "    </tr>\n",
       "  </tbody>\n",
       "</table>\n",
       "<p>146144 rows × 6 columns</p>\n",
       "</div>"
      ],
      "text/plain": [
       "         movie_id                                primary_title  \\\n",
       "0       tt0063540                                    Sunghursh   \n",
       "1       tt0066787              One Day Before the Rainy Season   \n",
       "2       tt0069049                   The Other Side of the Wind   \n",
       "3       tt0069204                              Sabse Bada Sukh   \n",
       "4       tt0100275                     The Wandering Soap Opera   \n",
       "...           ...                                          ...   \n",
       "146139  tt9916538                          Kuambil Lagi Hatiku   \n",
       "146140  tt9916622  Rodolpho Teóphilo - O Legado de um Pioneiro   \n",
       "146141  tt9916706                              Dankyavar Danka   \n",
       "146142  tt9916730                                       6 Gunn   \n",
       "146143  tt9916754               Chico Albuquerque - Revelações   \n",
       "\n",
       "                                     original_title  start_year  \\\n",
       "0                                         Sunghursh        2013   \n",
       "1                                   Ashad Ka Ek Din        2019   \n",
       "2                        The Other Side of the Wind        2018   \n",
       "3                                   Sabse Bada Sukh        2018   \n",
       "4                             La Telenovela Errante        2017   \n",
       "...                                             ...         ...   \n",
       "146139                          Kuambil Lagi Hatiku        2019   \n",
       "146140  Rodolpho Teóphilo - O Legado de um Pioneiro        2015   \n",
       "146141                              Dankyavar Danka        2013   \n",
       "146142                                       6 Gunn        2017   \n",
       "146143               Chico Albuquerque - Revelações        2013   \n",
       "\n",
       "        runtime_minutes                genres  \n",
       "0                 175.0    Action,Crime,Drama  \n",
       "1                 114.0       Biography,Drama  \n",
       "2                 122.0                 Drama  \n",
       "3                   NaN          Comedy,Drama  \n",
       "4                  80.0  Comedy,Drama,Fantasy  \n",
       "...                 ...                   ...  \n",
       "146139            123.0                 Drama  \n",
       "146140              NaN           Documentary  \n",
       "146141              NaN                Comedy  \n",
       "146142            116.0                  None  \n",
       "146143              NaN           Documentary  \n",
       "\n",
       "[146144 rows x 6 columns]"
      ]
     },
     "execution_count": 32,
     "metadata": {},
     "output_type": "execute_result"
    }
   ],
   "source": [
    "# Making the movie_basics table into a DataFrame\n",
    "imdb_movie_basics = pd.read_sql('SELECT * FROM movie_basics', conn)\n",
    "imdb_movie_basics"
   ]
  },
  {
   "cell_type": "code",
   "execution_count": 33,
   "metadata": {},
   "outputs": [
    {
     "data": {
      "text/html": [
       "<div>\n",
       "<style scoped>\n",
       "    .dataframe tbody tr th:only-of-type {\n",
       "        vertical-align: middle;\n",
       "    }\n",
       "\n",
       "    .dataframe tbody tr th {\n",
       "        vertical-align: top;\n",
       "    }\n",
       "\n",
       "    .dataframe thead th {\n",
       "        text-align: right;\n",
       "    }\n",
       "</style>\n",
       "<table border=\"1\" class=\"dataframe\">\n",
       "  <thead>\n",
       "    <tr style=\"text-align: right;\">\n",
       "      <th></th>\n",
       "      <th>movie_id</th>\n",
       "      <th>ordering</th>\n",
       "      <th>title</th>\n",
       "      <th>region</th>\n",
       "      <th>language</th>\n",
       "      <th>types</th>\n",
       "      <th>attributes</th>\n",
       "    </tr>\n",
       "  </thead>\n",
       "  <tbody>\n",
       "    <tr>\n",
       "      <th>0</th>\n",
       "      <td>tt0369610</td>\n",
       "      <td>10</td>\n",
       "      <td>Джурасик свят</td>\n",
       "      <td>BG</td>\n",
       "      <td>bg</td>\n",
       "      <td>None</td>\n",
       "      <td>None</td>\n",
       "    </tr>\n",
       "    <tr>\n",
       "      <th>1</th>\n",
       "      <td>tt0369610</td>\n",
       "      <td>11</td>\n",
       "      <td>Jurashikku warudo</td>\n",
       "      <td>JP</td>\n",
       "      <td>None</td>\n",
       "      <td>imdbDisplay</td>\n",
       "      <td>None</td>\n",
       "    </tr>\n",
       "    <tr>\n",
       "      <th>2</th>\n",
       "      <td>tt0369610</td>\n",
       "      <td>12</td>\n",
       "      <td>Jurassic World: O Mundo dos Dinossauros</td>\n",
       "      <td>BR</td>\n",
       "      <td>None</td>\n",
       "      <td>imdbDisplay</td>\n",
       "      <td>None</td>\n",
       "    </tr>\n",
       "    <tr>\n",
       "      <th>3</th>\n",
       "      <td>tt0369610</td>\n",
       "      <td>13</td>\n",
       "      <td>O Mundo dos Dinossauros</td>\n",
       "      <td>BR</td>\n",
       "      <td>None</td>\n",
       "      <td>None</td>\n",
       "      <td>short title</td>\n",
       "    </tr>\n",
       "    <tr>\n",
       "      <th>4</th>\n",
       "      <td>tt0369610</td>\n",
       "      <td>14</td>\n",
       "      <td>Jurassic World</td>\n",
       "      <td>FR</td>\n",
       "      <td>None</td>\n",
       "      <td>imdbDisplay</td>\n",
       "      <td>None</td>\n",
       "    </tr>\n",
       "  </tbody>\n",
       "</table>\n",
       "</div>"
      ],
      "text/plain": [
       "    movie_id  ordering                                    title region  \\\n",
       "0  tt0369610        10                            Джурасик свят     BG   \n",
       "1  tt0369610        11                        Jurashikku warudo     JP   \n",
       "2  tt0369610        12  Jurassic World: O Mundo dos Dinossauros     BR   \n",
       "3  tt0369610        13                  O Mundo dos Dinossauros     BR   \n",
       "4  tt0369610        14                           Jurassic World     FR   \n",
       "\n",
       "  language        types   attributes  \n",
       "0       bg         None         None  \n",
       "1     None  imdbDisplay         None  \n",
       "2     None  imdbDisplay         None  \n",
       "3     None         None  short title  \n",
       "4     None  imdbDisplay         None  "
      ]
     },
     "execution_count": 33,
     "metadata": {},
     "output_type": "execute_result"
    }
   ],
   "source": [
    "# Making the movie_akas table into a DataFrame\n",
    "imdb_movie_akas = pd.read_sql('SELECT * FROM movie_akas', conn)\n",
    "imdb_movie_akas.drop(columns=['is_original_title'], inplace=True)\n",
    "imdb_movie_akas.head()"
   ]
  },
  {
   "cell_type": "code",
   "execution_count": 34,
   "metadata": {},
   "outputs": [],
   "source": [
    "#Renaming 'movie' column to 'primary_title' so I can join table with 'tn_movie_budgets' table\n",
    "imdb_movie_akas = imdb_movie_akas.rename(columns={\"title\": \"primary_title\"})"
   ]
  },
  {
   "cell_type": "code",
   "execution_count": 35,
   "metadata": {},
   "outputs": [
    {
     "data": {
      "text/plain": [
       "316778"
      ]
     },
     "execution_count": 35,
     "metadata": {},
     "output_type": "execute_result"
    }
   ],
   "source": [
    "imdb_movie_akas['attributes'].isna().sum()"
   ]
  },
  {
   "cell_type": "code",
   "execution_count": 36,
   "metadata": {},
   "outputs": [],
   "source": [
    "imdb_movie_akas = imdb_movie_akas.dropna(subset=['attributes'])"
   ]
  },
  {
   "cell_type": "code",
   "execution_count": 37,
   "metadata": {},
   "outputs": [
    {
     "data": {
      "text/plain": [
       "0"
      ]
     },
     "execution_count": 37,
     "metadata": {},
     "output_type": "execute_result"
    }
   ],
   "source": [
    "imdb_movie_akas['attributes'].isna().sum()"
   ]
  },
  {
   "cell_type": "markdown",
   "metadata": {},
   "source": [
    "### (3.iii.a) Creating Directors and Writers DataFrames"
   ]
  },
  {
   "cell_type": "code",
   "execution_count": 38,
   "metadata": {},
   "outputs": [
    {
     "name": "stdout",
     "output_type": "stream",
     "text": [
      "<class 'pandas.core.frame.DataFrame'>\n",
      "RangeIndex: 109253 entries, 0 to 109252\n",
      "Data columns (total 1 columns):\n",
      " #   Column     Non-Null Count   Dtype \n",
      "---  ------     --------------   ----- \n",
      " 0   person_id  109253 non-null  object\n",
      "dtypes: object(1)\n",
      "memory usage: 853.7+ KB\n"
     ]
    }
   ],
   "source": [
    "# Exploring how many individual directors are in the IMDB directors table\n",
    "imdb_directors = pd.read_sql(\n",
    "    \"\"\"SELECT DISTINCT person_id\n",
    "    FROM directors;\n",
    "    \"\"\", conn)\n",
    "imdb_directors.info()"
   ]
  },
  {
   "cell_type": "code",
   "execution_count": 39,
   "metadata": {},
   "outputs": [
    {
     "name": "stdout",
     "output_type": "stream",
     "text": [
      "<class 'pandas.core.frame.DataFrame'>\n",
      "RangeIndex: 122576 entries, 0 to 122575\n",
      "Data columns (total 1 columns):\n",
      " #   Column     Non-Null Count   Dtype \n",
      "---  ------     --------------   ----- \n",
      " 0   person_id  122576 non-null  object\n",
      "dtypes: object(1)\n",
      "memory usage: 957.8+ KB\n"
     ]
    }
   ],
   "source": [
    "# Exploring how many individual writers are in the IMDB writers table\n",
    "imdb_writers = pd.read_sql(\n",
    "    \"\"\"SELECT DISTINCT person_id\n",
    "    FROM writers;\n",
    "    \"\"\", conn)\n",
    "imdb_writers.info()"
   ]
  },
  {
   "cell_type": "markdown",
   "metadata": {},
   "source": [
    "Explain why interested in experience:"
   ]
  },
  {
   "cell_type": "code",
   "execution_count": 40,
   "metadata": {},
   "outputs": [
    {
     "data": {
      "text/html": [
       "<div>\n",
       "<style scoped>\n",
       "    .dataframe tbody tr th:only-of-type {\n",
       "        vertical-align: middle;\n",
       "    }\n",
       "\n",
       "    .dataframe tbody tr th {\n",
       "        vertical-align: top;\n",
       "    }\n",
       "\n",
       "    .dataframe thead th {\n",
       "        text-align: right;\n",
       "    }\n",
       "</style>\n",
       "<table border=\"1\" class=\"dataframe\">\n",
       "  <thead>\n",
       "    <tr style=\"text-align: right;\">\n",
       "      <th></th>\n",
       "      <th>averagerating</th>\n",
       "      <th>numvotes</th>\n",
       "      <th>person_id</th>\n",
       "      <th>primary_title</th>\n",
       "    </tr>\n",
       "  </thead>\n",
       "  <tbody>\n",
       "    <tr>\n",
       "      <th>count</th>\n",
       "      <td>39566.000000</td>\n",
       "      <td>39566.000000</td>\n",
       "      <td>39566</td>\n",
       "      <td>39566</td>\n",
       "    </tr>\n",
       "    <tr>\n",
       "      <th>unique</th>\n",
       "      <td>NaN</td>\n",
       "      <td>NaN</td>\n",
       "      <td>39566</td>\n",
       "      <td>34106</td>\n",
       "    </tr>\n",
       "    <tr>\n",
       "      <th>top</th>\n",
       "      <td>NaN</td>\n",
       "      <td>NaN</td>\n",
       "      <td>nm6612808</td>\n",
       "      <td>Milano 55,1. Cronaca di una settimana di passioni</td>\n",
       "    </tr>\n",
       "    <tr>\n",
       "      <th>freq</th>\n",
       "      <td>NaN</td>\n",
       "      <td>NaN</td>\n",
       "      <td>1</td>\n",
       "      <td>48</td>\n",
       "    </tr>\n",
       "    <tr>\n",
       "      <th>mean</th>\n",
       "      <td>6.515766</td>\n",
       "      <td>909.214224</td>\n",
       "      <td>NaN</td>\n",
       "      <td>NaN</td>\n",
       "    </tr>\n",
       "    <tr>\n",
       "      <th>std</th>\n",
       "      <td>1.491461</td>\n",
       "      <td>9040.204720</td>\n",
       "      <td>NaN</td>\n",
       "      <td>NaN</td>\n",
       "    </tr>\n",
       "    <tr>\n",
       "      <th>min</th>\n",
       "      <td>1.000000</td>\n",
       "      <td>5.000000</td>\n",
       "      <td>NaN</td>\n",
       "      <td>NaN</td>\n",
       "    </tr>\n",
       "    <tr>\n",
       "      <th>25%</th>\n",
       "      <td>5.600000</td>\n",
       "      <td>11.000000</td>\n",
       "      <td>NaN</td>\n",
       "      <td>NaN</td>\n",
       "    </tr>\n",
       "    <tr>\n",
       "      <th>50%</th>\n",
       "      <td>6.700000</td>\n",
       "      <td>29.000000</td>\n",
       "      <td>NaN</td>\n",
       "      <td>NaN</td>\n",
       "    </tr>\n",
       "    <tr>\n",
       "      <th>75%</th>\n",
       "      <td>7.600000</td>\n",
       "      <td>134.000000</td>\n",
       "      <td>NaN</td>\n",
       "      <td>NaN</td>\n",
       "    </tr>\n",
       "    <tr>\n",
       "      <th>max</th>\n",
       "      <td>10.000000</td>\n",
       "      <td>467232.000000</td>\n",
       "      <td>NaN</td>\n",
       "      <td>NaN</td>\n",
       "    </tr>\n",
       "  </tbody>\n",
       "</table>\n",
       "</div>"
      ],
      "text/plain": [
       "        averagerating       numvotes  person_id  \\\n",
       "count    39566.000000   39566.000000      39566   \n",
       "unique            NaN            NaN      39566   \n",
       "top               NaN            NaN  nm6612808   \n",
       "freq              NaN            NaN          1   \n",
       "mean         6.515766     909.214224        NaN   \n",
       "std          1.491461    9040.204720        NaN   \n",
       "min          1.000000       5.000000        NaN   \n",
       "25%          5.600000      11.000000        NaN   \n",
       "50%          6.700000      29.000000        NaN   \n",
       "75%          7.600000     134.000000        NaN   \n",
       "max         10.000000  467232.000000        NaN   \n",
       "\n",
       "                                            primary_title  \n",
       "count                                               39566  \n",
       "unique                                              34106  \n",
       "top     Milano 55,1. Cronaca di una settimana di passioni  \n",
       "freq                                                   48  \n",
       "mean                                                  NaN  \n",
       "std                                                   NaN  \n",
       "min                                                   NaN  \n",
       "25%                                                   NaN  \n",
       "50%                                                   NaN  \n",
       "75%                                                   NaN  \n",
       "max                                                   NaN  "
      ]
     },
     "execution_count": 40,
     "metadata": {},
     "output_type": "execute_result"
    }
   ],
   "source": [
    "# DataFrame for inexperienced directors\n",
    "d_n_e = pd.read_sql(\n",
    "\"\"\"\n",
    "SELECT m.averagerating, m.numvotes, d_e.person_id, b.primary_title\n",
    "FROM movie_ratings AS m\n",
    "    JOIN \n",
    "        (SELECT DISTINCT person_id, movie_id\n",
    "        FROM directors\n",
    "        GROUP BY person_id\n",
    "        HAVING COUNT() <=3) AS d_e\n",
    "    USING(movie_id)\n",
    "    JOIN movie_basics AS b\n",
    "    USING(movie_id)\n",
    "\"\"\", conn)\n",
    "d_n_e.describe(include='all')"
   ]
  },
  {
   "cell_type": "code",
   "execution_count": 41,
   "metadata": {},
   "outputs": [
    {
     "data": {
      "text/html": [
       "<div>\n",
       "<style scoped>\n",
       "    .dataframe tbody tr th:only-of-type {\n",
       "        vertical-align: middle;\n",
       "    }\n",
       "\n",
       "    .dataframe tbody tr th {\n",
       "        vertical-align: top;\n",
       "    }\n",
       "\n",
       "    .dataframe thead th {\n",
       "        text-align: right;\n",
       "    }\n",
       "</style>\n",
       "<table border=\"1\" class=\"dataframe\">\n",
       "  <thead>\n",
       "    <tr style=\"text-align: right;\">\n",
       "      <th></th>\n",
       "      <th>averagerating</th>\n",
       "      <th>numvotes</th>\n",
       "      <th>person_id</th>\n",
       "      <th>primary_title</th>\n",
       "    </tr>\n",
       "  </thead>\n",
       "  <tbody>\n",
       "    <tr>\n",
       "      <th>count</th>\n",
       "      <td>12765.000000</td>\n",
       "      <td>1.276500e+04</td>\n",
       "      <td>12765</td>\n",
       "      <td>12765</td>\n",
       "    </tr>\n",
       "    <tr>\n",
       "      <th>unique</th>\n",
       "      <td>NaN</td>\n",
       "      <td>NaN</td>\n",
       "      <td>12765</td>\n",
       "      <td>10020</td>\n",
       "    </tr>\n",
       "    <tr>\n",
       "      <th>top</th>\n",
       "      <td>NaN</td>\n",
       "      <td>NaN</td>\n",
       "      <td>nm4902229</td>\n",
       "      <td>World of Death</td>\n",
       "    </tr>\n",
       "    <tr>\n",
       "      <th>freq</th>\n",
       "      <td>NaN</td>\n",
       "      <td>NaN</td>\n",
       "      <td>1</td>\n",
       "      <td>83</td>\n",
       "    </tr>\n",
       "    <tr>\n",
       "      <th>mean</th>\n",
       "      <td>6.159976</td>\n",
       "      <td>5.892464e+03</td>\n",
       "      <td>NaN</td>\n",
       "      <td>NaN</td>\n",
       "    </tr>\n",
       "    <tr>\n",
       "      <th>std</th>\n",
       "      <td>1.389006</td>\n",
       "      <td>3.771988e+04</td>\n",
       "      <td>NaN</td>\n",
       "      <td>NaN</td>\n",
       "    </tr>\n",
       "    <tr>\n",
       "      <th>min</th>\n",
       "      <td>1.000000</td>\n",
       "      <td>5.000000e+00</td>\n",
       "      <td>NaN</td>\n",
       "      <td>NaN</td>\n",
       "    </tr>\n",
       "    <tr>\n",
       "      <th>25%</th>\n",
       "      <td>5.400000</td>\n",
       "      <td>2.100000e+01</td>\n",
       "      <td>NaN</td>\n",
       "      <td>NaN</td>\n",
       "    </tr>\n",
       "    <tr>\n",
       "      <th>50%</th>\n",
       "      <td>6.300000</td>\n",
       "      <td>8.500000e+01</td>\n",
       "      <td>NaN</td>\n",
       "      <td>NaN</td>\n",
       "    </tr>\n",
       "    <tr>\n",
       "      <th>75%</th>\n",
       "      <td>7.100000</td>\n",
       "      <td>5.080000e+02</td>\n",
       "      <td>NaN</td>\n",
       "      <td>NaN</td>\n",
       "    </tr>\n",
       "    <tr>\n",
       "      <th>max</th>\n",
       "      <td>9.800000</td>\n",
       "      <td>1.387769e+06</td>\n",
       "      <td>NaN</td>\n",
       "      <td>NaN</td>\n",
       "    </tr>\n",
       "  </tbody>\n",
       "</table>\n",
       "</div>"
      ],
      "text/plain": [
       "        averagerating      numvotes  person_id   primary_title\n",
       "count    12765.000000  1.276500e+04      12765           12765\n",
       "unique            NaN           NaN      12765           10020\n",
       "top               NaN           NaN  nm4902229  World of Death\n",
       "freq              NaN           NaN          1              83\n",
       "mean         6.159976  5.892464e+03        NaN             NaN\n",
       "std          1.389006  3.771988e+04        NaN             NaN\n",
       "min          1.000000  5.000000e+00        NaN             NaN\n",
       "25%          5.400000  2.100000e+01        NaN             NaN\n",
       "50%          6.300000  8.500000e+01        NaN             NaN\n",
       "75%          7.100000  5.080000e+02        NaN             NaN\n",
       "max          9.800000  1.387769e+06        NaN             NaN"
      ]
     },
     "execution_count": 41,
     "metadata": {},
     "output_type": "execute_result"
    }
   ],
   "source": [
    "# DataFrame for experienced directors\n",
    "d_e = pd.read_sql(\n",
    "\"\"\"\n",
    "SELECT m.averagerating, m.numvotes, d_n_e.person_id, b.primary_title\n",
    "FROM movie_ratings AS m\n",
    "    JOIN \n",
    "        (SELECT DISTINCT person_id, movie_id\n",
    "        FROM directors\n",
    "        GROUP BY person_id\n",
    "        HAVING COUNT() >3) AS d_n_e\n",
    "    USING(movie_id)\n",
    "    JOIN movie_basics AS b\n",
    "    USING(movie_id)\n",
    "\"\"\", conn)\n",
    "d_e.describe(include='all')"
   ]
  },
  {
   "cell_type": "markdown",
   "metadata": {},
   "source": [
    "Explain threshold chosen for directors"
   ]
  },
  {
   "cell_type": "code",
   "execution_count": 42,
   "metadata": {},
   "outputs": [
    {
     "data": {
      "text/html": [
       "<div>\n",
       "<style scoped>\n",
       "    .dataframe tbody tr th:only-of-type {\n",
       "        vertical-align: middle;\n",
       "    }\n",
       "\n",
       "    .dataframe tbody tr th {\n",
       "        vertical-align: top;\n",
       "    }\n",
       "\n",
       "    .dataframe thead th {\n",
       "        text-align: right;\n",
       "    }\n",
       "</style>\n",
       "<table border=\"1\" class=\"dataframe\">\n",
       "  <thead>\n",
       "    <tr style=\"text-align: right;\">\n",
       "      <th></th>\n",
       "      <th>averagerating</th>\n",
       "      <th>numvotes</th>\n",
       "      <th>person_id</th>\n",
       "      <th>primary_title</th>\n",
       "    </tr>\n",
       "  </thead>\n",
       "  <tbody>\n",
       "    <tr>\n",
       "      <th>count</th>\n",
       "      <td>63619.000000</td>\n",
       "      <td>6.361900e+04</td>\n",
       "      <td>63619</td>\n",
       "      <td>63619</td>\n",
       "    </tr>\n",
       "    <tr>\n",
       "      <th>unique</th>\n",
       "      <td>NaN</td>\n",
       "      <td>NaN</td>\n",
       "      <td>63619</td>\n",
       "      <td>40989</td>\n",
       "    </tr>\n",
       "    <tr>\n",
       "      <th>top</th>\n",
       "      <td>NaN</td>\n",
       "      <td>NaN</td>\n",
       "      <td>nm6612808</td>\n",
       "      <td>Hug an Atheist</td>\n",
       "    </tr>\n",
       "    <tr>\n",
       "      <th>freq</th>\n",
       "      <td>NaN</td>\n",
       "      <td>NaN</td>\n",
       "      <td>1</td>\n",
       "      <td>28</td>\n",
       "    </tr>\n",
       "    <tr>\n",
       "      <th>mean</th>\n",
       "      <td>6.274442</td>\n",
       "      <td>3.764226e+03</td>\n",
       "      <td>NaN</td>\n",
       "      <td>NaN</td>\n",
       "    </tr>\n",
       "    <tr>\n",
       "      <th>std</th>\n",
       "      <td>1.448698</td>\n",
       "      <td>2.859679e+04</td>\n",
       "      <td>NaN</td>\n",
       "      <td>NaN</td>\n",
       "    </tr>\n",
       "    <tr>\n",
       "      <th>min</th>\n",
       "      <td>1.000000</td>\n",
       "      <td>5.000000e+00</td>\n",
       "      <td>NaN</td>\n",
       "      <td>NaN</td>\n",
       "    </tr>\n",
       "    <tr>\n",
       "      <th>25%</th>\n",
       "      <td>5.400000</td>\n",
       "      <td>1.500000e+01</td>\n",
       "      <td>NaN</td>\n",
       "      <td>NaN</td>\n",
       "    </tr>\n",
       "    <tr>\n",
       "      <th>50%</th>\n",
       "      <td>6.400000</td>\n",
       "      <td>5.700000e+01</td>\n",
       "      <td>NaN</td>\n",
       "      <td>NaN</td>\n",
       "    </tr>\n",
       "    <tr>\n",
       "      <th>75%</th>\n",
       "      <td>7.300000</td>\n",
       "      <td>3.340000e+02</td>\n",
       "      <td>NaN</td>\n",
       "      <td>NaN</td>\n",
       "    </tr>\n",
       "    <tr>\n",
       "      <th>max</th>\n",
       "      <td>10.000000</td>\n",
       "      <td>1.387769e+06</td>\n",
       "      <td>NaN</td>\n",
       "      <td>NaN</td>\n",
       "    </tr>\n",
       "  </tbody>\n",
       "</table>\n",
       "</div>"
      ],
      "text/plain": [
       "        averagerating      numvotes  person_id   primary_title\n",
       "count    63619.000000  6.361900e+04      63619           63619\n",
       "unique            NaN           NaN      63619           40989\n",
       "top               NaN           NaN  nm6612808  Hug an Atheist\n",
       "freq              NaN           NaN          1              28\n",
       "mean         6.274442  3.764226e+03        NaN             NaN\n",
       "std          1.448698  2.859679e+04        NaN             NaN\n",
       "min          1.000000  5.000000e+00        NaN             NaN\n",
       "25%          5.400000  1.500000e+01        NaN             NaN\n",
       "50%          6.400000  5.700000e+01        NaN             NaN\n",
       "75%          7.300000  3.340000e+02        NaN             NaN\n",
       "max         10.000000  1.387769e+06        NaN             NaN"
      ]
     },
     "execution_count": 42,
     "metadata": {},
     "output_type": "execute_result"
    }
   ],
   "source": [
    "# DataFrame for inexperienced writers\n",
    "w_n_e = pd.read_sql(\n",
    "\"\"\"\n",
    "SELECT m.averagerating, m.numvotes, w_n_e.person_id, b.primary_title\n",
    "FROM movie_ratings as m\n",
    "    JOIN \n",
    "        (SELECT DISTINCT person_id, movie_id\n",
    "        FROM writers\n",
    "        GROUP BY person_id\n",
    "        HAVING COUNT() <=3) as w_n_e\n",
    "    USING(movie_id)\n",
    "    JOIN movie_basics AS b\n",
    "    USING(movie_id)\n",
    "\"\"\", conn)\n",
    "w_n_e.describe(include='all')"
   ]
  },
  {
   "cell_type": "code",
   "execution_count": 43,
   "metadata": {},
   "outputs": [
    {
     "data": {
      "text/html": [
       "<div>\n",
       "<style scoped>\n",
       "    .dataframe tbody tr th:only-of-type {\n",
       "        vertical-align: middle;\n",
       "    }\n",
       "\n",
       "    .dataframe tbody tr th {\n",
       "        vertical-align: top;\n",
       "    }\n",
       "\n",
       "    .dataframe thead th {\n",
       "        text-align: right;\n",
       "    }\n",
       "</style>\n",
       "<table border=\"1\" class=\"dataframe\">\n",
       "  <thead>\n",
       "    <tr style=\"text-align: right;\">\n",
       "      <th></th>\n",
       "      <th>averagerating</th>\n",
       "      <th>numvotes</th>\n",
       "      <th>person_id</th>\n",
       "      <th>primary_title</th>\n",
       "    </tr>\n",
       "  </thead>\n",
       "  <tbody>\n",
       "    <tr>\n",
       "      <th>count</th>\n",
       "      <td>8434.000000</td>\n",
       "      <td>8.434000e+03</td>\n",
       "      <td>8434</td>\n",
       "      <td>8434</td>\n",
       "    </tr>\n",
       "    <tr>\n",
       "      <th>unique</th>\n",
       "      <td>NaN</td>\n",
       "      <td>NaN</td>\n",
       "      <td>8434</td>\n",
       "      <td>5387</td>\n",
       "    </tr>\n",
       "    <tr>\n",
       "      <th>top</th>\n",
       "      <td>NaN</td>\n",
       "      <td>NaN</td>\n",
       "      <td>nm0756979</td>\n",
       "      <td>World of Death</td>\n",
       "    </tr>\n",
       "    <tr>\n",
       "      <th>freq</th>\n",
       "      <td>NaN</td>\n",
       "      <td>NaN</td>\n",
       "      <td>1</td>\n",
       "      <td>46</td>\n",
       "    </tr>\n",
       "    <tr>\n",
       "      <th>mean</th>\n",
       "      <td>6.101672</td>\n",
       "      <td>9.022202e+03</td>\n",
       "      <td>NaN</td>\n",
       "      <td>NaN</td>\n",
       "    </tr>\n",
       "    <tr>\n",
       "      <th>std</th>\n",
       "      <td>1.395730</td>\n",
       "      <td>5.134912e+04</td>\n",
       "      <td>NaN</td>\n",
       "      <td>NaN</td>\n",
       "    </tr>\n",
       "    <tr>\n",
       "      <th>min</th>\n",
       "      <td>1.000000</td>\n",
       "      <td>5.000000e+00</td>\n",
       "      <td>NaN</td>\n",
       "      <td>NaN</td>\n",
       "    </tr>\n",
       "    <tr>\n",
       "      <th>25%</th>\n",
       "      <td>5.300000</td>\n",
       "      <td>2.100000e+01</td>\n",
       "      <td>NaN</td>\n",
       "      <td>NaN</td>\n",
       "    </tr>\n",
       "    <tr>\n",
       "      <th>50%</th>\n",
       "      <td>6.200000</td>\n",
       "      <td>9.700000e+01</td>\n",
       "      <td>NaN</td>\n",
       "      <td>NaN</td>\n",
       "    </tr>\n",
       "    <tr>\n",
       "      <th>75%</th>\n",
       "      <td>7.100000</td>\n",
       "      <td>6.335000e+02</td>\n",
       "      <td>NaN</td>\n",
       "      <td>NaN</td>\n",
       "    </tr>\n",
       "    <tr>\n",
       "      <th>max</th>\n",
       "      <td>9.800000</td>\n",
       "      <td>1.387769e+06</td>\n",
       "      <td>NaN</td>\n",
       "      <td>NaN</td>\n",
       "    </tr>\n",
       "  </tbody>\n",
       "</table>\n",
       "</div>"
      ],
      "text/plain": [
       "        averagerating      numvotes  person_id   primary_title\n",
       "count     8434.000000  8.434000e+03       8434            8434\n",
       "unique            NaN           NaN       8434            5387\n",
       "top               NaN           NaN  nm0756979  World of Death\n",
       "freq              NaN           NaN          1              46\n",
       "mean         6.101672  9.022202e+03        NaN             NaN\n",
       "std          1.395730  5.134912e+04        NaN             NaN\n",
       "min          1.000000  5.000000e+00        NaN             NaN\n",
       "25%          5.300000  2.100000e+01        NaN             NaN\n",
       "50%          6.200000  9.700000e+01        NaN             NaN\n",
       "75%          7.100000  6.335000e+02        NaN             NaN\n",
       "max          9.800000  1.387769e+06        NaN             NaN"
      ]
     },
     "execution_count": 43,
     "metadata": {},
     "output_type": "execute_result"
    }
   ],
   "source": [
    "# DataFrame for experienced writers\n",
    "\n",
    "w_e = pd.read_sql(\n",
    "\"\"\"\n",
    "SELECT m.averagerating, m.numvotes, w_e.person_id, b.primary_title\n",
    "FROM movie_ratings as m\n",
    "    JOIN \n",
    "        (SELECT DISTINCT person_id, movie_id\n",
    "        FROM writers\n",
    "        GROUP BY person_id\n",
    "        HAVING COUNT() >3) as w_e\n",
    "    USING(movie_id)\n",
    "    JOIN movie_basics AS b\n",
    "    USING(movie_id)\n",
    "\"\"\", conn)\n",
    "w_e.describe(include='all')"
   ]
  },
  {
   "cell_type": "markdown",
   "metadata": {},
   "source": [
    "Explain threshold chosen for writers"
   ]
  },
  {
   "cell_type": "code",
   "execution_count": 44,
   "metadata": {},
   "outputs": [
    {
     "data": {
      "text/html": [
       "<div>\n",
       "<style scoped>\n",
       "    .dataframe tbody tr th:only-of-type {\n",
       "        vertical-align: middle;\n",
       "    }\n",
       "\n",
       "    .dataframe tbody tr th {\n",
       "        vertical-align: top;\n",
       "    }\n",
       "\n",
       "    .dataframe thead th {\n",
       "        text-align: right;\n",
       "    }\n",
       "</style>\n",
       "<table border=\"1\" class=\"dataframe\">\n",
       "  <thead>\n",
       "    <tr style=\"text-align: right;\">\n",
       "      <th></th>\n",
       "      <th>averagerating</th>\n",
       "      <th>numvotes</th>\n",
       "      <th>person_id</th>\n",
       "      <th>primary_title</th>\n",
       "      <th>Unnamed: 0</th>\n",
       "      <th>id_x</th>\n",
       "      <th>popularity</th>\n",
       "      <th>release_date_x</th>\n",
       "      <th>vote_average</th>\n",
       "      <th>vote_count</th>\n",
       "      <th>id_y</th>\n",
       "      <th>release_date_y</th>\n",
       "      <th>production_budget</th>\n",
       "      <th>domestic_gross</th>\n",
       "      <th>worldwide_gross</th>\n",
       "      <th>release_month</th>\n",
       "      <th>release_year</th>\n",
       "      <th>domestic_ROI</th>\n",
       "      <th>worldwide_ROI</th>\n",
       "    </tr>\n",
       "  </thead>\n",
       "  <tbody>\n",
       "    <tr>\n",
       "      <th>0</th>\n",
       "      <td>7.6</td>\n",
       "      <td>326657</td>\n",
       "      <td>nm0587955</td>\n",
       "      <td>Moneyball</td>\n",
       "      <td>2505</td>\n",
       "      <td>60308</td>\n",
       "      <td>15.393</td>\n",
       "      <td>2011-09-22</td>\n",
       "      <td>7.1</td>\n",
       "      <td>2255</td>\n",
       "      <td>15</td>\n",
       "      <td>2011-09-23</td>\n",
       "      <td>50000000</td>\n",
       "      <td>75605492</td>\n",
       "      <td>111300835</td>\n",
       "      <td>September</td>\n",
       "      <td>2011</td>\n",
       "      <td>51.210984</td>\n",
       "      <td>122.601670</td>\n",
       "    </tr>\n",
       "    <tr>\n",
       "      <th>1</th>\n",
       "      <td>7.0</td>\n",
       "      <td>85839</td>\n",
       "      <td>nm2648685</td>\n",
       "      <td>Another Earth</td>\n",
       "      <td>2633</td>\n",
       "      <td>55420</td>\n",
       "      <td>10.030</td>\n",
       "      <td>2011-07-22</td>\n",
       "      <td>6.7</td>\n",
       "      <td>853</td>\n",
       "      <td>48</td>\n",
       "      <td>2011-07-22</td>\n",
       "      <td>175000</td>\n",
       "      <td>1321194</td>\n",
       "      <td>2102779</td>\n",
       "      <td>July</td>\n",
       "      <td>2011</td>\n",
       "      <td>654.968000</td>\n",
       "      <td>1101.588000</td>\n",
       "    </tr>\n",
       "    <tr>\n",
       "      <th>2</th>\n",
       "      <td>4.7</td>\n",
       "      <td>59914</td>\n",
       "      <td>nm0001774</td>\n",
       "      <td>Zoolander 2</td>\n",
       "      <td>17483</td>\n",
       "      <td>329833</td>\n",
       "      <td>12.997</td>\n",
       "      <td>2016-02-12</td>\n",
       "      <td>4.7</td>\n",
       "      <td>1374</td>\n",
       "      <td>64</td>\n",
       "      <td>2016-02-12</td>\n",
       "      <td>50000000</td>\n",
       "      <td>28848693</td>\n",
       "      <td>55348693</td>\n",
       "      <td>February</td>\n",
       "      <td>2016</td>\n",
       "      <td>-42.302614</td>\n",
       "      <td>10.697386</td>\n",
       "    </tr>\n",
       "    <tr>\n",
       "      <th>3</th>\n",
       "      <td>7.2</td>\n",
       "      <td>28994</td>\n",
       "      <td>nm0000776</td>\n",
       "      <td>Chasing Mavericks</td>\n",
       "      <td>5517</td>\n",
       "      <td>82684</td>\n",
       "      <td>6.546</td>\n",
       "      <td>2012-10-26</td>\n",
       "      <td>7.0</td>\n",
       "      <td>329</td>\n",
       "      <td>67</td>\n",
       "      <td>2012-10-26</td>\n",
       "      <td>20000000</td>\n",
       "      <td>6002756</td>\n",
       "      <td>8300821</td>\n",
       "      <td>October</td>\n",
       "      <td>2012</td>\n",
       "      <td>-69.986220</td>\n",
       "      <td>-58.495895</td>\n",
       "    </tr>\n",
       "    <tr>\n",
       "      <th>4</th>\n",
       "      <td>5.7</td>\n",
       "      <td>9089</td>\n",
       "      <td>nm0015328</td>\n",
       "      <td>Jumping the Broom</td>\n",
       "      <td>2704</td>\n",
       "      <td>57119</td>\n",
       "      <td>8.477</td>\n",
       "      <td>2011-05-06</td>\n",
       "      <td>6.0</td>\n",
       "      <td>103</td>\n",
       "      <td>93</td>\n",
       "      <td>2011-05-06</td>\n",
       "      <td>7000000</td>\n",
       "      <td>37295394</td>\n",
       "      <td>38158601</td>\n",
       "      <td>May</td>\n",
       "      <td>2011</td>\n",
       "      <td>432.791343</td>\n",
       "      <td>445.122871</td>\n",
       "    </tr>\n",
       "    <tr>\n",
       "      <th>...</th>\n",
       "      <td>...</td>\n",
       "      <td>...</td>\n",
       "      <td>...</td>\n",
       "      <td>...</td>\n",
       "      <td>...</td>\n",
       "      <td>...</td>\n",
       "      <td>...</td>\n",
       "      <td>...</td>\n",
       "      <td>...</td>\n",
       "      <td>...</td>\n",
       "      <td>...</td>\n",
       "      <td>...</td>\n",
       "      <td>...</td>\n",
       "      <td>...</td>\n",
       "      <td>...</td>\n",
       "      <td>...</td>\n",
       "      <td>...</td>\n",
       "      <td>...</td>\n",
       "      <td>...</td>\n",
       "    </tr>\n",
       "    <tr>\n",
       "      <th>626</th>\n",
       "      <td>4.4</td>\n",
       "      <td>5648</td>\n",
       "      <td>nm2411665</td>\n",
       "      <td>Khiladi 786</td>\n",
       "      <td>6157</td>\n",
       "      <td>147767</td>\n",
       "      <td>1.824</td>\n",
       "      <td>2012-12-07</td>\n",
       "      <td>4.7</td>\n",
       "      <td>16</td>\n",
       "      <td>12</td>\n",
       "      <td>2012-12-07</td>\n",
       "      <td>5600000</td>\n",
       "      <td>385422</td>\n",
       "      <td>14683763</td>\n",
       "      <td>December</td>\n",
       "      <td>2012</td>\n",
       "      <td>-93.117464</td>\n",
       "      <td>162.210054</td>\n",
       "    </tr>\n",
       "    <tr>\n",
       "      <th>627</th>\n",
       "      <td>5.6</td>\n",
       "      <td>74979</td>\n",
       "      <td>nm0027271</td>\n",
       "      <td>Resident Evil: The Final Chapter</td>\n",
       "      <td>22654</td>\n",
       "      <td>173897</td>\n",
       "      <td>0.844</td>\n",
       "      <td>2017-01-27</td>\n",
       "      <td>5.9</td>\n",
       "      <td>1859</td>\n",
       "      <td>84</td>\n",
       "      <td>2017-01-27</td>\n",
       "      <td>40000000</td>\n",
       "      <td>26844692</td>\n",
       "      <td>314101190</td>\n",
       "      <td>January</td>\n",
       "      <td>2017</td>\n",
       "      <td>-32.888270</td>\n",
       "      <td>685.252975</td>\n",
       "    </tr>\n",
       "    <tr>\n",
       "      <th>628</th>\n",
       "      <td>7.0</td>\n",
       "      <td>163279</td>\n",
       "      <td>nm0197855</td>\n",
       "      <td>Game Night</td>\n",
       "      <td>23908</td>\n",
       "      <td>445571</td>\n",
       "      <td>19.459</td>\n",
       "      <td>2018-02-23</td>\n",
       "      <td>6.9</td>\n",
       "      <td>2756</td>\n",
       "      <td>94</td>\n",
       "      <td>2018-02-23</td>\n",
       "      <td>37000000</td>\n",
       "      <td>69179066</td>\n",
       "      <td>117378084</td>\n",
       "      <td>February</td>\n",
       "      <td>2018</td>\n",
       "      <td>86.970449</td>\n",
       "      <td>217.238065</td>\n",
       "    </tr>\n",
       "    <tr>\n",
       "      <th>629</th>\n",
       "      <td>7.0</td>\n",
       "      <td>163279</td>\n",
       "      <td>nm0326246</td>\n",
       "      <td>Game Night</td>\n",
       "      <td>23908</td>\n",
       "      <td>445571</td>\n",
       "      <td>19.459</td>\n",
       "      <td>2018-02-23</td>\n",
       "      <td>6.9</td>\n",
       "      <td>2756</td>\n",
       "      <td>94</td>\n",
       "      <td>2018-02-23</td>\n",
       "      <td>37000000</td>\n",
       "      <td>69179066</td>\n",
       "      <td>117378084</td>\n",
       "      <td>February</td>\n",
       "      <td>2018</td>\n",
       "      <td>86.970449</td>\n",
       "      <td>217.238065</td>\n",
       "    </tr>\n",
       "    <tr>\n",
       "      <th>630</th>\n",
       "      <td>6.2</td>\n",
       "      <td>760</td>\n",
       "      <td>nm0502412</td>\n",
       "      <td>Out of the Blue</td>\n",
       "      <td>10024</td>\n",
       "      <td>281697</td>\n",
       "      <td>0.600</td>\n",
       "      <td>2013-10-01</td>\n",
       "      <td>10.0</td>\n",
       "      <td>1</td>\n",
       "      <td>23</td>\n",
       "      <td>2007-10-19</td>\n",
       "      <td>4600000</td>\n",
       "      <td>728</td>\n",
       "      <td>731767</td>\n",
       "      <td>October</td>\n",
       "      <td>2007</td>\n",
       "      <td>-99.984174</td>\n",
       "      <td>-84.092022</td>\n",
       "    </tr>\n",
       "  </tbody>\n",
       "</table>\n",
       "<p>631 rows × 19 columns</p>\n",
       "</div>"
      ],
      "text/plain": [
       "     averagerating  numvotes  person_id                     primary_title  \\\n",
       "0              7.6    326657  nm0587955                         Moneyball   \n",
       "1              7.0     85839  nm2648685                     Another Earth   \n",
       "2              4.7     59914  nm0001774                       Zoolander 2   \n",
       "3              7.2     28994  nm0000776                 Chasing Mavericks   \n",
       "4              5.7      9089  nm0015328                 Jumping the Broom   \n",
       "..             ...       ...        ...                               ...   \n",
       "626            4.4      5648  nm2411665                       Khiladi 786   \n",
       "627            5.6     74979  nm0027271  Resident Evil: The Final Chapter   \n",
       "628            7.0    163279  nm0197855                        Game Night   \n",
       "629            7.0    163279  nm0326246                        Game Night   \n",
       "630            6.2       760  nm0502412                   Out of the Blue   \n",
       "\n",
       "     Unnamed: 0    id_x  popularity release_date_x  vote_average  vote_count  \\\n",
       "0          2505   60308      15.393     2011-09-22           7.1        2255   \n",
       "1          2633   55420      10.030     2011-07-22           6.7         853   \n",
       "2         17483  329833      12.997     2016-02-12           4.7        1374   \n",
       "3          5517   82684       6.546     2012-10-26           7.0         329   \n",
       "4          2704   57119       8.477     2011-05-06           6.0         103   \n",
       "..          ...     ...         ...            ...           ...         ...   \n",
       "626        6157  147767       1.824     2012-12-07           4.7          16   \n",
       "627       22654  173897       0.844     2017-01-27           5.9        1859   \n",
       "628       23908  445571      19.459     2018-02-23           6.9        2756   \n",
       "629       23908  445571      19.459     2018-02-23           6.9        2756   \n",
       "630       10024  281697       0.600     2013-10-01          10.0           1   \n",
       "\n",
       "     id_y release_date_y  production_budget  domestic_gross  worldwide_gross  \\\n",
       "0      15     2011-09-23           50000000        75605492        111300835   \n",
       "1      48     2011-07-22             175000         1321194          2102779   \n",
       "2      64     2016-02-12           50000000        28848693         55348693   \n",
       "3      67     2012-10-26           20000000         6002756          8300821   \n",
       "4      93     2011-05-06            7000000        37295394         38158601   \n",
       "..    ...            ...                ...             ...              ...   \n",
       "626    12     2012-12-07            5600000          385422         14683763   \n",
       "627    84     2017-01-27           40000000        26844692        314101190   \n",
       "628    94     2018-02-23           37000000        69179066        117378084   \n",
       "629    94     2018-02-23           37000000        69179066        117378084   \n",
       "630    23     2007-10-19            4600000             728           731767   \n",
       "\n",
       "    release_month  release_year  domestic_ROI  worldwide_ROI  \n",
       "0       September          2011     51.210984     122.601670  \n",
       "1            July          2011    654.968000    1101.588000  \n",
       "2        February          2016    -42.302614      10.697386  \n",
       "3         October          2012    -69.986220     -58.495895  \n",
       "4             May          2011    432.791343     445.122871  \n",
       "..            ...           ...           ...            ...  \n",
       "626      December          2012    -93.117464     162.210054  \n",
       "627       January          2017    -32.888270     685.252975  \n",
       "628      February          2018     86.970449     217.238065  \n",
       "629      February          2018     86.970449     217.238065  \n",
       "630       October          2007    -99.984174     -84.092022  \n",
       "\n",
       "[631 rows x 19 columns]"
      ]
     },
     "execution_count": 44,
     "metadata": {},
     "output_type": "execute_result"
    }
   ],
   "source": [
    "# Merging the experienced directors DataFrame with tmdb_movies and tn.movie_budgets\n",
    "merged_d_e = pd.merge(d_e, tmdb_movies, on='primary_title')\n",
    "merged_d_e = pd.merge(merged_d_e, tn_movie_budgets, on='primary_title')\n",
    "merged_d_e"
   ]
  },
  {
   "cell_type": "code",
   "execution_count": 45,
   "metadata": {},
   "outputs": [
    {
     "data": {
      "text/html": [
       "<div>\n",
       "<style scoped>\n",
       "    .dataframe tbody tr th:only-of-type {\n",
       "        vertical-align: middle;\n",
       "    }\n",
       "\n",
       "    .dataframe tbody tr th {\n",
       "        vertical-align: top;\n",
       "    }\n",
       "\n",
       "    .dataframe thead th {\n",
       "        text-align: right;\n",
       "    }\n",
       "</style>\n",
       "<table border=\"1\" class=\"dataframe\">\n",
       "  <thead>\n",
       "    <tr style=\"text-align: right;\">\n",
       "      <th></th>\n",
       "      <th>averagerating</th>\n",
       "      <th>numvotes</th>\n",
       "      <th>person_id</th>\n",
       "      <th>primary_title</th>\n",
       "      <th>Unnamed: 0</th>\n",
       "      <th>id_x</th>\n",
       "      <th>popularity</th>\n",
       "      <th>release_date_x</th>\n",
       "      <th>vote_average</th>\n",
       "      <th>vote_count</th>\n",
       "      <th>id_y</th>\n",
       "      <th>release_date_y</th>\n",
       "      <th>production_budget</th>\n",
       "      <th>domestic_gross</th>\n",
       "      <th>worldwide_gross</th>\n",
       "      <th>release_month</th>\n",
       "      <th>release_year</th>\n",
       "      <th>domestic_ROI</th>\n",
       "      <th>worldwide_ROI</th>\n",
       "    </tr>\n",
       "  </thead>\n",
       "  <tbody>\n",
       "    <tr>\n",
       "      <th>0</th>\n",
       "      <td>7.0</td>\n",
       "      <td>1613</td>\n",
       "      <td>nm1464150</td>\n",
       "      <td>The Hammer</td>\n",
       "      <td>869</td>\n",
       "      <td>74447</td>\n",
       "      <td>1.961</td>\n",
       "      <td>2010-10-26</td>\n",
       "      <td>6.5</td>\n",
       "      <td>16</td>\n",
       "      <td>50</td>\n",
       "      <td>2008-03-21</td>\n",
       "      <td>850000</td>\n",
       "      <td>442638</td>\n",
       "      <td>442638</td>\n",
       "      <td>March</td>\n",
       "      <td>2008</td>\n",
       "      <td>-47.924941</td>\n",
       "      <td>-47.924941</td>\n",
       "    </tr>\n",
       "    <tr>\n",
       "      <th>1</th>\n",
       "      <td>6.5</td>\n",
       "      <td>13</td>\n",
       "      <td>nm4418339</td>\n",
       "      <td>The Hammer</td>\n",
       "      <td>869</td>\n",
       "      <td>74447</td>\n",
       "      <td>1.961</td>\n",
       "      <td>2010-10-26</td>\n",
       "      <td>6.5</td>\n",
       "      <td>16</td>\n",
       "      <td>50</td>\n",
       "      <td>2008-03-21</td>\n",
       "      <td>850000</td>\n",
       "      <td>442638</td>\n",
       "      <td>442638</td>\n",
       "      <td>March</td>\n",
       "      <td>2008</td>\n",
       "      <td>-47.924941</td>\n",
       "      <td>-47.924941</td>\n",
       "    </tr>\n",
       "    <tr>\n",
       "      <th>2</th>\n",
       "      <td>4.4</td>\n",
       "      <td>69199</td>\n",
       "      <td>nm0455078</td>\n",
       "      <td>Sex and the City 2</td>\n",
       "      <td>137</td>\n",
       "      <td>37786</td>\n",
       "      <td>9.986</td>\n",
       "      <td>2010-05-27</td>\n",
       "      <td>5.9</td>\n",
       "      <td>809</td>\n",
       "      <td>16</td>\n",
       "      <td>2010-05-27</td>\n",
       "      <td>95000000</td>\n",
       "      <td>95347692</td>\n",
       "      <td>294680778</td>\n",
       "      <td>May</td>\n",
       "      <td>2010</td>\n",
       "      <td>0.365992</td>\n",
       "      <td>210.190293</td>\n",
       "    </tr>\n",
       "    <tr>\n",
       "      <th>3</th>\n",
       "      <td>5.6</td>\n",
       "      <td>44490</td>\n",
       "      <td>nm2552536</td>\n",
       "      <td>Don't Be Afraid of the Dark</td>\n",
       "      <td>214</td>\n",
       "      <td>46261</td>\n",
       "      <td>8.405</td>\n",
       "      <td>2010-11-06</td>\n",
       "      <td>5.5</td>\n",
       "      <td>550</td>\n",
       "      <td>43</td>\n",
       "      <td>2011-08-26</td>\n",
       "      <td>25000000</td>\n",
       "      <td>24046682</td>\n",
       "      <td>39126427</td>\n",
       "      <td>August</td>\n",
       "      <td>2011</td>\n",
       "      <td>-3.813272</td>\n",
       "      <td>56.505708</td>\n",
       "    </tr>\n",
       "    <tr>\n",
       "      <th>4</th>\n",
       "      <td>7.1</td>\n",
       "      <td>129443</td>\n",
       "      <td>nm0002339</td>\n",
       "      <td>Remember Me</td>\n",
       "      <td>92</td>\n",
       "      <td>23169</td>\n",
       "      <td>11.453</td>\n",
       "      <td>2010-03-12</td>\n",
       "      <td>7.1</td>\n",
       "      <td>2079</td>\n",
       "      <td>51</td>\n",
       "      <td>2010-03-12</td>\n",
       "      <td>16000000</td>\n",
       "      <td>19068240</td>\n",
       "      <td>56506120</td>\n",
       "      <td>March</td>\n",
       "      <td>2010</td>\n",
       "      <td>19.176500</td>\n",
       "      <td>253.163250</td>\n",
       "    </tr>\n",
       "    <tr>\n",
       "      <th>...</th>\n",
       "      <td>...</td>\n",
       "      <td>...</td>\n",
       "      <td>...</td>\n",
       "      <td>...</td>\n",
       "      <td>...</td>\n",
       "      <td>...</td>\n",
       "      <td>...</td>\n",
       "      <td>...</td>\n",
       "      <td>...</td>\n",
       "      <td>...</td>\n",
       "      <td>...</td>\n",
       "      <td>...</td>\n",
       "      <td>...</td>\n",
       "      <td>...</td>\n",
       "      <td>...</td>\n",
       "      <td>...</td>\n",
       "      <td>...</td>\n",
       "      <td>...</td>\n",
       "      <td>...</td>\n",
       "    </tr>\n",
       "    <tr>\n",
       "      <th>846</th>\n",
       "      <td>5.7</td>\n",
       "      <td>37</td>\n",
       "      <td>nm0928316</td>\n",
       "      <td>Sisters</td>\n",
       "      <td>14294</td>\n",
       "      <td>266294</td>\n",
       "      <td>10.993</td>\n",
       "      <td>2015-12-18</td>\n",
       "      <td>5.9</td>\n",
       "      <td>922</td>\n",
       "      <td>57</td>\n",
       "      <td>2015-12-18</td>\n",
       "      <td>30000000</td>\n",
       "      <td>87044645</td>\n",
       "      <td>106030660</td>\n",
       "      <td>December</td>\n",
       "      <td>2015</td>\n",
       "      <td>190.148817</td>\n",
       "      <td>253.435533</td>\n",
       "    </tr>\n",
       "    <tr>\n",
       "      <th>847</th>\n",
       "      <td>4.9</td>\n",
       "      <td>632</td>\n",
       "      <td>nm2178754</td>\n",
       "      <td>The Sleepwalker</td>\n",
       "      <td>11910</td>\n",
       "      <td>244776</td>\n",
       "      <td>2.659</td>\n",
       "      <td>2014-01-20</td>\n",
       "      <td>4.1</td>\n",
       "      <td>9</td>\n",
       "      <td>2</td>\n",
       "      <td>2014-11-21</td>\n",
       "      <td>1100000</td>\n",
       "      <td>2636</td>\n",
       "      <td>2636</td>\n",
       "      <td>November</td>\n",
       "      <td>2014</td>\n",
       "      <td>-99.760364</td>\n",
       "      <td>-99.760364</td>\n",
       "    </tr>\n",
       "    <tr>\n",
       "      <th>848</th>\n",
       "      <td>7.7</td>\n",
       "      <td>1165</td>\n",
       "      <td>nm4717106</td>\n",
       "      <td>Phantom</td>\n",
       "      <td>8199</td>\n",
       "      <td>152259</td>\n",
       "      <td>7.211</td>\n",
       "      <td>2013-03-01</td>\n",
       "      <td>6.0</td>\n",
       "      <td>151</td>\n",
       "      <td>43</td>\n",
       "      <td>2013-03-01</td>\n",
       "      <td>18000000</td>\n",
       "      <td>1034589</td>\n",
       "      <td>1199510</td>\n",
       "      <td>March</td>\n",
       "      <td>2013</td>\n",
       "      <td>-94.252283</td>\n",
       "      <td>-93.336056</td>\n",
       "    </tr>\n",
       "    <tr>\n",
       "      <th>849</th>\n",
       "      <td>6.9</td>\n",
       "      <td>14122</td>\n",
       "      <td>nm0697656</td>\n",
       "      <td>Beyond the Lights</td>\n",
       "      <td>11333</td>\n",
       "      <td>241771</td>\n",
       "      <td>7.717</td>\n",
       "      <td>2014-11-14</td>\n",
       "      <td>7.0</td>\n",
       "      <td>238</td>\n",
       "      <td>16</td>\n",
       "      <td>2014-11-14</td>\n",
       "      <td>7000000</td>\n",
       "      <td>14618727</td>\n",
       "      <td>14618727</td>\n",
       "      <td>November</td>\n",
       "      <td>2014</td>\n",
       "      <td>108.838957</td>\n",
       "      <td>108.838957</td>\n",
       "    </tr>\n",
       "    <tr>\n",
       "      <th>850</th>\n",
       "      <td>6.9</td>\n",
       "      <td>14122</td>\n",
       "      <td>nm0697656</td>\n",
       "      <td>Beyond the Lights</td>\n",
       "      <td>14469</td>\n",
       "      <td>241771</td>\n",
       "      <td>7.717</td>\n",
       "      <td>2014-11-14</td>\n",
       "      <td>7.0</td>\n",
       "      <td>238</td>\n",
       "      <td>16</td>\n",
       "      <td>2014-11-14</td>\n",
       "      <td>7000000</td>\n",
       "      <td>14618727</td>\n",
       "      <td>14618727</td>\n",
       "      <td>November</td>\n",
       "      <td>2014</td>\n",
       "      <td>108.838957</td>\n",
       "      <td>108.838957</td>\n",
       "    </tr>\n",
       "  </tbody>\n",
       "</table>\n",
       "<p>851 rows × 19 columns</p>\n",
       "</div>"
      ],
      "text/plain": [
       "     averagerating  numvotes  person_id                primary_title  \\\n",
       "0              7.0      1613  nm1464150                   The Hammer   \n",
       "1              6.5        13  nm4418339                   The Hammer   \n",
       "2              4.4     69199  nm0455078           Sex and the City 2   \n",
       "3              5.6     44490  nm2552536  Don't Be Afraid of the Dark   \n",
       "4              7.1    129443  nm0002339                  Remember Me   \n",
       "..             ...       ...        ...                          ...   \n",
       "846            5.7        37  nm0928316                      Sisters   \n",
       "847            4.9       632  nm2178754              The Sleepwalker   \n",
       "848            7.7      1165  nm4717106                      Phantom   \n",
       "849            6.9     14122  nm0697656            Beyond the Lights   \n",
       "850            6.9     14122  nm0697656            Beyond the Lights   \n",
       "\n",
       "     Unnamed: 0    id_x  popularity release_date_x  vote_average  vote_count  \\\n",
       "0           869   74447       1.961     2010-10-26           6.5          16   \n",
       "1           869   74447       1.961     2010-10-26           6.5          16   \n",
       "2           137   37786       9.986     2010-05-27           5.9         809   \n",
       "3           214   46261       8.405     2010-11-06           5.5         550   \n",
       "4            92   23169      11.453     2010-03-12           7.1        2079   \n",
       "..          ...     ...         ...            ...           ...         ...   \n",
       "846       14294  266294      10.993     2015-12-18           5.9         922   \n",
       "847       11910  244776       2.659     2014-01-20           4.1           9   \n",
       "848        8199  152259       7.211     2013-03-01           6.0         151   \n",
       "849       11333  241771       7.717     2014-11-14           7.0         238   \n",
       "850       14469  241771       7.717     2014-11-14           7.0         238   \n",
       "\n",
       "     id_y release_date_y  production_budget  domestic_gross  worldwide_gross  \\\n",
       "0      50     2008-03-21             850000          442638           442638   \n",
       "1      50     2008-03-21             850000          442638           442638   \n",
       "2      16     2010-05-27           95000000        95347692        294680778   \n",
       "3      43     2011-08-26           25000000        24046682         39126427   \n",
       "4      51     2010-03-12           16000000        19068240         56506120   \n",
       "..    ...            ...                ...             ...              ...   \n",
       "846    57     2015-12-18           30000000        87044645        106030660   \n",
       "847     2     2014-11-21            1100000            2636             2636   \n",
       "848    43     2013-03-01           18000000         1034589          1199510   \n",
       "849    16     2014-11-14            7000000        14618727         14618727   \n",
       "850    16     2014-11-14            7000000        14618727         14618727   \n",
       "\n",
       "    release_month  release_year  domestic_ROI  worldwide_ROI  \n",
       "0           March          2008    -47.924941     -47.924941  \n",
       "1           March          2008    -47.924941     -47.924941  \n",
       "2             May          2010      0.365992     210.190293  \n",
       "3          August          2011     -3.813272      56.505708  \n",
       "4           March          2010     19.176500     253.163250  \n",
       "..            ...           ...           ...            ...  \n",
       "846      December          2015    190.148817     253.435533  \n",
       "847      November          2014    -99.760364     -99.760364  \n",
       "848         March          2013    -94.252283     -93.336056  \n",
       "849      November          2014    108.838957     108.838957  \n",
       "850      November          2014    108.838957     108.838957  \n",
       "\n",
       "[851 rows x 19 columns]"
      ]
     },
     "execution_count": 45,
     "metadata": {},
     "output_type": "execute_result"
    }
   ],
   "source": [
    "# Merging the inexperienced directors DataFrame with tmdb_movies and tn.movie_budgets\n",
    "merged_d_n_e = pd.merge(d_n_e, tmdb_movies, on='primary_title')\n",
    "merged_d_n_e = pd.merge(merged_d_n_e, tn_movie_budgets, on='primary_title')\n",
    "merged_d_n_e"
   ]
  },
  {
   "cell_type": "code",
   "execution_count": 46,
   "metadata": {},
   "outputs": [
    {
     "data": {
      "text/html": [
       "<div>\n",
       "<style scoped>\n",
       "    .dataframe tbody tr th:only-of-type {\n",
       "        vertical-align: middle;\n",
       "    }\n",
       "\n",
       "    .dataframe tbody tr th {\n",
       "        vertical-align: top;\n",
       "    }\n",
       "\n",
       "    .dataframe thead th {\n",
       "        text-align: right;\n",
       "    }\n",
       "</style>\n",
       "<table border=\"1\" class=\"dataframe\">\n",
       "  <thead>\n",
       "    <tr style=\"text-align: right;\">\n",
       "      <th></th>\n",
       "      <th>averagerating</th>\n",
       "      <th>numvotes</th>\n",
       "      <th>person_id</th>\n",
       "      <th>primary_title</th>\n",
       "      <th>Unnamed: 0</th>\n",
       "      <th>id_x</th>\n",
       "      <th>popularity</th>\n",
       "      <th>release_date_x</th>\n",
       "      <th>vote_average</th>\n",
       "      <th>vote_count</th>\n",
       "      <th>id_y</th>\n",
       "      <th>release_date_y</th>\n",
       "      <th>production_budget</th>\n",
       "      <th>domestic_gross</th>\n",
       "      <th>worldwide_gross</th>\n",
       "      <th>release_month</th>\n",
       "      <th>release_year</th>\n",
       "      <th>domestic_ROI</th>\n",
       "      <th>worldwide_ROI</th>\n",
       "    </tr>\n",
       "  </thead>\n",
       "  <tbody>\n",
       "    <tr>\n",
       "      <th>0</th>\n",
       "      <td>8.0</td>\n",
       "      <td>621193</td>\n",
       "      <td>nm1872664</td>\n",
       "      <td>The Revenant</td>\n",
       "      <td>14203</td>\n",
       "      <td>281957</td>\n",
       "      <td>19.410</td>\n",
       "      <td>2015-12-25</td>\n",
       "      <td>7.4</td>\n",
       "      <td>11064</td>\n",
       "      <td>27</td>\n",
       "      <td>2015-12-25</td>\n",
       "      <td>135000000</td>\n",
       "      <td>183637894</td>\n",
       "      <td>532938302</td>\n",
       "      <td>December</td>\n",
       "      <td>2015</td>\n",
       "      <td>36.028070</td>\n",
       "      <td>294.769113</td>\n",
       "    </tr>\n",
       "    <tr>\n",
       "      <th>1</th>\n",
       "      <td>8.0</td>\n",
       "      <td>621193</td>\n",
       "      <td>nm1872664</td>\n",
       "      <td>The Revenant</td>\n",
       "      <td>17411</td>\n",
       "      <td>281957</td>\n",
       "      <td>19.410</td>\n",
       "      <td>2015-12-25</td>\n",
       "      <td>7.4</td>\n",
       "      <td>11064</td>\n",
       "      <td>27</td>\n",
       "      <td>2015-12-25</td>\n",
       "      <td>135000000</td>\n",
       "      <td>183637894</td>\n",
       "      <td>532938302</td>\n",
       "      <td>December</td>\n",
       "      <td>2015</td>\n",
       "      <td>36.028070</td>\n",
       "      <td>294.769113</td>\n",
       "    </tr>\n",
       "    <tr>\n",
       "      <th>2</th>\n",
       "      <td>7.2</td>\n",
       "      <td>176699</td>\n",
       "      <td>nm0000092</td>\n",
       "      <td>The Croods</td>\n",
       "      <td>7914</td>\n",
       "      <td>49519</td>\n",
       "      <td>16.290</td>\n",
       "      <td>2013-03-22</td>\n",
       "      <td>6.8</td>\n",
       "      <td>3873</td>\n",
       "      <td>26</td>\n",
       "      <td>2013-03-22</td>\n",
       "      <td>135000000</td>\n",
       "      <td>187168425</td>\n",
       "      <td>573068425</td>\n",
       "      <td>March</td>\n",
       "      <td>2013</td>\n",
       "      <td>38.643278</td>\n",
       "      <td>324.495130</td>\n",
       "    </tr>\n",
       "    <tr>\n",
       "      <th>3</th>\n",
       "      <td>6.4</td>\n",
       "      <td>6466</td>\n",
       "      <td>nm0119989</td>\n",
       "      <td>Freakonomics</td>\n",
       "      <td>401</td>\n",
       "      <td>43942</td>\n",
       "      <td>5.705</td>\n",
       "      <td>2010-10-01</td>\n",
       "      <td>6.6</td>\n",
       "      <td>57</td>\n",
       "      <td>80</td>\n",
       "      <td>2010-10-01</td>\n",
       "      <td>2900000</td>\n",
       "      <td>101270</td>\n",
       "      <td>172867</td>\n",
       "      <td>October</td>\n",
       "      <td>2010</td>\n",
       "      <td>-96.507931</td>\n",
       "      <td>-94.039069</td>\n",
       "    </tr>\n",
       "    <tr>\n",
       "      <th>4</th>\n",
       "      <td>6.4</td>\n",
       "      <td>6466</td>\n",
       "      <td>nm1164861</td>\n",
       "      <td>Freakonomics</td>\n",
       "      <td>401</td>\n",
       "      <td>43942</td>\n",
       "      <td>5.705</td>\n",
       "      <td>2010-10-01</td>\n",
       "      <td>6.6</td>\n",
       "      <td>57</td>\n",
       "      <td>80</td>\n",
       "      <td>2010-10-01</td>\n",
       "      <td>2900000</td>\n",
       "      <td>101270</td>\n",
       "      <td>172867</td>\n",
       "      <td>October</td>\n",
       "      <td>2010</td>\n",
       "      <td>-96.507931</td>\n",
       "      <td>-94.039069</td>\n",
       "    </tr>\n",
       "    <tr>\n",
       "      <th>...</th>\n",
       "      <td>...</td>\n",
       "      <td>...</td>\n",
       "      <td>...</td>\n",
       "      <td>...</td>\n",
       "      <td>...</td>\n",
       "      <td>...</td>\n",
       "      <td>...</td>\n",
       "      <td>...</td>\n",
       "      <td>...</td>\n",
       "      <td>...</td>\n",
       "      <td>...</td>\n",
       "      <td>...</td>\n",
       "      <td>...</td>\n",
       "      <td>...</td>\n",
       "      <td>...</td>\n",
       "      <td>...</td>\n",
       "      <td>...</td>\n",
       "      <td>...</td>\n",
       "      <td>...</td>\n",
       "    </tr>\n",
       "    <tr>\n",
       "      <th>524</th>\n",
       "      <td>4.4</td>\n",
       "      <td>5648</td>\n",
       "      <td>nm5244862</td>\n",
       "      <td>Khiladi 786</td>\n",
       "      <td>6157</td>\n",
       "      <td>147767</td>\n",
       "      <td>1.824</td>\n",
       "      <td>2012-12-07</td>\n",
       "      <td>4.7</td>\n",
       "      <td>16</td>\n",
       "      <td>12</td>\n",
       "      <td>2012-12-07</td>\n",
       "      <td>5600000</td>\n",
       "      <td>385422</td>\n",
       "      <td>14683763</td>\n",
       "      <td>December</td>\n",
       "      <td>2012</td>\n",
       "      <td>-93.117464</td>\n",
       "      <td>162.210054</td>\n",
       "    </tr>\n",
       "    <tr>\n",
       "      <th>525</th>\n",
       "      <td>5.6</td>\n",
       "      <td>74979</td>\n",
       "      <td>nm0027271</td>\n",
       "      <td>Resident Evil: The Final Chapter</td>\n",
       "      <td>22654</td>\n",
       "      <td>173897</td>\n",
       "      <td>0.844</td>\n",
       "      <td>2017-01-27</td>\n",
       "      <td>5.9</td>\n",
       "      <td>1859</td>\n",
       "      <td>84</td>\n",
       "      <td>2017-01-27</td>\n",
       "      <td>40000000</td>\n",
       "      <td>26844692</td>\n",
       "      <td>314101190</td>\n",
       "      <td>January</td>\n",
       "      <td>2017</td>\n",
       "      <td>-32.888270</td>\n",
       "      <td>685.252975</td>\n",
       "    </tr>\n",
       "    <tr>\n",
       "      <th>526</th>\n",
       "      <td>4.9</td>\n",
       "      <td>632</td>\n",
       "      <td>nm1227232</td>\n",
       "      <td>The Sleepwalker</td>\n",
       "      <td>11910</td>\n",
       "      <td>244776</td>\n",
       "      <td>2.659</td>\n",
       "      <td>2014-01-20</td>\n",
       "      <td>4.1</td>\n",
       "      <td>9</td>\n",
       "      <td>2</td>\n",
       "      <td>2014-11-21</td>\n",
       "      <td>1100000</td>\n",
       "      <td>2636</td>\n",
       "      <td>2636</td>\n",
       "      <td>November</td>\n",
       "      <td>2014</td>\n",
       "      <td>-99.760364</td>\n",
       "      <td>-99.760364</td>\n",
       "    </tr>\n",
       "    <tr>\n",
       "      <th>527</th>\n",
       "      <td>6.2</td>\n",
       "      <td>760</td>\n",
       "      <td>nm0502412</td>\n",
       "      <td>Out of the Blue</td>\n",
       "      <td>10024</td>\n",
       "      <td>281697</td>\n",
       "      <td>0.600</td>\n",
       "      <td>2013-10-01</td>\n",
       "      <td>10.0</td>\n",
       "      <td>1</td>\n",
       "      <td>23</td>\n",
       "      <td>2007-10-19</td>\n",
       "      <td>4600000</td>\n",
       "      <td>728</td>\n",
       "      <td>731767</td>\n",
       "      <td>October</td>\n",
       "      <td>2007</td>\n",
       "      <td>-99.984174</td>\n",
       "      <td>-84.092022</td>\n",
       "    </tr>\n",
       "    <tr>\n",
       "      <th>528</th>\n",
       "      <td>6.1</td>\n",
       "      <td>36062</td>\n",
       "      <td>nm0878756</td>\n",
       "      <td>A Hologram for the King</td>\n",
       "      <td>17537</td>\n",
       "      <td>270010</td>\n",
       "      <td>11.055</td>\n",
       "      <td>2016-04-22</td>\n",
       "      <td>5.9</td>\n",
       "      <td>589</td>\n",
       "      <td>47</td>\n",
       "      <td>2016-04-22</td>\n",
       "      <td>35000000</td>\n",
       "      <td>4212494</td>\n",
       "      <td>11846010</td>\n",
       "      <td>April</td>\n",
       "      <td>2016</td>\n",
       "      <td>-87.964303</td>\n",
       "      <td>-66.154257</td>\n",
       "    </tr>\n",
       "  </tbody>\n",
       "</table>\n",
       "<p>529 rows × 19 columns</p>\n",
       "</div>"
      ],
      "text/plain": [
       "     averagerating  numvotes  person_id                     primary_title  \\\n",
       "0              8.0    621193  nm1872664                      The Revenant   \n",
       "1              8.0    621193  nm1872664                      The Revenant   \n",
       "2              7.2    176699  nm0000092                        The Croods   \n",
       "3              6.4      6466  nm0119989                      Freakonomics   \n",
       "4              6.4      6466  nm1164861                      Freakonomics   \n",
       "..             ...       ...        ...                               ...   \n",
       "524            4.4      5648  nm5244862                       Khiladi 786   \n",
       "525            5.6     74979  nm0027271  Resident Evil: The Final Chapter   \n",
       "526            4.9       632  nm1227232                   The Sleepwalker   \n",
       "527            6.2       760  nm0502412                   Out of the Blue   \n",
       "528            6.1     36062  nm0878756           A Hologram for the King   \n",
       "\n",
       "     Unnamed: 0    id_x  popularity release_date_x  vote_average  vote_count  \\\n",
       "0         14203  281957      19.410     2015-12-25           7.4       11064   \n",
       "1         17411  281957      19.410     2015-12-25           7.4       11064   \n",
       "2          7914   49519      16.290     2013-03-22           6.8        3873   \n",
       "3           401   43942       5.705     2010-10-01           6.6          57   \n",
       "4           401   43942       5.705     2010-10-01           6.6          57   \n",
       "..          ...     ...         ...            ...           ...         ...   \n",
       "524        6157  147767       1.824     2012-12-07           4.7          16   \n",
       "525       22654  173897       0.844     2017-01-27           5.9        1859   \n",
       "526       11910  244776       2.659     2014-01-20           4.1           9   \n",
       "527       10024  281697       0.600     2013-10-01          10.0           1   \n",
       "528       17537  270010      11.055     2016-04-22           5.9         589   \n",
       "\n",
       "     id_y release_date_y  production_budget  domestic_gross  worldwide_gross  \\\n",
       "0      27     2015-12-25          135000000       183637894        532938302   \n",
       "1      27     2015-12-25          135000000       183637894        532938302   \n",
       "2      26     2013-03-22          135000000       187168425        573068425   \n",
       "3      80     2010-10-01            2900000          101270           172867   \n",
       "4      80     2010-10-01            2900000          101270           172867   \n",
       "..    ...            ...                ...             ...              ...   \n",
       "524    12     2012-12-07            5600000          385422         14683763   \n",
       "525    84     2017-01-27           40000000        26844692        314101190   \n",
       "526     2     2014-11-21            1100000            2636             2636   \n",
       "527    23     2007-10-19            4600000             728           731767   \n",
       "528    47     2016-04-22           35000000         4212494         11846010   \n",
       "\n",
       "    release_month  release_year  domestic_ROI  worldwide_ROI  \n",
       "0        December          2015     36.028070     294.769113  \n",
       "1        December          2015     36.028070     294.769113  \n",
       "2           March          2013     38.643278     324.495130  \n",
       "3         October          2010    -96.507931     -94.039069  \n",
       "4         October          2010    -96.507931     -94.039069  \n",
       "..            ...           ...           ...            ...  \n",
       "524      December          2012    -93.117464     162.210054  \n",
       "525       January          2017    -32.888270     685.252975  \n",
       "526      November          2014    -99.760364     -99.760364  \n",
       "527       October          2007    -99.984174     -84.092022  \n",
       "528         April          2016    -87.964303     -66.154257  \n",
       "\n",
       "[529 rows x 19 columns]"
      ]
     },
     "execution_count": 46,
     "metadata": {},
     "output_type": "execute_result"
    }
   ],
   "source": [
    "# Merging the experienced writers DataFrame with tmdb_movies and tn.movie_budgets\n",
    "merged_w_e = pd.merge(w_e, tmdb_movies, on='primary_title')\n",
    "merged_w_e = pd.merge(merged_w_e, tn_movie_budgets, on='primary_title')\n",
    "merged_w_e"
   ]
  },
  {
   "cell_type": "code",
   "execution_count": 47,
   "metadata": {},
   "outputs": [
    {
     "data": {
      "text/html": [
       "<div>\n",
       "<style scoped>\n",
       "    .dataframe tbody tr th:only-of-type {\n",
       "        vertical-align: middle;\n",
       "    }\n",
       "\n",
       "    .dataframe tbody tr th {\n",
       "        vertical-align: top;\n",
       "    }\n",
       "\n",
       "    .dataframe thead th {\n",
       "        text-align: right;\n",
       "    }\n",
       "</style>\n",
       "<table border=\"1\" class=\"dataframe\">\n",
       "  <thead>\n",
       "    <tr style=\"text-align: right;\">\n",
       "      <th></th>\n",
       "      <th>averagerating</th>\n",
       "      <th>numvotes</th>\n",
       "      <th>person_id</th>\n",
       "      <th>primary_title</th>\n",
       "      <th>Unnamed: 0</th>\n",
       "      <th>id_x</th>\n",
       "      <th>popularity</th>\n",
       "      <th>release_date_x</th>\n",
       "      <th>vote_average</th>\n",
       "      <th>vote_count</th>\n",
       "      <th>id_y</th>\n",
       "      <th>release_date_y</th>\n",
       "      <th>production_budget</th>\n",
       "      <th>domestic_gross</th>\n",
       "      <th>worldwide_gross</th>\n",
       "      <th>release_month</th>\n",
       "      <th>release_year</th>\n",
       "      <th>domestic_ROI</th>\n",
       "      <th>worldwide_ROI</th>\n",
       "    </tr>\n",
       "  </thead>\n",
       "  <tbody>\n",
       "    <tr>\n",
       "      <th>0</th>\n",
       "      <td>4.2</td>\n",
       "      <td>50352</td>\n",
       "      <td>nm0001317</td>\n",
       "      <td>The Legend of Hercules</td>\n",
       "      <td>11096</td>\n",
       "      <td>188207</td>\n",
       "      <td>13.754</td>\n",
       "      <td>2014-01-10</td>\n",
       "      <td>4.5</td>\n",
       "      <td>805</td>\n",
       "      <td>42</td>\n",
       "      <td>2014-01-10</td>\n",
       "      <td>70000000</td>\n",
       "      <td>18848538</td>\n",
       "      <td>58953319</td>\n",
       "      <td>January</td>\n",
       "      <td>2014</td>\n",
       "      <td>-73.073517</td>\n",
       "      <td>-15.780973</td>\n",
       "    </tr>\n",
       "    <tr>\n",
       "      <th>1</th>\n",
       "      <td>4.2</td>\n",
       "      <td>50352</td>\n",
       "      <td>nm0316417</td>\n",
       "      <td>The Legend of Hercules</td>\n",
       "      <td>11096</td>\n",
       "      <td>188207</td>\n",
       "      <td>13.754</td>\n",
       "      <td>2014-01-10</td>\n",
       "      <td>4.5</td>\n",
       "      <td>805</td>\n",
       "      <td>42</td>\n",
       "      <td>2014-01-10</td>\n",
       "      <td>70000000</td>\n",
       "      <td>18848538</td>\n",
       "      <td>58953319</td>\n",
       "      <td>January</td>\n",
       "      <td>2014</td>\n",
       "      <td>-73.073517</td>\n",
       "      <td>-15.780973</td>\n",
       "    </tr>\n",
       "    <tr>\n",
       "      <th>2</th>\n",
       "      <td>4.2</td>\n",
       "      <td>50352</td>\n",
       "      <td>nm1048866</td>\n",
       "      <td>The Legend of Hercules</td>\n",
       "      <td>11096</td>\n",
       "      <td>188207</td>\n",
       "      <td>13.754</td>\n",
       "      <td>2014-01-10</td>\n",
       "      <td>4.5</td>\n",
       "      <td>805</td>\n",
       "      <td>42</td>\n",
       "      <td>2014-01-10</td>\n",
       "      <td>70000000</td>\n",
       "      <td>18848538</td>\n",
       "      <td>58953319</td>\n",
       "      <td>January</td>\n",
       "      <td>2014</td>\n",
       "      <td>-73.073517</td>\n",
       "      <td>-15.780973</td>\n",
       "    </tr>\n",
       "    <tr>\n",
       "      <th>3</th>\n",
       "      <td>7.0</td>\n",
       "      <td>1613</td>\n",
       "      <td>nm1559624</td>\n",
       "      <td>The Hammer</td>\n",
       "      <td>869</td>\n",
       "      <td>74447</td>\n",
       "      <td>1.961</td>\n",
       "      <td>2010-10-26</td>\n",
       "      <td>6.5</td>\n",
       "      <td>16</td>\n",
       "      <td>50</td>\n",
       "      <td>2008-03-21</td>\n",
       "      <td>850000</td>\n",
       "      <td>442638</td>\n",
       "      <td>442638</td>\n",
       "      <td>March</td>\n",
       "      <td>2008</td>\n",
       "      <td>-47.924941</td>\n",
       "      <td>-47.924941</td>\n",
       "    </tr>\n",
       "    <tr>\n",
       "      <th>4</th>\n",
       "      <td>7.0</td>\n",
       "      <td>1613</td>\n",
       "      <td>nm1670295</td>\n",
       "      <td>The Hammer</td>\n",
       "      <td>869</td>\n",
       "      <td>74447</td>\n",
       "      <td>1.961</td>\n",
       "      <td>2010-10-26</td>\n",
       "      <td>6.5</td>\n",
       "      <td>16</td>\n",
       "      <td>50</td>\n",
       "      <td>2008-03-21</td>\n",
       "      <td>850000</td>\n",
       "      <td>442638</td>\n",
       "      <td>442638</td>\n",
       "      <td>March</td>\n",
       "      <td>2008</td>\n",
       "      <td>-47.924941</td>\n",
       "      <td>-47.924941</td>\n",
       "    </tr>\n",
       "    <tr>\n",
       "      <th>...</th>\n",
       "      <td>...</td>\n",
       "      <td>...</td>\n",
       "      <td>...</td>\n",
       "      <td>...</td>\n",
       "      <td>...</td>\n",
       "      <td>...</td>\n",
       "      <td>...</td>\n",
       "      <td>...</td>\n",
       "      <td>...</td>\n",
       "      <td>...</td>\n",
       "      <td>...</td>\n",
       "      <td>...</td>\n",
       "      <td>...</td>\n",
       "      <td>...</td>\n",
       "      <td>...</td>\n",
       "      <td>...</td>\n",
       "      <td>...</td>\n",
       "      <td>...</td>\n",
       "      <td>...</td>\n",
       "    </tr>\n",
       "    <tr>\n",
       "      <th>2719</th>\n",
       "      <td>7.6</td>\n",
       "      <td>3004</td>\n",
       "      <td>nm4830779</td>\n",
       "      <td>Antarctica: A Year on Ice</td>\n",
       "      <td>8901</td>\n",
       "      <td>201132</td>\n",
       "      <td>2.061</td>\n",
       "      <td>2013-09-05</td>\n",
       "      <td>7.2</td>\n",
       "      <td>41</td>\n",
       "      <td>71</td>\n",
       "      <td>2014-11-28</td>\n",
       "      <td>1000000</td>\n",
       "      <td>288757</td>\n",
       "      <td>288757</td>\n",
       "      <td>November</td>\n",
       "      <td>2014</td>\n",
       "      <td>-71.124300</td>\n",
       "      <td>-71.124300</td>\n",
       "    </tr>\n",
       "    <tr>\n",
       "      <th>2720</th>\n",
       "      <td>7.0</td>\n",
       "      <td>163279</td>\n",
       "      <td>nm0991423</td>\n",
       "      <td>Game Night</td>\n",
       "      <td>23908</td>\n",
       "      <td>445571</td>\n",
       "      <td>19.459</td>\n",
       "      <td>2018-02-23</td>\n",
       "      <td>6.9</td>\n",
       "      <td>2756</td>\n",
       "      <td>94</td>\n",
       "      <td>2018-02-23</td>\n",
       "      <td>37000000</td>\n",
       "      <td>69179066</td>\n",
       "      <td>117378084</td>\n",
       "      <td>February</td>\n",
       "      <td>2018</td>\n",
       "      <td>86.970449</td>\n",
       "      <td>217.238065</td>\n",
       "    </tr>\n",
       "    <tr>\n",
       "      <th>2721</th>\n",
       "      <td>4.9</td>\n",
       "      <td>632</td>\n",
       "      <td>nm2178754</td>\n",
       "      <td>The Sleepwalker</td>\n",
       "      <td>11910</td>\n",
       "      <td>244776</td>\n",
       "      <td>2.659</td>\n",
       "      <td>2014-01-20</td>\n",
       "      <td>4.1</td>\n",
       "      <td>9</td>\n",
       "      <td>2</td>\n",
       "      <td>2014-11-21</td>\n",
       "      <td>1100000</td>\n",
       "      <td>2636</td>\n",
       "      <td>2636</td>\n",
       "      <td>November</td>\n",
       "      <td>2014</td>\n",
       "      <td>-99.760364</td>\n",
       "      <td>-99.760364</td>\n",
       "    </tr>\n",
       "    <tr>\n",
       "      <th>2722</th>\n",
       "      <td>6.9</td>\n",
       "      <td>14122</td>\n",
       "      <td>nm0697656</td>\n",
       "      <td>Beyond the Lights</td>\n",
       "      <td>11333</td>\n",
       "      <td>241771</td>\n",
       "      <td>7.717</td>\n",
       "      <td>2014-11-14</td>\n",
       "      <td>7.0</td>\n",
       "      <td>238</td>\n",
       "      <td>16</td>\n",
       "      <td>2014-11-14</td>\n",
       "      <td>7000000</td>\n",
       "      <td>14618727</td>\n",
       "      <td>14618727</td>\n",
       "      <td>November</td>\n",
       "      <td>2014</td>\n",
       "      <td>108.838957</td>\n",
       "      <td>108.838957</td>\n",
       "    </tr>\n",
       "    <tr>\n",
       "      <th>2723</th>\n",
       "      <td>6.9</td>\n",
       "      <td>14122</td>\n",
       "      <td>nm0697656</td>\n",
       "      <td>Beyond the Lights</td>\n",
       "      <td>14469</td>\n",
       "      <td>241771</td>\n",
       "      <td>7.717</td>\n",
       "      <td>2014-11-14</td>\n",
       "      <td>7.0</td>\n",
       "      <td>238</td>\n",
       "      <td>16</td>\n",
       "      <td>2014-11-14</td>\n",
       "      <td>7000000</td>\n",
       "      <td>14618727</td>\n",
       "      <td>14618727</td>\n",
       "      <td>November</td>\n",
       "      <td>2014</td>\n",
       "      <td>108.838957</td>\n",
       "      <td>108.838957</td>\n",
       "    </tr>\n",
       "  </tbody>\n",
       "</table>\n",
       "<p>2724 rows × 19 columns</p>\n",
       "</div>"
      ],
      "text/plain": [
       "      averagerating  numvotes  person_id              primary_title  \\\n",
       "0               4.2     50352  nm0001317     The Legend of Hercules   \n",
       "1               4.2     50352  nm0316417     The Legend of Hercules   \n",
       "2               4.2     50352  nm1048866     The Legend of Hercules   \n",
       "3               7.0      1613  nm1559624                 The Hammer   \n",
       "4               7.0      1613  nm1670295                 The Hammer   \n",
       "...             ...       ...        ...                        ...   \n",
       "2719            7.6      3004  nm4830779  Antarctica: A Year on Ice   \n",
       "2720            7.0    163279  nm0991423                 Game Night   \n",
       "2721            4.9       632  nm2178754            The Sleepwalker   \n",
       "2722            6.9     14122  nm0697656          Beyond the Lights   \n",
       "2723            6.9     14122  nm0697656          Beyond the Lights   \n",
       "\n",
       "      Unnamed: 0    id_x  popularity release_date_x  vote_average  vote_count  \\\n",
       "0          11096  188207      13.754     2014-01-10           4.5         805   \n",
       "1          11096  188207      13.754     2014-01-10           4.5         805   \n",
       "2          11096  188207      13.754     2014-01-10           4.5         805   \n",
       "3            869   74447       1.961     2010-10-26           6.5          16   \n",
       "4            869   74447       1.961     2010-10-26           6.5          16   \n",
       "...          ...     ...         ...            ...           ...         ...   \n",
       "2719        8901  201132       2.061     2013-09-05           7.2          41   \n",
       "2720       23908  445571      19.459     2018-02-23           6.9        2756   \n",
       "2721       11910  244776       2.659     2014-01-20           4.1           9   \n",
       "2722       11333  241771       7.717     2014-11-14           7.0         238   \n",
       "2723       14469  241771       7.717     2014-11-14           7.0         238   \n",
       "\n",
       "      id_y release_date_y  production_budget  domestic_gross  worldwide_gross  \\\n",
       "0       42     2014-01-10           70000000        18848538         58953319   \n",
       "1       42     2014-01-10           70000000        18848538         58953319   \n",
       "2       42     2014-01-10           70000000        18848538         58953319   \n",
       "3       50     2008-03-21             850000          442638           442638   \n",
       "4       50     2008-03-21             850000          442638           442638   \n",
       "...    ...            ...                ...             ...              ...   \n",
       "2719    71     2014-11-28            1000000          288757           288757   \n",
       "2720    94     2018-02-23           37000000        69179066        117378084   \n",
       "2721     2     2014-11-21            1100000            2636             2636   \n",
       "2722    16     2014-11-14            7000000        14618727         14618727   \n",
       "2723    16     2014-11-14            7000000        14618727         14618727   \n",
       "\n",
       "     release_month  release_year  domestic_ROI  worldwide_ROI  \n",
       "0          January          2014    -73.073517     -15.780973  \n",
       "1          January          2014    -73.073517     -15.780973  \n",
       "2          January          2014    -73.073517     -15.780973  \n",
       "3            March          2008    -47.924941     -47.924941  \n",
       "4            March          2008    -47.924941     -47.924941  \n",
       "...            ...           ...           ...            ...  \n",
       "2719      November          2014    -71.124300     -71.124300  \n",
       "2720      February          2018     86.970449     217.238065  \n",
       "2721      November          2014    -99.760364     -99.760364  \n",
       "2722      November          2014    108.838957     108.838957  \n",
       "2723      November          2014    108.838957     108.838957  \n",
       "\n",
       "[2724 rows x 19 columns]"
      ]
     },
     "execution_count": 47,
     "metadata": {},
     "output_type": "execute_result"
    }
   ],
   "source": [
    "# Merging the inexperienced writers DataFrame with tmdb_movies and tn.movie_budgets\n",
    "merged_w_n_e = pd.merge(w_n_e, tmdb_movies, on='primary_title')\n",
    "merged_w_n_e = pd.merge(merged_w_n_e, tn_movie_budgets, on='primary_title')\n",
    "merged_w_n_e"
   ]
  },
  {
   "cell_type": "markdown",
   "metadata": {},
   "source": [
    "## Creating a DataFrame for Runtime and Budget"
   ]
  },
  {
   "cell_type": "code",
   "execution_count": 48,
   "metadata": {},
   "outputs": [
    {
     "name": "stdout",
     "output_type": "stream",
     "text": [
      "<class 'pandas.core.frame.DataFrame'>\n",
      "Int64Index: 3865 entries, 0 to 5781\n",
      "Data columns (total 10 columns):\n",
      " #   Column             Non-Null Count  Dtype         \n",
      "---  ------             --------------  -----         \n",
      " 0   id                 3865 non-null   int64         \n",
      " 1   release_date       3865 non-null   datetime64[ns]\n",
      " 2   primary_title      3865 non-null   object        \n",
      " 3   production_budget  3865 non-null   int64         \n",
      " 4   domestic_gross     3865 non-null   int64         \n",
      " 5   worldwide_gross    3865 non-null   int64         \n",
      " 6   release_month      3865 non-null   category      \n",
      " 7   release_year       3865 non-null   int64         \n",
      " 8   domestic_ROI       3865 non-null   float64       \n",
      " 9   worldwide_ROI      3865 non-null   float64       \n",
      "dtypes: category(1), datetime64[ns](1), float64(2), int64(5), object(1)\n",
      "memory usage: 306.1+ KB\n"
     ]
    }
   ],
   "source": [
    "tn_movie_budgets.info()"
   ]
  },
  {
   "cell_type": "code",
   "execution_count": 49,
   "metadata": {},
   "outputs": [
    {
     "name": "stdout",
     "output_type": "stream",
     "text": [
      "<class 'pandas.core.frame.DataFrame'>\n",
      "RangeIndex: 146144 entries, 0 to 146143\n",
      "Data columns (total 6 columns):\n",
      " #   Column           Non-Null Count   Dtype  \n",
      "---  ------           --------------   -----  \n",
      " 0   movie_id         146144 non-null  object \n",
      " 1   primary_title    146144 non-null  object \n",
      " 2   original_title   146123 non-null  object \n",
      " 3   start_year       146144 non-null  int64  \n",
      " 4   runtime_minutes  114405 non-null  float64\n",
      " 5   genres           140736 non-null  object \n",
      "dtypes: float64(1), int64(1), object(4)\n",
      "memory usage: 6.7+ MB\n"
     ]
    }
   ],
   "source": [
    "imdb_movie_basics.info()"
   ]
  },
  {
   "cell_type": "code",
   "execution_count": 50,
   "metadata": {},
   "outputs": [
    {
     "data": {
      "text/html": [
       "<div>\n",
       "<style scoped>\n",
       "    .dataframe tbody tr th:only-of-type {\n",
       "        vertical-align: middle;\n",
       "    }\n",
       "\n",
       "    .dataframe tbody tr th {\n",
       "        vertical-align: top;\n",
       "    }\n",
       "\n",
       "    .dataframe thead th {\n",
       "        text-align: right;\n",
       "    }\n",
       "</style>\n",
       "<table border=\"1\" class=\"dataframe\">\n",
       "  <thead>\n",
       "    <tr style=\"text-align: right;\">\n",
       "      <th></th>\n",
       "      <th>id_x</th>\n",
       "      <th>release_date_x</th>\n",
       "      <th>primary_title</th>\n",
       "      <th>production_budget</th>\n",
       "      <th>domestic_gross</th>\n",
       "      <th>worldwide_gross</th>\n",
       "      <th>release_month</th>\n",
       "      <th>release_year</th>\n",
       "      <th>domestic_ROI</th>\n",
       "      <th>worldwide_ROI</th>\n",
       "      <th>...</th>\n",
       "      <th>original_title</th>\n",
       "      <th>start_year</th>\n",
       "      <th>runtime_minutes</th>\n",
       "      <th>genres</th>\n",
       "      <th>Unnamed: 0</th>\n",
       "      <th>id_y</th>\n",
       "      <th>popularity</th>\n",
       "      <th>release_date_y</th>\n",
       "      <th>vote_average</th>\n",
       "      <th>vote_count</th>\n",
       "    </tr>\n",
       "  </thead>\n",
       "  <tbody>\n",
       "    <tr>\n",
       "      <th>0</th>\n",
       "      <td>1</td>\n",
       "      <td>2009-12-18</td>\n",
       "      <td>Avatar</td>\n",
       "      <td>425000000</td>\n",
       "      <td>760507625</td>\n",
       "      <td>2776345279</td>\n",
       "      <td>December</td>\n",
       "      <td>2009</td>\n",
       "      <td>78.942971</td>\n",
       "      <td>553.257713</td>\n",
       "      <td>...</td>\n",
       "      <td>Abatâ</td>\n",
       "      <td>2011</td>\n",
       "      <td>93.0</td>\n",
       "      <td>Horror</td>\n",
       "      <td>6</td>\n",
       "      <td>19995</td>\n",
       "      <td>26.526</td>\n",
       "      <td>2009-12-18</td>\n",
       "      <td>7.4</td>\n",
       "      <td>18676</td>\n",
       "    </tr>\n",
       "    <tr>\n",
       "      <th>1</th>\n",
       "      <td>2</td>\n",
       "      <td>2011-05-20</td>\n",
       "      <td>Pirates of the Caribbean: On Stranger Tides</td>\n",
       "      <td>410600000</td>\n",
       "      <td>241063875</td>\n",
       "      <td>1045663875</td>\n",
       "      <td>May</td>\n",
       "      <td>2011</td>\n",
       "      <td>-41.289850</td>\n",
       "      <td>154.667286</td>\n",
       "      <td>...</td>\n",
       "      <td>Pirates of the Caribbean: On Stranger Tides</td>\n",
       "      <td>2011</td>\n",
       "      <td>136.0</td>\n",
       "      <td>Action,Adventure,Fantasy</td>\n",
       "      <td>2470</td>\n",
       "      <td>1865</td>\n",
       "      <td>30.579</td>\n",
       "      <td>2011-05-20</td>\n",
       "      <td>6.4</td>\n",
       "      <td>8571</td>\n",
       "    </tr>\n",
       "    <tr>\n",
       "      <th>2</th>\n",
       "      <td>4</td>\n",
       "      <td>2015-05-01</td>\n",
       "      <td>Avengers: Age of Ultron</td>\n",
       "      <td>330600000</td>\n",
       "      <td>459005868</td>\n",
       "      <td>1403013963</td>\n",
       "      <td>May</td>\n",
       "      <td>2015</td>\n",
       "      <td>38.840250</td>\n",
       "      <td>324.384139</td>\n",
       "      <td>...</td>\n",
       "      <td>Avengers: Age of Ultron</td>\n",
       "      <td>2015</td>\n",
       "      <td>141.0</td>\n",
       "      <td>Action,Adventure,Sci-Fi</td>\n",
       "      <td>14169</td>\n",
       "      <td>99861</td>\n",
       "      <td>44.383</td>\n",
       "      <td>2015-05-01</td>\n",
       "      <td>7.3</td>\n",
       "      <td>13457</td>\n",
       "    </tr>\n",
       "    <tr>\n",
       "      <th>3</th>\n",
       "      <td>7</td>\n",
       "      <td>2018-04-27</td>\n",
       "      <td>Avengers: Infinity War</td>\n",
       "      <td>300000000</td>\n",
       "      <td>678815482</td>\n",
       "      <td>2048134200</td>\n",
       "      <td>April</td>\n",
       "      <td>2018</td>\n",
       "      <td>126.271827</td>\n",
       "      <td>582.711400</td>\n",
       "      <td>...</td>\n",
       "      <td>Avengers: Infinity War</td>\n",
       "      <td>2018</td>\n",
       "      <td>149.0</td>\n",
       "      <td>Action,Adventure,Sci-Fi</td>\n",
       "      <td>23811</td>\n",
       "      <td>299536</td>\n",
       "      <td>80.773</td>\n",
       "      <td>2018-04-27</td>\n",
       "      <td>8.3</td>\n",
       "      <td>13948</td>\n",
       "    </tr>\n",
       "    <tr>\n",
       "      <th>4</th>\n",
       "      <td>9</td>\n",
       "      <td>2017-11-17</td>\n",
       "      <td>Justice League</td>\n",
       "      <td>300000000</td>\n",
       "      <td>229024295</td>\n",
       "      <td>655945209</td>\n",
       "      <td>November</td>\n",
       "      <td>2017</td>\n",
       "      <td>-23.658568</td>\n",
       "      <td>118.648403</td>\n",
       "      <td>...</td>\n",
       "      <td>Justice League</td>\n",
       "      <td>2017</td>\n",
       "      <td>120.0</td>\n",
       "      <td>Action,Adventure,Fantasy</td>\n",
       "      <td>20623</td>\n",
       "      <td>141052</td>\n",
       "      <td>34.953</td>\n",
       "      <td>2017-11-17</td>\n",
       "      <td>6.2</td>\n",
       "      <td>7510</td>\n",
       "    </tr>\n",
       "    <tr>\n",
       "      <th>...</th>\n",
       "      <td>...</td>\n",
       "      <td>...</td>\n",
       "      <td>...</td>\n",
       "      <td>...</td>\n",
       "      <td>...</td>\n",
       "      <td>...</td>\n",
       "      <td>...</td>\n",
       "      <td>...</td>\n",
       "      <td>...</td>\n",
       "      <td>...</td>\n",
       "      <td>...</td>\n",
       "      <td>...</td>\n",
       "      <td>...</td>\n",
       "      <td>...</td>\n",
       "      <td>...</td>\n",
       "      <td>...</td>\n",
       "      <td>...</td>\n",
       "      <td>...</td>\n",
       "      <td>...</td>\n",
       "      <td>...</td>\n",
       "      <td>...</td>\n",
       "    </tr>\n",
       "    <tr>\n",
       "      <th>3541</th>\n",
       "      <td>38</td>\n",
       "      <td>2016-03-18</td>\n",
       "      <td>Krisha</td>\n",
       "      <td>30000</td>\n",
       "      <td>144822</td>\n",
       "      <td>144822</td>\n",
       "      <td>March</td>\n",
       "      <td>2016</td>\n",
       "      <td>382.740000</td>\n",
       "      <td>382.740000</td>\n",
       "      <td>...</td>\n",
       "      <td>Krisha</td>\n",
       "      <td>2015</td>\n",
       "      <td>83.0</td>\n",
       "      <td>Drama</td>\n",
       "      <td>18030</td>\n",
       "      <td>323929</td>\n",
       "      <td>5.288</td>\n",
       "      <td>2016-03-18</td>\n",
       "      <td>6.8</td>\n",
       "      <td>86</td>\n",
       "    </tr>\n",
       "    <tr>\n",
       "      <th>3542</th>\n",
       "      <td>45</td>\n",
       "      <td>2017-01-27</td>\n",
       "      <td>Emily</td>\n",
       "      <td>27000</td>\n",
       "      <td>3547</td>\n",
       "      <td>3547</td>\n",
       "      <td>January</td>\n",
       "      <td>2017</td>\n",
       "      <td>-86.862963</td>\n",
       "      <td>-86.862963</td>\n",
       "      <td>...</td>\n",
       "      <td>Emily</td>\n",
       "      <td>2011</td>\n",
       "      <td>NaN</td>\n",
       "      <td>Drama</td>\n",
       "      <td>10276</td>\n",
       "      <td>359406</td>\n",
       "      <td>0.600</td>\n",
       "      <td>2013-06-21</td>\n",
       "      <td>7.0</td>\n",
       "      <td>1</td>\n",
       "    </tr>\n",
       "    <tr>\n",
       "      <th>3543</th>\n",
       "      <td>45</td>\n",
       "      <td>2017-01-27</td>\n",
       "      <td>Emily</td>\n",
       "      <td>27000</td>\n",
       "      <td>3547</td>\n",
       "      <td>3547</td>\n",
       "      <td>January</td>\n",
       "      <td>2017</td>\n",
       "      <td>-86.862963</td>\n",
       "      <td>-86.862963</td>\n",
       "      <td>...</td>\n",
       "      <td>Emily</td>\n",
       "      <td>2017</td>\n",
       "      <td>83.0</td>\n",
       "      <td>Drama</td>\n",
       "      <td>10276</td>\n",
       "      <td>359406</td>\n",
       "      <td>0.600</td>\n",
       "      <td>2013-06-21</td>\n",
       "      <td>7.0</td>\n",
       "      <td>1</td>\n",
       "    </tr>\n",
       "    <tr>\n",
       "      <th>3544</th>\n",
       "      <td>45</td>\n",
       "      <td>2017-01-27</td>\n",
       "      <td>Emily</td>\n",
       "      <td>27000</td>\n",
       "      <td>3547</td>\n",
       "      <td>3547</td>\n",
       "      <td>January</td>\n",
       "      <td>2017</td>\n",
       "      <td>-86.862963</td>\n",
       "      <td>-86.862963</td>\n",
       "      <td>...</td>\n",
       "      <td>Emily</td>\n",
       "      <td>2013</td>\n",
       "      <td>26.0</td>\n",
       "      <td>Documentary</td>\n",
       "      <td>10276</td>\n",
       "      <td>359406</td>\n",
       "      <td>0.600</td>\n",
       "      <td>2013-06-21</td>\n",
       "      <td>7.0</td>\n",
       "      <td>1</td>\n",
       "    </tr>\n",
       "    <tr>\n",
       "      <th>3545</th>\n",
       "      <td>73</td>\n",
       "      <td>2012-01-13</td>\n",
       "      <td>Newlyweds</td>\n",
       "      <td>9000</td>\n",
       "      <td>4584</td>\n",
       "      <td>4584</td>\n",
       "      <td>January</td>\n",
       "      <td>2012</td>\n",
       "      <td>-49.066667</td>\n",
       "      <td>-49.066667</td>\n",
       "      <td>...</td>\n",
       "      <td>Newlyweds</td>\n",
       "      <td>2011</td>\n",
       "      <td>95.0</td>\n",
       "      <td>Comedy,Drama</td>\n",
       "      <td>3468</td>\n",
       "      <td>72766</td>\n",
       "      <td>1.973</td>\n",
       "      <td>2011-12-26</td>\n",
       "      <td>5.4</td>\n",
       "      <td>7</td>\n",
       "    </tr>\n",
       "  </tbody>\n",
       "</table>\n",
       "<p>3546 rows × 21 columns</p>\n",
       "</div>"
      ],
      "text/plain": [
       "      id_x release_date_x                                primary_title  \\\n",
       "0        1     2009-12-18                                       Avatar   \n",
       "1        2     2011-05-20  Pirates of the Caribbean: On Stranger Tides   \n",
       "2        4     2015-05-01                      Avengers: Age of Ultron   \n",
       "3        7     2018-04-27                       Avengers: Infinity War   \n",
       "4        9     2017-11-17                               Justice League   \n",
       "...    ...            ...                                          ...   \n",
       "3541    38     2016-03-18                                       Krisha   \n",
       "3542    45     2017-01-27                                        Emily   \n",
       "3543    45     2017-01-27                                        Emily   \n",
       "3544    45     2017-01-27                                        Emily   \n",
       "3545    73     2012-01-13                                    Newlyweds   \n",
       "\n",
       "      production_budget  domestic_gross  worldwide_gross release_month  \\\n",
       "0             425000000       760507625       2776345279      December   \n",
       "1             410600000       241063875       1045663875           May   \n",
       "2             330600000       459005868       1403013963           May   \n",
       "3             300000000       678815482       2048134200         April   \n",
       "4             300000000       229024295        655945209      November   \n",
       "...                 ...             ...              ...           ...   \n",
       "3541              30000          144822           144822         March   \n",
       "3542              27000            3547             3547       January   \n",
       "3543              27000            3547             3547       January   \n",
       "3544              27000            3547             3547       January   \n",
       "3545               9000            4584             4584       January   \n",
       "\n",
       "      release_year  domestic_ROI  worldwide_ROI  ...  \\\n",
       "0             2009     78.942971     553.257713  ...   \n",
       "1             2011    -41.289850     154.667286  ...   \n",
       "2             2015     38.840250     324.384139  ...   \n",
       "3             2018    126.271827     582.711400  ...   \n",
       "4             2017    -23.658568     118.648403  ...   \n",
       "...            ...           ...            ...  ...   \n",
       "3541          2016    382.740000     382.740000  ...   \n",
       "3542          2017    -86.862963     -86.862963  ...   \n",
       "3543          2017    -86.862963     -86.862963  ...   \n",
       "3544          2017    -86.862963     -86.862963  ...   \n",
       "3545          2012    -49.066667     -49.066667  ...   \n",
       "\n",
       "                                   original_title start_year  runtime_minutes  \\\n",
       "0                                           Abatâ       2011             93.0   \n",
       "1     Pirates of the Caribbean: On Stranger Tides       2011            136.0   \n",
       "2                         Avengers: Age of Ultron       2015            141.0   \n",
       "3                          Avengers: Infinity War       2018            149.0   \n",
       "4                                  Justice League       2017            120.0   \n",
       "...                                           ...        ...              ...   \n",
       "3541                                       Krisha       2015             83.0   \n",
       "3542                                        Emily       2011              NaN   \n",
       "3543                                        Emily       2017             83.0   \n",
       "3544                                        Emily       2013             26.0   \n",
       "3545                                    Newlyweds       2011             95.0   \n",
       "\n",
       "                        genres Unnamed: 0    id_y  popularity  release_date_y  \\\n",
       "0                       Horror          6   19995      26.526      2009-12-18   \n",
       "1     Action,Adventure,Fantasy       2470    1865      30.579      2011-05-20   \n",
       "2      Action,Adventure,Sci-Fi      14169   99861      44.383      2015-05-01   \n",
       "3      Action,Adventure,Sci-Fi      23811  299536      80.773      2018-04-27   \n",
       "4     Action,Adventure,Fantasy      20623  141052      34.953      2017-11-17   \n",
       "...                        ...        ...     ...         ...             ...   \n",
       "3541                     Drama      18030  323929       5.288      2016-03-18   \n",
       "3542                     Drama      10276  359406       0.600      2013-06-21   \n",
       "3543                     Drama      10276  359406       0.600      2013-06-21   \n",
       "3544               Documentary      10276  359406       0.600      2013-06-21   \n",
       "3545              Comedy,Drama       3468   72766       1.973      2011-12-26   \n",
       "\n",
       "     vote_average  vote_count  \n",
       "0             7.4       18676  \n",
       "1             6.4        8571  \n",
       "2             7.3       13457  \n",
       "3             8.3       13948  \n",
       "4             6.2        7510  \n",
       "...           ...         ...  \n",
       "3541          6.8          86  \n",
       "3542          7.0           1  \n",
       "3543          7.0           1  \n",
       "3544          7.0           1  \n",
       "3545          5.4           7  \n",
       "\n",
       "[3546 rows x 21 columns]"
      ]
     },
     "execution_count": 50,
     "metadata": {},
     "output_type": "execute_result"
    }
   ],
   "source": [
    "# Merging the tn_movie_budgets, imdb_movie_basics, and tmdb_movies datasets\n",
    "\n",
    "movie_basics_budget = pd.merge(tn_movie_budgets, imdb_movie_basics, how ='inner', on='primary_title')\n",
    "movie_basics_budget = pd.merge(movie_basics_budget, tmdb_movies, how ='inner', on='primary_title')\n",
    "movie_basics_budget "
   ]
  },
  {
   "cell_type": "code",
   "execution_count": 51,
   "metadata": {},
   "outputs": [
    {
     "name": "stdout",
     "output_type": "stream",
     "text": [
      "<class 'pandas.core.frame.DataFrame'>\n",
      "Int64Index: 3546 entries, 0 to 3545\n",
      "Data columns (total 21 columns):\n",
      " #   Column             Non-Null Count  Dtype         \n",
      "---  ------             --------------  -----         \n",
      " 0   id_x               3546 non-null   int64         \n",
      " 1   release_date_x     3546 non-null   datetime64[ns]\n",
      " 2   primary_title      3546 non-null   object        \n",
      " 3   production_budget  3546 non-null   int64         \n",
      " 4   domestic_gross     3546 non-null   int64         \n",
      " 5   worldwide_gross    3546 non-null   int64         \n",
      " 6   release_month      3546 non-null   category      \n",
      " 7   release_year       3546 non-null   int64         \n",
      " 8   domestic_ROI       3546 non-null   float64       \n",
      " 9   worldwide_ROI      3546 non-null   float64       \n",
      " 10  movie_id           3546 non-null   object        \n",
      " 11  original_title     3546 non-null   object        \n",
      " 12  start_year         3546 non-null   int64         \n",
      " 13  runtime_minutes    3213 non-null   float64       \n",
      " 14  genres             3484 non-null   object        \n",
      " 15  Unnamed: 0         3546 non-null   int64         \n",
      " 16  id_y               3546 non-null   int64         \n",
      " 17  popularity         3546 non-null   float64       \n",
      " 18  release_date_y     3546 non-null   object        \n",
      " 19  vote_average       3546 non-null   float64       \n",
      " 20  vote_count         3546 non-null   int64         \n",
      "dtypes: category(1), datetime64[ns](1), float64(5), int64(9), object(5)\n",
      "memory usage: 585.6+ KB\n"
     ]
    }
   ],
   "source": [
    "movie_basics_budget.info()"
   ]
  },
  {
   "cell_type": "code",
   "execution_count": 52,
   "metadata": {},
   "outputs": [
    {
     "data": {
      "text/plain": [
       "id_x                   0\n",
       "release_date_x         0\n",
       "primary_title          0\n",
       "production_budget      0\n",
       "domestic_gross         0\n",
       "worldwide_gross        0\n",
       "release_month          0\n",
       "release_year           0\n",
       "domestic_ROI           0\n",
       "worldwide_ROI          0\n",
       "movie_id               0\n",
       "original_title         0\n",
       "start_year             0\n",
       "runtime_minutes      333\n",
       "genres                62\n",
       "Unnamed: 0             0\n",
       "id_y                   0\n",
       "popularity             0\n",
       "release_date_y         0\n",
       "vote_average           0\n",
       "vote_count             0\n",
       "dtype: int64"
      ]
     },
     "execution_count": 52,
     "metadata": {},
     "output_type": "execute_result"
    }
   ],
   "source": [
    "movie_basics_budget.isna().sum()"
   ]
  },
  {
   "cell_type": "code",
   "execution_count": 53,
   "metadata": {},
   "outputs": [],
   "source": [
    "# Since there are so few, we are dropping nulls from runtime\n",
    "movie_basics_budget.dropna(subset = ['runtime_minutes'], inplace=True)"
   ]
  },
  {
   "cell_type": "code",
   "execution_count": 54,
   "metadata": {},
   "outputs": [
    {
     "data": {
      "text/plain": [
       "0"
      ]
     },
     "execution_count": 54,
     "metadata": {},
     "output_type": "execute_result"
    }
   ],
   "source": [
    "movie_basics_budget['runtime_minutes'].isna().sum()"
   ]
  },
  {
   "cell_type": "markdown",
   "metadata": {},
   "source": [
    "## (3.v) Creating DataFrames for 2-D vs. 3-D Movies"
   ]
  },
  {
   "cell_type": "code",
   "execution_count": 55,
   "metadata": {},
   "outputs": [],
   "source": [
    "#Combining SQL table 'movie_akas' with 'tn_movie_budgets'\n",
    "movie_akas_budgets = pd.merge(imdb_movie_akas, tn_movie_budgets_no_outliers, on = 'primary_title')\n",
    "#Combining the combined dataframe 'movie_akas_budgets' with 'tmbd_movies' to get the popualarity and vote ratings\n",
    "movieakas_budgets_popularity = pd.merge(movie_akas_budgets, tmdb_movies, on = 'primary_title')"
   ]
  },
  {
   "cell_type": "code",
   "execution_count": 56,
   "metadata": {},
   "outputs": [
    {
     "name": "stdout",
     "output_type": "stream",
     "text": [
      "<class 'pandas.core.frame.DataFrame'>\n",
      "Int64Index: 252 entries, 0 to 251\n",
      "Data columns (total 22 columns):\n",
      " #   Column             Non-Null Count  Dtype         \n",
      "---  ------             --------------  -----         \n",
      " 0   movie_id           252 non-null    object        \n",
      " 1   ordering           252 non-null    int64         \n",
      " 2   primary_title      252 non-null    object        \n",
      " 3   region             251 non-null    object        \n",
      " 4   language           77 non-null     object        \n",
      " 5   types              0 non-null      object        \n",
      " 6   attributes         252 non-null    object        \n",
      " 7   id_x               252 non-null    int64         \n",
      " 8   release_date_x     252 non-null    datetime64[ns]\n",
      " 9   production_budget  252 non-null    int64         \n",
      " 10  domestic_gross     252 non-null    int64         \n",
      " 11  worldwide_gross    252 non-null    int64         \n",
      " 12  release_month      252 non-null    category      \n",
      " 13  release_year       252 non-null    int64         \n",
      " 14  domestic_ROI       252 non-null    float64       \n",
      " 15  worldwide_ROI      252 non-null    float64       \n",
      " 16  Unnamed: 0         252 non-null    int64         \n",
      " 17  id_y               252 non-null    int64         \n",
      " 18  popularity         252 non-null    float64       \n",
      " 19  release_date_y     252 non-null    object        \n",
      " 20  vote_average       252 non-null    float64       \n",
      " 21  vote_count         252 non-null    int64         \n",
      "dtypes: category(1), datetime64[ns](1), float64(4), int64(9), object(7)\n",
      "memory usage: 44.0+ KB\n"
     ]
    }
   ],
   "source": [
    "#Viewing the Series' in the dataframe to see which we may want to remove\n",
    "movieakas_budgets_popularity.info()"
   ]
  },
  {
   "cell_type": "code",
   "execution_count": 57,
   "metadata": {},
   "outputs": [],
   "source": [
    "#Dropping columns from the merged \"movie_akas_budgets\" data frame that we will not need.\n",
    "movieakas_budgets_popularity.drop(columns=['movie_id', 'ordering', 'region', 'language', 'types', 'Unnamed: 0', 'id_x', 'release_month', 'release_year', 'id_y', 'release_date_y'], inplace=True)"
   ]
  },
  {
   "cell_type": "code",
   "execution_count": 58,
   "metadata": {},
   "outputs": [],
   "source": [
    "threed_budgets_df= movieakas_budgets_popularity[movieakas_budgets_popularity['attributes'].str.contains('3-D')]\n",
    "no_threed_budgets_df= movieakas_budgets_popularity[movieakas_budgets_popularity['attributes'].str.contains('3-D')==False]"
   ]
  },
  {
   "cell_type": "code",
   "execution_count": 59,
   "metadata": {},
   "outputs": [],
   "source": [
    "#Dropping duplicate rows if release date and title match. Also including worldwide_gross as a criteria to make sure we are not deleting different releases\n",
    "threed_budgets_df = threed_budgets_df.drop_duplicates(subset=['release_date_x', 'primary_title', 'worldwide_gross'])\n",
    "\n",
    "no_threed_budgets_df = no_threed_budgets_df.drop_duplicates(subset=['release_date_x', 'primary_title', 'worldwide_gross'])"
   ]
  },
  {
   "cell_type": "code",
   "execution_count": 60,
   "metadata": {},
   "outputs": [
    {
     "data": {
      "text/plain": [
       "13     -35.276886\n",
       "14     354.115905\n",
       "39     461.645462\n",
       "46      74.485939\n",
       "68     -84.299090\n",
       "85     -72.199498\n",
       "90     -53.008925\n",
       "94     -33.104200\n",
       "131    112.125137\n",
       "135    -96.473020\n",
       "Name: domestic_ROI, dtype: float64"
      ]
     },
     "execution_count": 60,
     "metadata": {},
     "output_type": "execute_result"
    }
   ],
   "source": [
    "threed_budgets_df['domestic_ROI']"
   ]
  },
  {
   "cell_type": "code",
   "execution_count": 61,
   "metadata": {},
   "outputs": [
    {
     "name": "stdout",
     "output_type": "stream",
     "text": [
      "<class 'pandas.core.frame.DataFrame'>\n",
      "Int64Index: 10 entries, 13 to 135\n",
      "Data columns (total 11 columns):\n",
      " #   Column             Non-Null Count  Dtype         \n",
      "---  ------             --------------  -----         \n",
      " 0   primary_title      10 non-null     object        \n",
      " 1   attributes         10 non-null     object        \n",
      " 2   release_date_x     10 non-null     datetime64[ns]\n",
      " 3   production_budget  10 non-null     int64         \n",
      " 4   domestic_gross     10 non-null     int64         \n",
      " 5   worldwide_gross    10 non-null     int64         \n",
      " 6   domestic_ROI       10 non-null     float64       \n",
      " 7   worldwide_ROI      10 non-null     float64       \n",
      " 8   popularity         10 non-null     float64       \n",
      " 9   vote_average       10 non-null     float64       \n",
      " 10  vote_count         10 non-null     int64         \n",
      "dtypes: datetime64[ns](1), float64(4), int64(4), object(2)\n",
      "memory usage: 960.0+ bytes\n"
     ]
    }
   ],
   "source": [
    "threed_budgets_df.info()"
   ]
  },
  {
   "cell_type": "code",
   "execution_count": 62,
   "metadata": {},
   "outputs": [
    {
     "name": "stdout",
     "output_type": "stream",
     "text": [
      "<class 'pandas.core.frame.DataFrame'>\n",
      "Int64Index: 151 entries, 0 to 251\n",
      "Data columns (total 11 columns):\n",
      " #   Column             Non-Null Count  Dtype         \n",
      "---  ------             --------------  -----         \n",
      " 0   primary_title      151 non-null    object        \n",
      " 1   attributes         151 non-null    object        \n",
      " 2   release_date_x     151 non-null    datetime64[ns]\n",
      " 3   production_budget  151 non-null    int64         \n",
      " 4   domestic_gross     151 non-null    int64         \n",
      " 5   worldwide_gross    151 non-null    int64         \n",
      " 6   domestic_ROI       151 non-null    float64       \n",
      " 7   worldwide_ROI      151 non-null    float64       \n",
      " 8   popularity         151 non-null    float64       \n",
      " 9   vote_average       151 non-null    float64       \n",
      " 10  vote_count         151 non-null    int64         \n",
      "dtypes: datetime64[ns](1), float64(4), int64(4), object(2)\n",
      "memory usage: 14.2+ KB\n"
     ]
    }
   ],
   "source": [
    "no_threed_budgets_df.info()"
   ]
  },
  {
   "cell_type": "code",
   "execution_count": null,
   "metadata": {},
   "outputs": [],
   "source": []
  },
  {
   "cell_type": "code",
   "execution_count": null,
   "metadata": {},
   "outputs": [],
   "source": []
  },
  {
   "cell_type": "markdown",
   "metadata": {},
   "source": [
    "# (4) Data Analysis"
   ]
  },
  {
   "cell_type": "markdown",
   "metadata": {},
   "source": [
    "## (4.i) Release Month Analysis"
   ]
  },
  {
   "cell_type": "code",
   "execution_count": 63,
   "metadata": {},
   "outputs": [
    {
     "name": "stdout",
     "output_type": "stream",
     "text": [
      "<class 'pandas.core.frame.DataFrame'>\n",
      "Int64Index: 3865 entries, 0 to 5781\n",
      "Data columns (total 10 columns):\n",
      " #   Column             Non-Null Count  Dtype         \n",
      "---  ------             --------------  -----         \n",
      " 0   id                 3865 non-null   int64         \n",
      " 1   release_date       3865 non-null   datetime64[ns]\n",
      " 2   primary_title      3865 non-null   object        \n",
      " 3   production_budget  3865 non-null   int64         \n",
      " 4   domestic_gross     3865 non-null   int64         \n",
      " 5   worldwide_gross    3865 non-null   int64         \n",
      " 6   release_month      3865 non-null   category      \n",
      " 7   release_year       3865 non-null   int64         \n",
      " 8   domestic_ROI       3865 non-null   float64       \n",
      " 9   worldwide_ROI      3865 non-null   float64       \n",
      "dtypes: category(1), datetime64[ns](1), float64(2), int64(5), object(1)\n",
      "memory usage: 306.1+ KB\n"
     ]
    }
   ],
   "source": [
    "tn_movie_budgets.info()"
   ]
  },
  {
   "cell_type": "code",
   "execution_count": 64,
   "metadata": {},
   "outputs": [
    {
     "data": {
      "image/png": "[encoded data removed]",
      "text/plain": [
       "<Figure size 432x288 with 1 Axes>"
      ]
     },
     "metadata": {},
     "output_type": "display_data"
    }
   ],
   "source": [
    "# Visualizing monthly data against domestic gross\n",
    "tn_movie_budgets.groupby('release_month')['domestic_gross'].mean().sort_index(ascending=True).plot.bar()\n",
    "plt.title('Average Domestic Gross by Release Month')\n",
    "plt.xlabel('Release Month')\n",
    "plt.ylabel('Domestic Gross')\n",
    "plt.xticks(rotation=45)\n",
    "plt.style.use('ggplot');"
   ]
  },
  {
   "cell_type": "code",
   "execution_count": 65,
   "metadata": {},
   "outputs": [
    {
     "data": {
      "image/png": "[encoded data removed]",
      "text/plain": [
       "<Figure size 432x288 with 1 Axes>"
      ]
     },
     "metadata": {},
     "output_type": "display_data"
    }
   ],
   "source": [
    "# Visualizing monthly data against worldwide gross\n",
    "tn_movie_budgets.groupby('release_month')['worldwide_gross'].mean().plot.bar()\n",
    "plt.title('Average World-Wide Gross by Release Month')\n",
    "plt.xlabel('Release Month')\n",
    "plt.ylabel('Average World-Wide Gross (in million $)')\n",
    "plt.xticks(rotation=45)\n",
    "plt.style.use('ggplot');\n"
   ]
  },
  {
   "cell_type": "markdown",
   "metadata": {},
   "source": [
    "Conclusion: "
   ]
  },
  {
   "cell_type": "markdown",
   "metadata": {},
   "source": [
    "## (4.ii) 3-D vs. 2-D Analysis"
   ]
  },
  {
   "cell_type": "code",
   "execution_count": 66,
   "metadata": {},
   "outputs": [
    {
     "data": {
      "image/png": "[encoded data removed]",
      "text/plain": [
       "<Figure size 432x288 with 1 Axes>"
      ]
     },
     "metadata": {},
     "output_type": "display_data"
    }
   ],
   "source": [
    "#Creating a Group Bar Chart Comparing the ROIs\n",
    "categories = ['Domestic ROI', 'Worldwide ROI']\n",
    "threed_means = [threed_budgets_df['domestic_ROI'].mean(), threed_budgets_df['worldwide_ROI'].mean() ]\n",
    "no_threed_means = [no_threed_budgets_df['domestic_ROI'].mean(), no_threed_budgets_df['worldwide_ROI'].mean()]\n",
    "\n",
    "bar_width = 0.25\n",
    "# Set the positions of bars on X-axis\n",
    "r1 = range(len(categories))\n",
    "r2 = [x + bar_width for x in r1]\n",
    "\n",
    "# Create the grouped bar plot\n",
    "plt.bar(r1, threed_means, color='blue', width=bar_width, label='3-D Movies')\n",
    "plt.bar(r2, no_threed_means, color='red', width=bar_width, label='Not 3-D Movies')\n",
    "\n",
    "# Add labels, title, and legend\n",
    "plt.xlabel('Metrics')\n",
    "plt.ylabel('Mean ROI (%)')\n",
    "plt.title('ROI Comparison for 3-D and Not 3-D Movies')\n",
    "plt.xticks([r + bar_width/2 for r in r1], categories)\n",
    "plt.legend()\n",
    "\n",
    "# Show the plot\n",
    "plt.show()"
   ]
  },
  {
   "cell_type": "code",
   "execution_count": 67,
   "metadata": {},
   "outputs": [
    {
     "name": "stderr",
     "output_type": "stream",
     "text": [
      "<ipython-input-67-8c70804b6ce9>:19: UserWarning: FixedFormatter should only be used together with FixedLocator\n",
      "  plt.gca().set_yticklabels(['0', '$50,000,000', '$100,000,000', '$150,000,000', '$200,000,000', '$250,000,000'])\n"
     ]
    },
    {
     "data": {
      "image/png": "[encoded data removed]",
      "text/plain": [
       "<Figure size 432x288 with 1 Axes>"
      ]
     },
     "metadata": {},
     "output_type": "display_data"
    }
   ],
   "source": [
    "#Creating a Group Bar Chart Comparing the Gross Revenues\n",
    "categories = ['Domestic Gross', 'Worldwide Gross']\n",
    "threed_means = [threed_budgets_df['domestic_gross'].mean(), threed_budgets_df['worldwide_gross'].mean() ]\n",
    "no_threed_means = [no_threed_budgets_df['domestic_gross'].mean(), no_threed_budgets_df['worldwide_gross'].mean()]\n",
    "\n",
    "# Set the positions of bars on X-axis\n",
    "r1 = range(len(categories))\n",
    "r2 = [x + bar_width for x in r1]\n",
    "\n",
    "# Create the grouped bar plot\n",
    "plt.bar(r1, threed_means, color='blue', width=bar_width, label='3-D Movies')\n",
    "plt.bar(r2, no_threed_means, color='red', width=bar_width, label='Not 3-D Movies')\n",
    "\n",
    "# Add labels, title, and legend\n",
    "plt.xlabel('Metrics')\n",
    "plt.ylabel('Mean Gross')\n",
    "plt.title('ROI Comparison for 3-D and Not 3-D Movies')\n",
    "plt.xticks([r + bar_width/2 for r in r1], categories)\n",
    "plt.gca().set_yticklabels(['0', '$50,000,000', '$100,000,000', '$150,000,000', '$200,000,000', '$250,000,000'])\n",
    "plt.legend()\n",
    "\n",
    "# Show the plot\n",
    "plt.show()"
   ]
  },
  {
   "cell_type": "code",
   "execution_count": 68,
   "metadata": {},
   "outputs": [
    {
     "data": {
      "image/png": "[encoded data removed]",
      "text/plain": [
       "<Figure size 432x288 with 1 Axes>"
      ]
     },
     "metadata": {},
     "output_type": "display_data"
    }
   ],
   "source": [
    "#Creating a Group Bar Chart Comparing the Popularity Metrics\n",
    "categories = ['Popularity', 'Vote Average']\n",
    "threed_means = [threed_budgets_df['popularity'].mean(), threed_budgets_df['vote_average'].mean() ]\n",
    "no_threed_means = [no_threed_budgets_df['popularity'].mean(), no_threed_budgets_df['vote_average'].mean()]\n",
    "\n",
    "\n",
    "# Set the positions of bars on X-axis\n",
    "r1 = range(len(categories))\n",
    "r2 = [x + bar_width for x in r1]\n",
    "\n",
    "# Create the grouped bar plot\n",
    "plt.bar(r1, threed_means, color='blue', width=bar_width, label='3-D Movies')\n",
    "plt.bar(r2, no_threed_means, color='red', width=bar_width, label='Not 3-D Movies')\n",
    "\n",
    "# Add labels, title, and legend\n",
    "plt.xlabel('Metrics')\n",
    "plt.ylabel('Mean Values')\n",
    "plt.title('ROI Comparison for 3-D and Not 3-D Movies')\n",
    "plt.xticks([r + bar_width/2 for r in r1], categories)\n",
    "plt.legend()\n",
    "\n",
    "# Show the plot\n",
    "plt.show()"
   ]
  },
  {
   "cell_type": "markdown",
   "metadata": {},
   "source": [
    "Conclusion: "
   ]
  },
  {
   "cell_type": "markdown",
   "metadata": {},
   "source": [
    "### (4.ii.a) 2-Sample Indpendent T-Tests on 2-D vs. 3-D Movies"
   ]
  },
  {
   "cell_type": "code",
   "execution_count": 69,
   "metadata": {},
   "outputs": [],
   "source": [
    "# Defining a ttest function\n",
    "\n",
    "def ind_ttest(x, y):\n",
    "    result = stats.ttest_ind(x, y, equal_var=False)\n",
    "    return result"
   ]
  },
  {
   "cell_type": "code",
   "execution_count": 70,
   "metadata": {},
   "outputs": [
    {
     "data": {
      "text/plain": [
       "Ttest_indResult(statistic=-0.742358535507775, pvalue=0.4683592558434292)"
      ]
     },
     "execution_count": 70,
     "metadata": {},
     "output_type": "execute_result"
    }
   ],
   "source": [
    "#T test for 'worldwide ROI'\n",
    "ind_ttest(threed_budgets_df['worldwide_ROI'], no_threed_budgets_df['worldwide_ROI'])\n"
   ]
  },
  {
   "cell_type": "code",
   "execution_count": 71,
   "metadata": {},
   "outputs": [
    {
     "data": {
      "text/plain": [
       "Ttest_indResult(statistic=-1.1242982270561455, pvalue=0.27786537731601707)"
      ]
     },
     "execution_count": 71,
     "metadata": {},
     "output_type": "execute_result"
    }
   ],
   "source": [
    "#T test for 'domestic ROI'\n",
    "ind_ttest(threed_budgets_df['domestic_ROI'], no_threed_budgets_df['domestic_ROI'])"
   ]
  },
  {
   "cell_type": "code",
   "execution_count": 72,
   "metadata": {},
   "outputs": [
    {
     "data": {
      "text/plain": [
       "Ttest_indResult(statistic=1.4638448389844954, pvalue=0.17639395062298194)"
      ]
     },
     "execution_count": 72,
     "metadata": {},
     "output_type": "execute_result"
    }
   ],
   "source": [
    "#T test for 'worldwide gross'\n",
    "ind_ttest(threed_budgets_df['worldwide_gross'], no_threed_budgets_df['worldwide_gross'])"
   ]
  },
  {
   "cell_type": "code",
   "execution_count": 73,
   "metadata": {},
   "outputs": [
    {
     "data": {
      "text/plain": [
       "Ttest_indResult(statistic=1.1658251808101647, pvalue=0.2722976009235456)"
      ]
     },
     "execution_count": 73,
     "metadata": {},
     "output_type": "execute_result"
    }
   ],
   "source": [
    "#T test for 'domestic gross'\n",
    "ind_ttest(threed_budgets_df['domestic_gross'], no_threed_budgets_df['domestic_gross'])"
   ]
  },
  {
   "cell_type": "code",
   "execution_count": 74,
   "metadata": {},
   "outputs": [
    {
     "data": {
      "text/plain": [
       "Ttest_indResult(statistic=0.8988202610083906, pvalue=0.3886002985217577)"
      ]
     },
     "execution_count": 74,
     "metadata": {},
     "output_type": "execute_result"
    }
   ],
   "source": [
    "#T test for 'popularity'\n",
    "ind_ttest(threed_budgets_df['popularity'], no_threed_budgets_df['popularity'])"
   ]
  },
  {
   "cell_type": "markdown",
   "metadata": {},
   "source": [
    "Conclusion:"
   ]
  },
  {
   "cell_type": "markdown",
   "metadata": {},
   "source": [
    "## (4.iii) Experienced vs. Inexperienced Directors and Writers Analysis"
   ]
  },
  {
   "cell_type": "markdown",
   "metadata": {},
   "source": [
    "### Directors Hypothesis Test"
   ]
  },
  {
   "cell_type": "code",
   "execution_count": 76,
   "metadata": {},
   "outputs": [
    {
     "name": "stdout",
     "output_type": "stream",
     "text": [
      "<class 'pandas.core.frame.DataFrame'>\n",
      "Int64Index: 631 entries, 0 to 630\n",
      "Data columns (total 19 columns):\n",
      " #   Column             Non-Null Count  Dtype         \n",
      "---  ------             --------------  -----         \n",
      " 0   averagerating      631 non-null    float64       \n",
      " 1   numvotes           631 non-null    int64         \n",
      " 2   person_id          631 non-null    object        \n",
      " 3   primary_title      631 non-null    object        \n",
      " 4   Unnamed: 0         631 non-null    int64         \n",
      " 5   id_x               631 non-null    int64         \n",
      " 6   popularity         631 non-null    float64       \n",
      " 7   release_date_x     631 non-null    object        \n",
      " 8   vote_average       631 non-null    float64       \n",
      " 9   vote_count         631 non-null    int64         \n",
      " 10  id_y               631 non-null    int64         \n",
      " 11  release_date_y     631 non-null    datetime64[ns]\n",
      " 12  production_budget  631 non-null    int64         \n",
      " 13  domestic_gross     631 non-null    int64         \n",
      " 14  worldwide_gross    631 non-null    int64         \n",
      " 15  release_month      631 non-null    category      \n",
      " 16  release_year       631 non-null    int64         \n",
      " 17  domestic_ROI       631 non-null    float64       \n",
      " 18  worldwide_ROI      631 non-null    float64       \n",
      "dtypes: category(1), datetime64[ns](1), float64(5), int64(9), object(3)\n",
      "memory usage: 94.7+ KB\n"
     ]
    }
   ],
   "source": [
    "merged_d_e.info()"
   ]
  },
  {
   "cell_type": "code",
   "execution_count": 77,
   "metadata": {},
   "outputs": [],
   "source": [
    "# Defining the variables for the ttests of directors\n",
    "\n",
    "dx1 = merged_d_e['popularity']\n",
    "dx2 = merged_d_e['domestic_gross']\n",
    "dx3 = merged_d_e['domestic_ROI']\n",
    "\n",
    "dy1 = merged_d_n_e['popularity']\n",
    "dy2 = merged_d_n_e['domestic_gross']\n",
    "dy3 = merged_d_n_e['domestic_ROI']\n"
   ]
  },
  {
   "cell_type": "markdown",
   "metadata": {},
   "source": [
    "#### 2 Sample T-Test of Director Experience Level vs. Popularity\n",
    "\n",
    "As you can see in the bar chart below, inexperienced directors have a lower average popularity rating compared to experienced directors. We would like to test if the means of these two samples are statistically significant, so we will perform a 2-sample t-test. "
   ]
  },
  {
   "cell_type": "code",
   "execution_count": 117,
   "metadata": {},
   "outputs": [
    {
     "data": {
      "image/png": "[encoded data removed]",
      "text/plain": [
       "<Figure size 432x288 with 1 Axes>"
      ]
     },
     "metadata": {},
     "output_type": "display_data"
    }
   ],
   "source": [
    "#Creating a Group Bar Chart Comparing the Popularity\n",
    "merged_d_e_means = [merged_d_e['popularity'].mean()]\n",
    "merged_d_n_e_means = [merged_d_n_e['popularity'].mean()]\n",
    "\n",
    "bar_width = 0.25\n",
    "# Set the positions of bars on X-axis\n",
    "r1 = range(len(categories))\n",
    "r2 = [x + bar_width for x in r1]\n",
    "\n",
    "# Create the grouped bar plot\n",
    "plt.bar(r1, merged_d_e_means, color='blue', width=bar_width, label='Experienced Directors')\n",
    "plt.bar(r2, merged_d_n_e_means, color='red', width=bar_width, label='Inexperienced Directors')\n",
    "\n",
    "# Add labels, title, and legend\n",
    "plt.xlabel('Directors')\n",
    "plt.ylabel('Popularity')\n",
    "plt.title('Popularity by Director Experience Level')\n",
    "plt.xticks([r + bar_width/2 for r in r1], categories)\n",
    "plt.legend()\n",
    "\n",
    "# Show the plot\n",
    "plt.show()"
   ]
  },
  {
   "cell_type": "markdown",
   "metadata": {},
   "source": [
    "\n",
    "Null hypothesis: experienced directors do not have a statistically significant higher popularity than inexperienced directors.\n",
    "\n",
    "Alternative hypothesis: experienced directors have a statistically significant higher popularity than inexperienced directors."
   ]
  },
  {
   "cell_type": "code",
   "execution_count": 78,
   "metadata": {},
   "outputs": [
    {
     "data": {
      "text/plain": [
       "Ttest_indResult(statistic=10.192747830304803, pvalue=1.931665680763248e-23)"
      ]
     },
     "execution_count": 78,
     "metadata": {},
     "output_type": "execute_result"
    }
   ],
   "source": [
    "# Director experience level vs. popularity\n",
    "ind_ttest(dx1, dy1)"
   ]
  },
  {
   "cell_type": "markdown",
   "metadata": {},
   "source": [
    "Our pvalue is < our alpha of 0.05, so we can reject our null hypothesis and accept our alternative hypothesis. Movies with experienced directors may have higher popularity than movies with inexperienced directors."
   ]
  },
  {
   "cell_type": "markdown",
   "metadata": {},
   "source": [
    "#### 2 Sample T-Test of Director Experience Level vs. Domestic Gross\n",
    "\n",
    "As you can see in the bar chart below, inexperienced directors have a lower average domestic gross compared to experienced directors. There is about a $35 million difference between the two sample means. We would like to test if the means of these two samples are statistically significant, so we will perform a 2-sample t-test. "
   ]
  },
  {
   "cell_type": "code",
   "execution_count": 130,
   "metadata": {},
   "outputs": [
    {
     "data": {
      "image/png": "[encoded data removed]",
      "text/plain": [
       "<Figure size 432x288 with 1 Axes>"
      ]
     },
     "metadata": {},
     "output_type": "display_data"
    }
   ],
   "source": [
    "#Creating a Group Bar Chart Comparing the Domestic Gross\n",
    "merged_d_e_means = [merged_d_e['domestic_gross'].mean()]\n",
    "merged_d_n_e_means = [merged_d_n_e['domestic_gross'].mean()]\n",
    "\n",
    "bar_width = 0.25\n",
    "# Set the positions of bars on X-axis\n",
    "r1 = range(len(categories))\n",
    "r2 = [x + bar_width for x in r1]\n",
    "\n",
    "# Create the grouped bar plot\n",
    "plt.bar(r1, merged_d_e_means, color='blue', width=bar_width, label='Experienced Directors')\n",
    "plt.bar(r2, merged_d_n_e_means, color='red', width=bar_width, label='Inexperienced Directors')\n",
    "\n",
    "# Add labels, title, and legend\n",
    "plt.xlabel('Directors')\n",
    "plt.ylabel('Domestic Gross (Tens of Millions of $)')\n",
    "plt.title('Domestic Gross by Director Experience Level')\n",
    "plt.xticks([r + bar_width/2 for r in r1], categories)\n",
    "plt.legend()\n",
    "\n",
    "# Show the plot\n",
    "plt.show()"
   ]
  },
  {
   "cell_type": "markdown",
   "metadata": {},
   "source": [
    "\n",
    "Null hypothesis: experienced directors do not have a statistically significant higher domestic gross than inexperienced directors.\n",
    "\n",
    "Alternative hypothesis: experienced directors have a statistically significant higher domestic gross than inexperienced directors."
   ]
  },
  {
   "cell_type": "code",
   "execution_count": 79,
   "metadata": {},
   "outputs": [
    {
     "data": {
      "text/plain": [
       "Ttest_indResult(statistic=7.44948791804604, pvalue=2.0095027935045344e-13)"
      ]
     },
     "execution_count": 79,
     "metadata": {},
     "output_type": "execute_result"
    }
   ],
   "source": [
    "# director experience level vs. domestic_gross\n",
    "ind_ttest(dx2, dy2)"
   ]
  },
  {
   "cell_type": "markdown",
   "metadata": {},
   "source": [
    "Our pvalue is < our alpha of 0.05, so we can reject our null hypothesis and accept our alternative hypothesis. Movies with experienced directors may have higher domestic gross than movies with inexperienced directors."
   ]
  },
  {
   "cell_type": "markdown",
   "metadata": {},
   "source": [
    "#### 2 Sample T-Test of Director Experience Level vs. Domestic ROI\n",
    "\n",
    "As you can see in the bar chart below, inexperienced directors have a lower average domestic ROI compared to experienced directors. There is about a 40% difference between the two sample means. We would like to test if the means of these two samples are statistically significant, so we will perform a 2-sample t-test. "
   ]
  },
  {
   "cell_type": "code",
   "execution_count": 131,
   "metadata": {},
   "outputs": [
    {
     "data": {
      "image/png": "[encoded data removed]",
      "text/plain": [
       "<Figure size 432x288 with 1 Axes>"
      ]
     },
     "metadata": {},
     "output_type": "display_data"
    }
   ],
   "source": [
    "#Creating a Group Bar Chart Comparing the Domestic ROI\n",
    "merged_d_e_means = [merged_d_e['domestic_ROI'].mean()]\n",
    "merged_d_n_e_means = [merged_d_n_e['domestic_ROI'].mean()]\n",
    "\n",
    "bar_width = 0.25\n",
    "# Set the positions of bars on X-axis\n",
    "r1 = range(len(categories))\n",
    "r2 = [x + bar_width for x in r1]\n",
    "\n",
    "# Create the grouped bar plot\n",
    "plt.bar(r1, merged_d_e_means, color='blue', width=bar_width, label='Experienced Directors')\n",
    "plt.bar(r2, merged_d_n_e_means, color='red', width=bar_width, label='Inexperienced Directors')\n",
    "\n",
    "# Add labels, title, and legend\n",
    "plt.xlabel('Directors')\n",
    "plt.ylabel('ROI (%)')\n",
    "plt.title('Domestic ROI by Director Experience Level')\n",
    "plt.xticks([r + bar_width/2 for r in r1], categories)\n",
    "plt.legend()\n",
    "\n",
    "# Show the plot\n",
    "plt.show()"
   ]
  },
  {
   "cell_type": "markdown",
   "metadata": {},
   "source": [
    "Null hypothesis: experienced directors do not have a statistically significant higher domestic ROI than inexperienced directors.\n",
    "\n",
    "Alternative hypothesis: experienced directors have a statistically significant higher domestic ROI than inexperienced directors."
   ]
  },
  {
   "cell_type": "code",
   "execution_count": 80,
   "metadata": {},
   "outputs": [
    {
     "data": {
      "text/plain": [
       "Ttest_indResult(statistic=0.6755050254888523, pvalue=0.49956797197393243)"
      ]
     },
     "execution_count": 80,
     "metadata": {},
     "output_type": "execute_result"
    }
   ],
   "source": [
    "# director experience level vs. domestic_ROI\n",
    "ind_ttest(dx3, dy3)"
   ]
  },
  {
   "cell_type": "markdown",
   "metadata": {},
   "source": [
    "Our pvalue is > our alpha of 0.05, so we *fail* to reject our null hypothesis. Movies with experienced directors may experience no difference in domestic gross compared with movies with inexperienced directors."
   ]
  },
  {
   "cell_type": "markdown",
   "metadata": {},
   "source": [
    "Conclusion: Hiring experienced directors may lead to more popular and higher grossing movies, but does not lead to higher domestic ROI relative to less experienced directors. Since less experienced directors are also likely to be more inexpensive to hire, we recommend choosing a director based on their salary expectations rather than the number of movies they have led. "
   ]
  },
  {
   "cell_type": "markdown",
   "metadata": {},
   "source": [
    "### Writers Hypothesis Test"
   ]
  },
  {
   "cell_type": "code",
   "execution_count": 81,
   "metadata": {},
   "outputs": [],
   "source": [
    "# defining the variables for the ttest of writers\n",
    "\n",
    "wx1 = merged_w_e['popularity']\n",
    "wx2 = merged_w_e['domestic_gross']\n",
    "wx3 = merged_w_e['domestic_ROI']\n",
    "\n",
    "wy1 = merged_w_n_e['popularity']\n",
    "wy2 = merged_w_n_e['domestic_gross']\n",
    "wy3 = merged_w_n_e['domestic_ROI']\n"
   ]
  },
  {
   "cell_type": "markdown",
   "metadata": {},
   "source": [
    "#### 2 Sample T-Test of Writer Experience Level vs. Popularity\n",
    "\n",
    "As you can see in the bar chart below, inexperienced writers have a lower average popularity rating compared to experienced writers. We would like to test if the means of these two samples are statistically significant, so we will perform a 2-sample t-test. "
   ]
  },
  {
   "cell_type": "code",
   "execution_count": 132,
   "metadata": {},
   "outputs": [
    {
     "data": {
      "image/png": "[encoded data removed]",
      "text/plain": [
       "<Figure size 432x288 with 1 Axes>"
      ]
     },
     "metadata": {},
     "output_type": "display_data"
    }
   ],
   "source": [
    "#Creating a Group Bar Chart Comparing the Popularity\n",
    "merged_w_e_means = [merged_w_e['popularity'].mean()]\n",
    "merged_w_n_e_means = [merged_w_n_e['popularity'].mean()]\n",
    "\n",
    "bar_width = 0.25\n",
    "# Set the positions of bars on X-axis\n",
    "r1 = range(len(categories))\n",
    "r2 = [x + bar_width for x in r1]\n",
    "\n",
    "# Create the grouped bar plot\n",
    "plt.bar(r1, merged_w_e_means, color='blue', width=bar_width, label='Experienced Writers')\n",
    "plt.bar(r2, merged_w_n_e_means, color='red', width=bar_width, label='Inexperienced Writers')\n",
    "\n",
    "# Add labels, title, and legend\n",
    "plt.xlabel('Writers')\n",
    "plt.ylabel('Popularity')\n",
    "plt.title('Popularity by Writer Experience Level')\n",
    "plt.xticks([r + bar_width/2 for r in r1], categories)\n",
    "plt.legend()\n",
    "\n",
    "# Show the plot\n",
    "plt.show()"
   ]
  },
  {
   "cell_type": "markdown",
   "metadata": {},
   "source": [
    "Null hypothesis: experienced writers do not have a statistically significant higher popularity rating than inexperienced writers.\n",
    "\n",
    "Alternative hypothesis: experienced writers have a statistically significant higher popularity rating than inexperienced writers."
   ]
  },
  {
   "cell_type": "code",
   "execution_count": 116,
   "metadata": {},
   "outputs": [
    {
     "data": {
      "text/plain": [
       "Ttest_indResult(statistic=6.915468377066153, pvalue=1.1271543666464766e-11)"
      ]
     },
     "execution_count": 116,
     "metadata": {},
     "output_type": "execute_result"
    }
   ],
   "source": [
    "# writer experience level vs. popularity\n",
    "ind_ttest(wx1, wy1)"
   ]
  },
  {
   "cell_type": "markdown",
   "metadata": {},
   "source": [
    "Our pvalue is < our alpha of 0.05, so we can reject our null hypothesis and accept our alternative hypothesis. Movies with experienced writers may be more popular than movies with inexperienced writers."
   ]
  },
  {
   "cell_type": "markdown",
   "metadata": {},
   "source": [
    "#### 2 Sample T-Test of Writer Experience Level vs. Domestic Gross\n",
    "\n",
    "As you can see in the bar chart below, inexperienced writers have a lower average domestic gross compared to experienced writers. We would like to test if the means of these two samples are statistically significant, so we will perform a 2-sample t-test. "
   ]
  },
  {
   "cell_type": "code",
   "execution_count": 133,
   "metadata": {},
   "outputs": [
    {
     "data": {
      "image/png": "[encoded data removed]",
      "text/plain": [
       "<Figure size 432x288 with 1 Axes>"
      ]
     },
     "metadata": {},
     "output_type": "display_data"
    }
   ],
   "source": [
    "#Creating a Group Bar Chart Comparing the Domestic Gross\n",
    "merged_w_e_means = [merged_w_e['domestic_gross'].mean()]\n",
    "merged_w_n_e_means = [merged_w_n_e['domestic_gross'].mean()]\n",
    "\n",
    "bar_width = 0.25\n",
    "# Set the positions of bars on X-axis\n",
    "r1 = range(len(categories))\n",
    "r2 = [x + bar_width for x in r1]\n",
    "\n",
    "# Create the grouped bar plot\n",
    "plt.bar(r1, merged_w_e_means, color='blue', width=bar_width, label='Experienced Writers')\n",
    "plt.bar(r2, merged_w_n_e_means, color='red', width=bar_width, label='Inexperienced Writers')\n",
    "\n",
    "# Add labels, title, and legend\n",
    "plt.xlabel('Writers')\n",
    "plt.ylabel('Domestic Gross (Tens of Millions of $)')\n",
    "plt.title('Domestic Gross by Writer Experience Level')\n",
    "plt.xticks([r + bar_width/2 for r in r1], categories)\n",
    "plt.legend()\n",
    "\n",
    "# Show the plot\n",
    "plt.show()"
   ]
  },
  {
   "cell_type": "markdown",
   "metadata": {},
   "source": [
    "Null hypothesis: experienced writers do not have a statistically significant higher domestic gross than inexperienced writers.\n",
    "\n",
    "Alternative hypothesis: experienced writers have a statistically significant higher domestic gross than inexperienced writers."
   ]
  },
  {
   "cell_type": "code",
   "execution_count": 83,
   "metadata": {},
   "outputs": [
    {
     "data": {
      "text/plain": [
       "Ttest_indResult(statistic=7.923143326769938, pvalue=1.0672125446358374e-14)"
      ]
     },
     "execution_count": 83,
     "metadata": {},
     "output_type": "execute_result"
    }
   ],
   "source": [
    "# writer experience level vs. domestic_gross\n",
    "ind_ttest(wx2, wy2)"
   ]
  },
  {
   "cell_type": "markdown",
   "metadata": {},
   "source": [
    "Our pvalue is < our alpha of 0.05, so we can reject our null hypothesis and accept our alternative hypothesis. Movies with experienced writers may have a higher domestic gross than movies with inexperienced writers."
   ]
  },
  {
   "cell_type": "markdown",
   "metadata": {},
   "source": [
    "#### 2 Sample T-Test of Writer Experience Level vs. Domestic ROI\n",
    "\n",
    "As you can see in the bar chart below, inexperienced writers have a lower average domestic ROI compared to experienced writers. We would like to test if the means of these two samples are statistically significant, so we will perform a 2-sample t-test. "
   ]
  },
  {
   "cell_type": "code",
   "execution_count": 134,
   "metadata": {},
   "outputs": [
    {
     "data": {
      "image/png": "[encoded data removed]",
      "text/plain": [
       "<Figure size 432x288 with 1 Axes>"
      ]
     },
     "metadata": {},
     "output_type": "display_data"
    }
   ],
   "source": [
    "#Creating a Group Bar Chart Comparing the Domestic ROI\n",
    "merged_w_e_means = [merged_w_e['domestic_ROI'].mean()]\n",
    "merged_w_n_e_means = [merged_w_n_e['domestic_ROI'].mean()]\n",
    "\n",
    "bar_width = 0.25\n",
    "# Set the positions of bars on X-axis\n",
    "r1 = range(len(categories))\n",
    "r2 = [x + bar_width for x in r1]\n",
    "\n",
    "# Create the grouped bar plot\n",
    "plt.bar(r1, merged_w_e_means, color='blue', width=bar_width, label='Experienced Writers')\n",
    "plt.bar(r2, merged_w_n_e_means, color='red', width=bar_width, label='Inexperienced Writers')\n",
    "\n",
    "# Add labels, title, and legend\n",
    "plt.xlabel('Writers')\n",
    "plt.ylabel('ROI (%)')\n",
    "plt.title('Domestic ROI by Writer Experience Level')\n",
    "plt.xticks([r + bar_width/2 for r in r1], categories)\n",
    "plt.legend()\n",
    "\n",
    "# Show the plot\n",
    "plt.show()"
   ]
  },
  {
   "cell_type": "markdown",
   "metadata": {},
   "source": [
    "Null hypothesis: experienced writers do not have a statistically significant higher domestic ROI than inexperienced writers.\n",
    "\n",
    "Alternative hypothesis: experienced writers have a statistically significant higher domestic ROI than inexperienced writers."
   ]
  },
  {
   "cell_type": "code",
   "execution_count": 84,
   "metadata": {},
   "outputs": [
    {
     "data": {
      "text/plain": [
       "Ttest_indResult(statistic=1.0243375507608277, pvalue=0.3061358876991332)"
      ]
     },
     "execution_count": 84,
     "metadata": {},
     "output_type": "execute_result"
    }
   ],
   "source": [
    "# writer experience level vs. domestic_ROI\n",
    "ind_ttest(wx3, wy3)"
   ]
  },
  {
   "cell_type": "markdown",
   "metadata": {},
   "source": [
    "Our pvalue is > our alpha of 0.05, so we *fail* to reject our null hypothesis. Movies with experienced writers may experience no difference in domestic gross compared with movies with inexperienced writers."
   ]
  },
  {
   "cell_type": "markdown",
   "metadata": {},
   "source": [
    "Conclusion: Hiring experienced writers may lead to more popular and higher grossing movies, but does not lead to higher domestic ROI relative to less experienced writers. Since less experienced writers are also likely to be more inexpensive to hire, we recommend choosing a writer based on their salary expectations rather than the number of movies they have led. "
   ]
  },
  {
   "cell_type": "markdown",
   "metadata": {},
   "source": [
    "## (4.iv) Runtime and Budget Analysis"
   ]
  },
  {
   "cell_type": "code",
   "execution_count": 135,
   "metadata": {},
   "outputs": [],
   "source": [
    "# defining the variables for runtime and budget tests\n",
    "\n",
    "rx = sm.add_constant(movie_basics_budget['runtime_minutes'])\n",
    "bx = sm.add_constant(movie_basics_budget['production_budget'])\n",
    "\n",
    "y1 = movie_basics_budget['popularity']\n",
    "y2 = movie_basics_budget['domestic_gross']\n",
    "y3 = movie_basics_budget['domestic_ROI']\n"
   ]
  },
  {
   "cell_type": "code",
   "execution_count": 136,
   "metadata": {},
   "outputs": [],
   "source": [
    "# Defining a linear regression function\n",
    "\n",
    "def lin_reg(y, x):\n",
    "    lin_reg_model = sm.OLS(y, x).fit().summary()\n",
    "    return lin_reg_model"
   ]
  },
  {
   "cell_type": "markdown",
   "metadata": {},
   "source": [
    "### Budget Regressions and Visuals"
   ]
  },
  {
   "cell_type": "markdown",
   "metadata": {},
   "source": [
    "#### Budget vs. Popularity Regression"
   ]
  },
  {
   "cell_type": "markdown",
   "metadata": {},
   "source": [
    "In the scatter plot below, there seems to be a generally positive relationship between production budget and a movie's popularity. We would like to test the strength of this apparent linear relationship using a simple linear regression."
   ]
  },
  {
   "cell_type": "code",
   "execution_count": 137,
   "metadata": {},
   "outputs": [
    {
     "data": {
      "image/png": "[encoded data removed]",
      "text/plain": [
       "<Figure size 432x288 with 1 Axes>"
      ]
     },
     "metadata": {},
     "output_type": "display_data"
    }
   ],
   "source": [
    "# budget vs. popularity scatter\n",
    "best_line(bx['production_budget'], y1)"
   ]
  },
  {
   "cell_type": "code",
   "execution_count": 87,
   "metadata": {},
   "outputs": [
    {
     "data": {
      "text/html": [
       "<table class=\"simpletable\">\n",
       "<caption>OLS Regression Results</caption>\n",
       "<tr>\n",
       "  <th>Dep. Variable:</th>       <td>popularity</td>    <th>  R-squared:         </th> <td>   0.179</td> \n",
       "</tr>\n",
       "<tr>\n",
       "  <th>Model:</th>                   <td>OLS</td>       <th>  Adj. R-squared:    </th> <td>   0.179</td> \n",
       "</tr>\n",
       "<tr>\n",
       "  <th>Method:</th>             <td>Least Squares</td>  <th>  F-statistic:       </th> <td>   702.1</td> \n",
       "</tr>\n",
       "<tr>\n",
       "  <th>Date:</th>             <td>Thu, 07 Dec 2023</td> <th>  Prob (F-statistic):</th> <td>4.42e-140</td>\n",
       "</tr>\n",
       "<tr>\n",
       "  <th>Time:</th>                 <td>10:06:48</td>     <th>  Log-Likelihood:    </th> <td> -11024.</td> \n",
       "</tr>\n",
       "<tr>\n",
       "  <th>No. Observations:</th>      <td>  3213</td>      <th>  AIC:               </th> <td>2.205e+04</td>\n",
       "</tr>\n",
       "<tr>\n",
       "  <th>Df Residuals:</th>          <td>  3211</td>      <th>  BIC:               </th> <td>2.206e+04</td>\n",
       "</tr>\n",
       "<tr>\n",
       "  <th>Df Model:</th>              <td>     1</td>      <th>                     </th>     <td> </td>    \n",
       "</tr>\n",
       "<tr>\n",
       "  <th>Covariance Type:</th>      <td>nonrobust</td>    <th>                     </th>     <td> </td>    \n",
       "</tr>\n",
       "</table>\n",
       "<table class=\"simpletable\">\n",
       "<tr>\n",
       "          <td></td>             <th>coef</th>     <th>std err</th>      <th>t</th>      <th>P>|t|</th>  <th>[0.025</th>    <th>0.975]</th>  \n",
       "</tr>\n",
       "<tr>\n",
       "  <th>const</th>             <td>    6.5075</td> <td>    0.168</td> <td>   38.842</td> <td> 0.000</td> <td>    6.179</td> <td>    6.836</td>\n",
       "</tr>\n",
       "<tr>\n",
       "  <th>production_budget</th> <td> 6.685e-08</td> <td> 2.52e-09</td> <td>   26.497</td> <td> 0.000</td> <td> 6.19e-08</td> <td> 7.18e-08</td>\n",
       "</tr>\n",
       "</table>\n",
       "<table class=\"simpletable\">\n",
       "<tr>\n",
       "  <th>Omnibus:</th>       <td>672.975</td> <th>  Durbin-Watson:     </th> <td>   1.377</td>\n",
       "</tr>\n",
       "<tr>\n",
       "  <th>Prob(Omnibus):</th> <td> 0.000</td>  <th>  Jarque-Bera (JB):  </th> <td>3237.492</td>\n",
       "</tr>\n",
       "<tr>\n",
       "  <th>Skew:</th>          <td> 0.923</td>  <th>  Prob(JB):          </th> <td>    0.00</td>\n",
       "</tr>\n",
       "<tr>\n",
       "  <th>Kurtosis:</th>      <td> 7.558</td>  <th>  Cond. No.          </th> <td>8.43e+07</td>\n",
       "</tr>\n",
       "</table><br/><br/>Notes:<br/>[1] Standard Errors assume that the covariance matrix of the errors is correctly specified.<br/>[2] The condition number is large, 8.43e+07. This might indicate that there are<br/>strong multicollinearity or other numerical problems."
      ],
      "text/plain": [
       "<class 'statsmodels.iolib.summary.Summary'>\n",
       "\"\"\"\n",
       "                            OLS Regression Results                            \n",
       "==============================================================================\n",
       "Dep. Variable:             popularity   R-squared:                       0.179\n",
       "Model:                            OLS   Adj. R-squared:                  0.179\n",
       "Method:                 Least Squares   F-statistic:                     702.1\n",
       "Date:                Thu, 07 Dec 2023   Prob (F-statistic):          4.42e-140\n",
       "Time:                        10:06:48   Log-Likelihood:                -11024.\n",
       "No. Observations:                3213   AIC:                         2.205e+04\n",
       "Df Residuals:                    3211   BIC:                         2.206e+04\n",
       "Df Model:                           1                                         \n",
       "Covariance Type:            nonrobust                                         \n",
       "=====================================================================================\n",
       "                        coef    std err          t      P>|t|      [0.025      0.975]\n",
       "-------------------------------------------------------------------------------------\n",
       "const                 6.5075      0.168     38.842      0.000       6.179       6.836\n",
       "production_budget  6.685e-08   2.52e-09     26.497      0.000    6.19e-08    7.18e-08\n",
       "==============================================================================\n",
       "Omnibus:                      672.975   Durbin-Watson:                   1.377\n",
       "Prob(Omnibus):                  0.000   Jarque-Bera (JB):             3237.492\n",
       "Skew:                           0.923   Prob(JB):                         0.00\n",
       "Kurtosis:                       7.558   Cond. No.                     8.43e+07\n",
       "==============================================================================\n",
       "\n",
       "Notes:\n",
       "[1] Standard Errors assume that the covariance matrix of the errors is correctly specified.\n",
       "[2] The condition number is large, 8.43e+07. This might indicate that there are\n",
       "strong multicollinearity or other numerical problems.\n",
       "\"\"\""
      ]
     },
     "execution_count": 87,
     "metadata": {},
     "output_type": "execute_result"
    }
   ],
   "source": [
    "# budget vs. popularity\n",
    "lin_reg(y1, bx)"
   ]
  },
  {
   "cell_type": "markdown",
   "metadata": {},
   "source": [
    "#### Budget vs. Domestic Gross Regression"
   ]
  },
  {
   "cell_type": "markdown",
   "metadata": {},
   "source": [
    "In the scatter plot below, there seems to be a generally positive relationship between production budget and a movie's domestic gross. We would like to test the strength of this apparent linear relationship using a simple linear regression."
   ]
  },
  {
   "cell_type": "code",
   "execution_count": 138,
   "metadata": {},
   "outputs": [
    {
     "data": {
      "image/png": "[encoded data removed]",
      "text/plain": [
       "<Figure size 432x288 with 1 Axes>"
      ]
     },
     "metadata": {},
     "output_type": "display_data"
    }
   ],
   "source": [
    "# budget vs. domestic gross scatter\n",
    "best_line(bx['production_budget'], y2)"
   ]
  },
  {
   "cell_type": "code",
   "execution_count": 89,
   "metadata": {},
   "outputs": [
    {
     "data": {
      "text/html": [
       "<table class=\"simpletable\">\n",
       "<caption>OLS Regression Results</caption>\n",
       "<tr>\n",
       "  <th>Dep. Variable:</th>     <td>domestic_gross</td>  <th>  R-squared:         </th> <td>   0.576</td> \n",
       "</tr>\n",
       "<tr>\n",
       "  <th>Model:</th>                   <td>OLS</td>       <th>  Adj. R-squared:    </th> <td>   0.576</td> \n",
       "</tr>\n",
       "<tr>\n",
       "  <th>Method:</th>             <td>Least Squares</td>  <th>  F-statistic:       </th> <td>   4357.</td> \n",
       "</tr>\n",
       "<tr>\n",
       "  <th>Date:</th>             <td>Thu, 07 Dec 2023</td> <th>  Prob (F-statistic):</th>  <td>  0.00</td>  \n",
       "</tr>\n",
       "<tr>\n",
       "  <th>Time:</th>                 <td>10:06:48</td>     <th>  Log-Likelihood:    </th> <td> -61782.</td> \n",
       "</tr>\n",
       "<tr>\n",
       "  <th>No. Observations:</th>      <td>  3213</td>      <th>  AIC:               </th> <td>1.236e+05</td>\n",
       "</tr>\n",
       "<tr>\n",
       "  <th>Df Residuals:</th>          <td>  3211</td>      <th>  BIC:               </th> <td>1.236e+05</td>\n",
       "</tr>\n",
       "<tr>\n",
       "  <th>Df Model:</th>              <td>     1</td>      <th>                     </th>     <td> </td>    \n",
       "</tr>\n",
       "<tr>\n",
       "  <th>Covariance Type:</th>      <td>nonrobust</td>    <th>                     </th>     <td> </td>    \n",
       "</tr>\n",
       "</table>\n",
       "<table class=\"simpletable\">\n",
       "<tr>\n",
       "          <td></td>             <th>coef</th>     <th>std err</th>      <th>t</th>      <th>P>|t|</th>  <th>[0.025</th>    <th>0.975]</th>  \n",
       "</tr>\n",
       "<tr>\n",
       "  <th>const</th>             <td> 3.858e+06</td> <td> 1.22e+06</td> <td>    3.172</td> <td> 0.002</td> <td> 1.47e+06</td> <td> 6.24e+06</td>\n",
       "</tr>\n",
       "<tr>\n",
       "  <th>production_budget</th> <td>    1.2088</td> <td>    0.018</td> <td>   66.011</td> <td> 0.000</td> <td>    1.173</td> <td>    1.245</td>\n",
       "</tr>\n",
       "</table>\n",
       "<table class=\"simpletable\">\n",
       "<tr>\n",
       "  <th>Omnibus:</th>       <td>1645.476</td> <th>  Durbin-Watson:     </th> <td>   0.625</td> \n",
       "</tr>\n",
       "<tr>\n",
       "  <th>Prob(Omnibus):</th>  <td> 0.000</td>  <th>  Jarque-Bera (JB):  </th> <td>24233.498</td>\n",
       "</tr>\n",
       "<tr>\n",
       "  <th>Skew:</th>           <td> 2.076</td>  <th>  Prob(JB):          </th> <td>    0.00</td> \n",
       "</tr>\n",
       "<tr>\n",
       "  <th>Kurtosis:</th>       <td>15.797</td>  <th>  Cond. No.          </th> <td>8.43e+07</td> \n",
       "</tr>\n",
       "</table><br/><br/>Notes:<br/>[1] Standard Errors assume that the covariance matrix of the errors is correctly specified.<br/>[2] The condition number is large, 8.43e+07. This might indicate that there are<br/>strong multicollinearity or other numerical problems."
      ],
      "text/plain": [
       "<class 'statsmodels.iolib.summary.Summary'>\n",
       "\"\"\"\n",
       "                            OLS Regression Results                            \n",
       "==============================================================================\n",
       "Dep. Variable:         domestic_gross   R-squared:                       0.576\n",
       "Model:                            OLS   Adj. R-squared:                  0.576\n",
       "Method:                 Least Squares   F-statistic:                     4357.\n",
       "Date:                Thu, 07 Dec 2023   Prob (F-statistic):               0.00\n",
       "Time:                        10:06:48   Log-Likelihood:                -61782.\n",
       "No. Observations:                3213   AIC:                         1.236e+05\n",
       "Df Residuals:                    3211   BIC:                         1.236e+05\n",
       "Df Model:                           1                                         \n",
       "Covariance Type:            nonrobust                                         \n",
       "=====================================================================================\n",
       "                        coef    std err          t      P>|t|      [0.025      0.975]\n",
       "-------------------------------------------------------------------------------------\n",
       "const              3.858e+06   1.22e+06      3.172      0.002    1.47e+06    6.24e+06\n",
       "production_budget     1.2088      0.018     66.011      0.000       1.173       1.245\n",
       "==============================================================================\n",
       "Omnibus:                     1645.476   Durbin-Watson:                   0.625\n",
       "Prob(Omnibus):                  0.000   Jarque-Bera (JB):            24233.498\n",
       "Skew:                           2.076   Prob(JB):                         0.00\n",
       "Kurtosis:                      15.797   Cond. No.                     8.43e+07\n",
       "==============================================================================\n",
       "\n",
       "Notes:\n",
       "[1] Standard Errors assume that the covariance matrix of the errors is correctly specified.\n",
       "[2] The condition number is large, 8.43e+07. This might indicate that there are\n",
       "strong multicollinearity or other numerical problems.\n",
       "\"\"\""
      ]
     },
     "execution_count": 89,
     "metadata": {},
     "output_type": "execute_result"
    }
   ],
   "source": [
    "# budget vs. domestic gross\n",
    "lin_reg(y2, bx)"
   ]
  },
  {
   "cell_type": "markdown",
   "metadata": {},
   "source": [
    "Although our three dependent variables of choice are popularity, domestic gross, and domestic ROI, we do not run a regression of production budget on ROI. This is because the formula for ROI contains production budget in both the numerator and denominator. As a result, a regression between the two would result in an artificially high/strong linear relationship. "
   ]
  },
  {
   "cell_type": "markdown",
   "metadata": {},
   "source": [
    "Conclusion:"
   ]
  },
  {
   "cell_type": "markdown",
   "metadata": {},
   "source": [
    "### Runtime Regressions and Visuals"
   ]
  },
  {
   "cell_type": "code",
   "execution_count": 91,
   "metadata": {},
   "outputs": [
    {
     "data": {
      "text/html": [
       "<table class=\"simpletable\">\n",
       "<caption>OLS Regression Results</caption>\n",
       "<tr>\n",
       "  <th>Dep. Variable:</th>       <td>popularity</td>    <th>  R-squared:         </th> <td>   0.088</td> \n",
       "</tr>\n",
       "<tr>\n",
       "  <th>Model:</th>                   <td>OLS</td>       <th>  Adj. R-squared:    </th> <td>   0.088</td> \n",
       "</tr>\n",
       "<tr>\n",
       "  <th>Method:</th>             <td>Least Squares</td>  <th>  F-statistic:       </th> <td>   309.2</td> \n",
       "</tr>\n",
       "<tr>\n",
       "  <th>Date:</th>             <td>Thu, 07 Dec 2023</td> <th>  Prob (F-statistic):</th> <td>3.74e-66</td> \n",
       "</tr>\n",
       "<tr>\n",
       "  <th>Time:</th>                 <td>10:06:48</td>     <th>  Log-Likelihood:    </th> <td> -11194.</td> \n",
       "</tr>\n",
       "<tr>\n",
       "  <th>No. Observations:</th>      <td>  3213</td>      <th>  AIC:               </th> <td>2.239e+04</td>\n",
       "</tr>\n",
       "<tr>\n",
       "  <th>Df Residuals:</th>          <td>  3211</td>      <th>  BIC:               </th> <td>2.240e+04</td>\n",
       "</tr>\n",
       "<tr>\n",
       "  <th>Df Model:</th>              <td>     1</td>      <th>                     </th>     <td> </td>    \n",
       "</tr>\n",
       "<tr>\n",
       "  <th>Covariance Type:</th>      <td>nonrobust</td>    <th>                     </th>     <td> </td>    \n",
       "</tr>\n",
       "</table>\n",
       "<table class=\"simpletable\">\n",
       "<tr>\n",
       "         <td></td>            <th>coef</th>     <th>std err</th>      <th>t</th>      <th>P>|t|</th>  <th>[0.025</th>    <th>0.975]</th>  \n",
       "</tr>\n",
       "<tr>\n",
       "  <th>const</th>           <td>    1.5653</td> <td>    0.458</td> <td>    3.416</td> <td> 0.001</td> <td>    0.667</td> <td>    2.464</td>\n",
       "</tr>\n",
       "<tr>\n",
       "  <th>runtime_minutes</th> <td>    0.0797</td> <td>    0.005</td> <td>   17.584</td> <td> 0.000</td> <td>    0.071</td> <td>    0.089</td>\n",
       "</tr>\n",
       "</table>\n",
       "<table class=\"simpletable\">\n",
       "<tr>\n",
       "  <th>Omnibus:</th>       <td>1077.315</td> <th>  Durbin-Watson:     </th> <td>   1.276</td>\n",
       "</tr>\n",
       "<tr>\n",
       "  <th>Prob(Omnibus):</th>  <td> 0.000</td>  <th>  Jarque-Bera (JB):  </th> <td>5672.743</td>\n",
       "</tr>\n",
       "<tr>\n",
       "  <th>Skew:</th>           <td> 1.507</td>  <th>  Prob(JB):          </th> <td>    0.00</td>\n",
       "</tr>\n",
       "<tr>\n",
       "  <th>Kurtosis:</th>       <td> 8.770</td>  <th>  Cond. No.          </th> <td>    333.</td>\n",
       "</tr>\n",
       "</table><br/><br/>Notes:<br/>[1] Standard Errors assume that the covariance matrix of the errors is correctly specified."
      ],
      "text/plain": [
       "<class 'statsmodels.iolib.summary.Summary'>\n",
       "\"\"\"\n",
       "                            OLS Regression Results                            \n",
       "==============================================================================\n",
       "Dep. Variable:             popularity   R-squared:                       0.088\n",
       "Model:                            OLS   Adj. R-squared:                  0.088\n",
       "Method:                 Least Squares   F-statistic:                     309.2\n",
       "Date:                Thu, 07 Dec 2023   Prob (F-statistic):           3.74e-66\n",
       "Time:                        10:06:48   Log-Likelihood:                -11194.\n",
       "No. Observations:                3213   AIC:                         2.239e+04\n",
       "Df Residuals:                    3211   BIC:                         2.240e+04\n",
       "Df Model:                           1                                         \n",
       "Covariance Type:            nonrobust                                         \n",
       "===================================================================================\n",
       "                      coef    std err          t      P>|t|      [0.025      0.975]\n",
       "-----------------------------------------------------------------------------------\n",
       "const               1.5653      0.458      3.416      0.001       0.667       2.464\n",
       "runtime_minutes     0.0797      0.005     17.584      0.000       0.071       0.089\n",
       "==============================================================================\n",
       "Omnibus:                     1077.315   Durbin-Watson:                   1.276\n",
       "Prob(Omnibus):                  0.000   Jarque-Bera (JB):             5672.743\n",
       "Skew:                           1.507   Prob(JB):                         0.00\n",
       "Kurtosis:                       8.770   Cond. No.                         333.\n",
       "==============================================================================\n",
       "\n",
       "Notes:\n",
       "[1] Standard Errors assume that the covariance matrix of the errors is correctly specified.\n",
       "\"\"\""
      ]
     },
     "execution_count": 91,
     "metadata": {},
     "output_type": "execute_result"
    }
   ],
   "source": [
    "# runtime vs. popularity regression\n",
    "lin_reg(y1, rx)"
   ]
  },
  {
   "cell_type": "code",
   "execution_count": 92,
   "metadata": {},
   "outputs": [
    {
     "data": {
      "image/png": "[encoded data removed]",
      "text/plain": [
       "<Figure size 432x288 with 1 Axes>"
      ]
     },
     "metadata": {},
     "output_type": "display_data"
    }
   ],
   "source": [
    "# runtime vs. popularity scatter\n",
    "best_line(rx['runtime_minutes'], y1)"
   ]
  },
  {
   "cell_type": "code",
   "execution_count": 93,
   "metadata": {},
   "outputs": [
    {
     "data": {
      "text/html": [
       "<table class=\"simpletable\">\n",
       "<caption>OLS Regression Results</caption>\n",
       "<tr>\n",
       "  <th>Dep. Variable:</th>     <td>domestic_gross</td>  <th>  R-squared:         </th> <td>   0.004</td> \n",
       "</tr>\n",
       "<tr>\n",
       "  <th>Model:</th>                   <td>OLS</td>       <th>  Adj. R-squared:    </th> <td>   0.003</td> \n",
       "</tr>\n",
       "<tr>\n",
       "  <th>Method:</th>             <td>Least Squares</td>  <th>  F-statistic:       </th> <td>   11.99</td> \n",
       "</tr>\n",
       "<tr>\n",
       "  <th>Date:</th>             <td>Thu, 07 Dec 2023</td> <th>  Prob (F-statistic):</th> <td>0.000542</td> \n",
       "</tr>\n",
       "<tr>\n",
       "  <th>Time:</th>                 <td>10:06:48</td>     <th>  Log-Likelihood:    </th> <td> -63154.</td> \n",
       "</tr>\n",
       "<tr>\n",
       "  <th>No. Observations:</th>      <td>  3213</td>      <th>  AIC:               </th> <td>1.263e+05</td>\n",
       "</tr>\n",
       "<tr>\n",
       "  <th>Df Residuals:</th>          <td>  3211</td>      <th>  BIC:               </th> <td>1.263e+05</td>\n",
       "</tr>\n",
       "<tr>\n",
       "  <th>Df Model:</th>              <td>     1</td>      <th>                     </th>     <td> </td>    \n",
       "</tr>\n",
       "<tr>\n",
       "  <th>Covariance Type:</th>      <td>nonrobust</td>    <th>                     </th>     <td> </td>    \n",
       "</tr>\n",
       "</table>\n",
       "<table class=\"simpletable\">\n",
       "<tr>\n",
       "         <td></td>            <th>coef</th>     <th>std err</th>      <th>t</th>      <th>P>|t|</th>  <th>[0.025</th>    <th>0.975]</th>  \n",
       "</tr>\n",
       "<tr>\n",
       "  <th>const</th>           <td> 3.734e+07</td> <td> 4.83e+06</td> <td>    7.726</td> <td> 0.000</td> <td> 2.79e+07</td> <td> 4.68e+07</td>\n",
       "</tr>\n",
       "<tr>\n",
       "  <th>runtime_minutes</th> <td> 1.656e+05</td> <td> 4.78e+04</td> <td>    3.463</td> <td> 0.001</td> <td> 7.18e+04</td> <td> 2.59e+05</td>\n",
       "</tr>\n",
       "</table>\n",
       "<table class=\"simpletable\">\n",
       "<tr>\n",
       "  <th>Omnibus:</th>       <td>2090.613</td> <th>  Durbin-Watson:     </th> <td>   0.271</td> \n",
       "</tr>\n",
       "<tr>\n",
       "  <th>Prob(Omnibus):</th>  <td> 0.000</td>  <th>  Jarque-Bera (JB):  </th> <td>24989.075</td>\n",
       "</tr>\n",
       "<tr>\n",
       "  <th>Skew:</th>           <td> 2.991</td>  <th>  Prob(JB):          </th> <td>    0.00</td> \n",
       "</tr>\n",
       "<tr>\n",
       "  <th>Kurtosis:</th>       <td>15.283</td>  <th>  Cond. No.          </th> <td>    333.</td> \n",
       "</tr>\n",
       "</table><br/><br/>Notes:<br/>[1] Standard Errors assume that the covariance matrix of the errors is correctly specified."
      ],
      "text/plain": [
       "<class 'statsmodels.iolib.summary.Summary'>\n",
       "\"\"\"\n",
       "                            OLS Regression Results                            \n",
       "==============================================================================\n",
       "Dep. Variable:         domestic_gross   R-squared:                       0.004\n",
       "Model:                            OLS   Adj. R-squared:                  0.003\n",
       "Method:                 Least Squares   F-statistic:                     11.99\n",
       "Date:                Thu, 07 Dec 2023   Prob (F-statistic):           0.000542\n",
       "Time:                        10:06:48   Log-Likelihood:                -63154.\n",
       "No. Observations:                3213   AIC:                         1.263e+05\n",
       "Df Residuals:                    3211   BIC:                         1.263e+05\n",
       "Df Model:                           1                                         \n",
       "Covariance Type:            nonrobust                                         \n",
       "===================================================================================\n",
       "                      coef    std err          t      P>|t|      [0.025      0.975]\n",
       "-----------------------------------------------------------------------------------\n",
       "const            3.734e+07   4.83e+06      7.726      0.000    2.79e+07    4.68e+07\n",
       "runtime_minutes  1.656e+05   4.78e+04      3.463      0.001    7.18e+04    2.59e+05\n",
       "==============================================================================\n",
       "Omnibus:                     2090.613   Durbin-Watson:                   0.271\n",
       "Prob(Omnibus):                  0.000   Jarque-Bera (JB):            24989.075\n",
       "Skew:                           2.991   Prob(JB):                         0.00\n",
       "Kurtosis:                      15.283   Cond. No.                         333.\n",
       "==============================================================================\n",
       "\n",
       "Notes:\n",
       "[1] Standard Errors assume that the covariance matrix of the errors is correctly specified.\n",
       "\"\"\""
      ]
     },
     "execution_count": 93,
     "metadata": {},
     "output_type": "execute_result"
    }
   ],
   "source": [
    "# runtime vs. domestic gross regression\n",
    "lin_reg(y2, rx)"
   ]
  },
  {
   "cell_type": "code",
   "execution_count": 94,
   "metadata": {},
   "outputs": [
    {
     "data": {
      "image/png": "[encoded data removed]",
      "text/plain": [
       "<Figure size 432x288 with 1 Axes>"
      ]
     },
     "metadata": {},
     "output_type": "display_data"
    }
   ],
   "source": [
    "# runtime vs. domestic gross scatter\n",
    "best_line(rx['runtime_minutes'], y2)"
   ]
  },
  {
   "cell_type": "code",
   "execution_count": 95,
   "metadata": {},
   "outputs": [
    {
     "data": {
      "text/html": [
       "<table class=\"simpletable\">\n",
       "<caption>OLS Regression Results</caption>\n",
       "<tr>\n",
       "  <th>Dep. Variable:</th>      <td>domestic_ROI</td>   <th>  R-squared:         </th> <td>   0.000</td> \n",
       "</tr>\n",
       "<tr>\n",
       "  <th>Model:</th>                   <td>OLS</td>       <th>  Adj. R-squared:    </th> <td>  -0.000</td> \n",
       "</tr>\n",
       "<tr>\n",
       "  <th>Method:</th>             <td>Least Squares</td>  <th>  F-statistic:       </th> <td>  0.2891</td> \n",
       "</tr>\n",
       "<tr>\n",
       "  <th>Date:</th>             <td>Thu, 07 Dec 2023</td> <th>  Prob (F-statistic):</th>  <td> 0.591</td>  \n",
       "</tr>\n",
       "<tr>\n",
       "  <th>Time:</th>                 <td>10:06:48</td>     <th>  Log-Likelihood:    </th> <td> -24768.</td> \n",
       "</tr>\n",
       "<tr>\n",
       "  <th>No. Observations:</th>      <td>  3213</td>      <th>  AIC:               </th> <td>4.954e+04</td>\n",
       "</tr>\n",
       "<tr>\n",
       "  <th>Df Residuals:</th>          <td>  3211</td>      <th>  BIC:               </th> <td>4.955e+04</td>\n",
       "</tr>\n",
       "<tr>\n",
       "  <th>Df Model:</th>              <td>     1</td>      <th>                     </th>     <td> </td>    \n",
       "</tr>\n",
       "<tr>\n",
       "  <th>Covariance Type:</th>      <td>nonrobust</td>    <th>                     </th>     <td> </td>    \n",
       "</tr>\n",
       "</table>\n",
       "<table class=\"simpletable\">\n",
       "<tr>\n",
       "         <td></td>            <th>coef</th>     <th>std err</th>      <th>t</th>      <th>P>|t|</th>  <th>[0.025</th>    <th>0.975]</th>  \n",
       "</tr>\n",
       "<tr>\n",
       "  <th>const</th>           <td>   78.4890</td> <td>   31.317</td> <td>    2.506</td> <td> 0.012</td> <td>   17.085</td> <td>  139.893</td>\n",
       "</tr>\n",
       "<tr>\n",
       "  <th>runtime_minutes</th> <td>    0.1666</td> <td>    0.310</td> <td>    0.538</td> <td> 0.591</td> <td>   -0.441</td> <td>    0.774</td>\n",
       "</tr>\n",
       "</table>\n",
       "<table class=\"simpletable\">\n",
       "<tr>\n",
       "  <th>Omnibus:</th>       <td>7773.061</td> <th>  Durbin-Watson:     </th>   <td>   1.125</td>   \n",
       "</tr>\n",
       "<tr>\n",
       "  <th>Prob(Omnibus):</th>  <td> 0.000</td>  <th>  Jarque-Bera (JB):  </th> <td>124307720.724</td>\n",
       "</tr>\n",
       "<tr>\n",
       "  <th>Skew:</th>           <td>24.454</td>  <th>  Prob(JB):          </th>   <td>    0.00</td>   \n",
       "</tr>\n",
       "<tr>\n",
       "  <th>Kurtosis:</th>       <td>965.364</td> <th>  Cond. No.          </th>   <td>    333.</td>   \n",
       "</tr>\n",
       "</table><br/><br/>Notes:<br/>[1] Standard Errors assume that the covariance matrix of the errors is correctly specified."
      ],
      "text/plain": [
       "<class 'statsmodels.iolib.summary.Summary'>\n",
       "\"\"\"\n",
       "                            OLS Regression Results                            \n",
       "==============================================================================\n",
       "Dep. Variable:           domestic_ROI   R-squared:                       0.000\n",
       "Model:                            OLS   Adj. R-squared:                 -0.000\n",
       "Method:                 Least Squares   F-statistic:                    0.2891\n",
       "Date:                Thu, 07 Dec 2023   Prob (F-statistic):              0.591\n",
       "Time:                        10:06:48   Log-Likelihood:                -24768.\n",
       "No. Observations:                3213   AIC:                         4.954e+04\n",
       "Df Residuals:                    3211   BIC:                         4.955e+04\n",
       "Df Model:                           1                                         \n",
       "Covariance Type:            nonrobust                                         \n",
       "===================================================================================\n",
       "                      coef    std err          t      P>|t|      [0.025      0.975]\n",
       "-----------------------------------------------------------------------------------\n",
       "const              78.4890     31.317      2.506      0.012      17.085     139.893\n",
       "runtime_minutes     0.1666      0.310      0.538      0.591      -0.441       0.774\n",
       "==============================================================================\n",
       "Omnibus:                     7773.061   Durbin-Watson:                   1.125\n",
       "Prob(Omnibus):                  0.000   Jarque-Bera (JB):        124307720.724\n",
       "Skew:                          24.454   Prob(JB):                         0.00\n",
       "Kurtosis:                     965.364   Cond. No.                         333.\n",
       "==============================================================================\n",
       "\n",
       "Notes:\n",
       "[1] Standard Errors assume that the covariance matrix of the errors is correctly specified.\n",
       "\"\"\""
      ]
     },
     "execution_count": 95,
     "metadata": {},
     "output_type": "execute_result"
    }
   ],
   "source": [
    "# runtime vs. domestic ROI regression\n",
    "lin_reg(y3, rx)"
   ]
  },
  {
   "cell_type": "code",
   "execution_count": 96,
   "metadata": {},
   "outputs": [
    {
     "data": {
      "image/png": "[encoded data removed]",
      "text/plain": [
       "<Figure size 432x288 with 1 Axes>"
      ]
     },
     "metadata": {},
     "output_type": "display_data"
    }
   ],
   "source": [
    "# runtime vs. domestic ROI scatter\n",
    "best_line(rx['runtime_minutes'], y3)"
   ]
  },
  {
   "cell_type": "markdown",
   "metadata": {},
   "source": [
    "Conclusion:"
   ]
  },
  {
   "cell_type": "code",
   "execution_count": null,
   "metadata": {},
   "outputs": [],
   "source": []
  },
  {
   "cell_type": "code",
   "execution_count": null,
   "metadata": {},
   "outputs": [],
   "source": []
  },
  {
   "cell_type": "code",
   "execution_count": null,
   "metadata": {},
   "outputs": [],
   "source": []
  },
  {
   "cell_type": "code",
   "execution_count": null,
   "metadata": {},
   "outputs": [],
   "source": []
  },
  {
   "cell_type": "markdown",
   "metadata": {},
   "source": [
    "# Conclusion"
   ]
  },
  {
   "cell_type": "markdown",
   "metadata": {},
   "source": [
    "## Summation of Recommendations "
   ]
  },
  {
   "cell_type": "markdown",
   "metadata": {},
   "source": [
    "Release Month Recommendation:\n",
    "    \n",
    "3-D vs. 2-D Movies\n",
    "\n",
    "Experienced Directors and Writers:\n",
    "\n",
    "Runtime Recommendation:\n",
    "\n",
    "Budget Recommendation:"
   ]
  },
  {
   "cell_type": "markdown",
   "metadata": {},
   "source": [
    "## Limitations"
   ]
  },
  {
   "cell_type": "markdown",
   "metadata": {},
   "source": [
    "## Next Steps"
   ]
  },
  {
   "cell_type": "code",
   "execution_count": null,
   "metadata": {},
   "outputs": [],
   "source": []
  }
 ],
 "metadata": {
  "kernelspec": {
   "display_name": "Python 3",
   "language": "python",
   "name": "python3"
  },
  "language_info": {
   "codemirror_mode": {
    "name": "ipython",
    "version": 3
   },
   "file_extension": ".py",
   "mimetype": "text/x-python",
   "name": "python",
   "nbconvert_exporter": "python",
   "pygments_lexer": "ipython3",
   "version": "3.8.5"
  }
 },
 "nbformat": 4,
 "nbformat_minor": 2
}
