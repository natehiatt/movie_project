{
 "cells": [
  {
   "cell_type": "code",
   "execution_count": 18,
   "metadata": {},
   "outputs": [],
   "source": [
    "import pandas as pd\n",
    "import numpy as np\n",
    "import matplotlib.pyplot as plt\n",
    "import seaborn as sns\n",
    "import scipy.stats as stats\n",
    "import sqlite3"
   ]
  },
  {
   "cell_type": "code",
   "execution_count": 19,
   "metadata": {},
   "outputs": [
    {
     "name": "stdout",
     "output_type": "stream",
     "text": [
      "<class 'pandas.core.frame.DataFrame'>\n",
      "RangeIndex: 3387 entries, 0 to 3386\n",
      "Data columns (total 5 columns):\n",
      " #   Column          Non-Null Count  Dtype  \n",
      "---  ------          --------------  -----  \n",
      " 0   title           3387 non-null   object \n",
      " 1   studio          3382 non-null   object \n",
      " 2   domestic_gross  3359 non-null   float64\n",
      " 3   foreign_gross   2037 non-null   object \n",
      " 4   year            3387 non-null   int64  \n",
      "dtypes: float64(1), int64(1), object(3)\n",
      "memory usage: 132.4+ KB\n"
     ]
    }
   ],
   "source": [
    "bom = pd.read_csv('../data/bom.movie_gross.csv.gz')\n",
    "bom.info()"
   ]
  },
  {
   "cell_type": "code",
   "execution_count": 35,
   "metadata": {},
   "outputs": [
    {
     "data": {
      "text/plain": [
       "year\n",
       "2010    328\n",
       "2011    399\n",
       "2012    400\n",
       "2013    350\n",
       "2014    395\n",
       "2015    450\n",
       "2016    436\n",
       "2017    321\n",
       "2018    308\n",
       "Name: count, dtype: int64"
      ]
     },
     "execution_count": 35,
     "metadata": {},
     "output_type": "execute_result"
    }
   ],
   "source": [
    "bom['year'].value_counts().sort_index()"
   ]
  },
  {
   "cell_type": "markdown",
   "metadata": {},
   "source": [
    "# Rotten Tomatoes Data"
   ]
  },
  {
   "cell_type": "code",
   "execution_count": 20,
   "metadata": {},
   "outputs": [
    {
     "name": "stdout",
     "output_type": "stream",
     "text": [
      "<class 'pandas.core.frame.DataFrame'>\n",
      "RangeIndex: 1560 entries, 0 to 1559\n",
      "Data columns (total 13 columns):\n",
      " #   Column         Non-Null Count  Dtype         \n",
      "---  ------         --------------  -----         \n",
      " 0   id             1560 non-null   int64         \n",
      " 1   synopsis       1498 non-null   object        \n",
      " 2   rating         1557 non-null   object        \n",
      " 3   genre          1552 non-null   object        \n",
      " 4   director       1361 non-null   object        \n",
      " 5   writer         1111 non-null   object        \n",
      " 6   theater_date   1201 non-null   datetime64[ns]\n",
      " 7   dvd_date       1201 non-null   datetime64[ns]\n",
      " 8   currency       340 non-null    object        \n",
      " 9   box_office     340 non-null    object        \n",
      " 10  runtime        1530 non-null   object        \n",
      " 11  studio         494 non-null    object        \n",
      " 12  release_month  1201 non-null   object        \n",
      "dtypes: datetime64[ns](2), int64(1), object(10)\n",
      "memory usage: 158.6+ KB\n"
     ]
    }
   ],
   "source": [
    "rt_info = pd.read_csv('../data/rt.movie_info.tsv.gz', sep='\\t')\n",
    "\n",
    "# Converting the release dates to datetime objects\n",
    "rt_info['theater_date'] = pd.to_datetime(rt_info['theater_date'])\n",
    "rt_info['dvd_date'] = pd.to_datetime(rt_info['dvd_date'])\n",
    "\n",
    "# creating a release_month column\n",
    "rt_info['release_month'] = pd.to_datetime(rt_info['theater_date']).dt.month_name()\n",
    "\n",
    "rt_info.info()"
   ]
  },
  {
   "cell_type": "code",
   "execution_count": 21,
   "metadata": {},
   "outputs": [
    {
     "name": "stdout",
     "output_type": "stream",
     "text": [
      "<class 'pandas.core.frame.DataFrame'>\n",
      "RangeIndex: 54432 entries, 0 to 54431\n",
      "Data columns (total 8 columns):\n",
      " #   Column      Non-Null Count  Dtype \n",
      "---  ------      --------------  ----- \n",
      " 0   id          54432 non-null  int64 \n",
      " 1   review      48869 non-null  object\n",
      " 2   rating      40915 non-null  object\n",
      " 3   fresh       54432 non-null  object\n",
      " 4   critic      51710 non-null  object\n",
      " 5   top_critic  54432 non-null  int64 \n",
      " 6   publisher   54123 non-null  object\n",
      " 7   date        54432 non-null  object\n",
      "dtypes: int64(2), object(6)\n",
      "memory usage: 3.3+ MB\n"
     ]
    }
   ],
   "source": [
    "rt_reviews = pd.read_csv('../data/rt.reviews.tsv.gz', sep='\\t', encoding='latin-1')\n",
    "rt_reviews.info()"
   ]
  },
  {
   "cell_type": "code",
   "execution_count": 22,
   "metadata": {},
   "outputs": [
    {
     "name": "stdout",
     "output_type": "stream",
     "text": [
      "<class 'pandas.core.frame.DataFrame'>\n",
      "RangeIndex: 54432 entries, 0 to 54431\n",
      "Data columns (total 20 columns):\n",
      " #   Column         Non-Null Count  Dtype         \n",
      "---  ------         --------------  -----         \n",
      " 0   id             54432 non-null  int64         \n",
      " 1   synopsis       54300 non-null  object        \n",
      " 2   rating_x       54346 non-null  object        \n",
      " 3   genre          54345 non-null  object        \n",
      " 4   director       48992 non-null  object        \n",
      " 5   writer         45206 non-null  object        \n",
      " 6   theater_date   53206 non-null  datetime64[ns]\n",
      " 7   dvd_date       53206 non-null  datetime64[ns]\n",
      " 8   currency       33310 non-null  object        \n",
      " 9   box_office     33310 non-null  object        \n",
      " 10  runtime        53594 non-null  object        \n",
      " 11  studio         40125 non-null  object        \n",
      " 12  release_month  53206 non-null  object        \n",
      " 13  review         48869 non-null  object        \n",
      " 14  rating_y       40915 non-null  object        \n",
      " 15  fresh          54432 non-null  object        \n",
      " 16  critic         51710 non-null  object        \n",
      " 17  top_critic     54432 non-null  int64         \n",
      " 18  publisher      54123 non-null  object        \n",
      " 19  date           54432 non-null  object        \n",
      "dtypes: datetime64[ns](2), int64(2), object(16)\n",
      "memory usage: 8.3+ MB\n"
     ]
    }
   ],
   "source": [
    "# Combing the rt sheets into one df\n",
    "\n",
    "rt_combined = pd.merge(rt_info, rt_reviews, on='id')\n",
    "rt_combined.info()"
   ]
  },
  {
   "cell_type": "markdown",
   "metadata": {},
   "source": [
    "# TMDB Data"
   ]
  },
  {
   "cell_type": "code",
   "execution_count": 23,
   "metadata": {},
   "outputs": [
    {
     "name": "stdout",
     "output_type": "stream",
     "text": [
      "<class 'pandas.core.frame.DataFrame'>\n",
      "RangeIndex: 26517 entries, 0 to 26516\n",
      "Data columns (total 10 columns):\n",
      " #   Column             Non-Null Count  Dtype  \n",
      "---  ------             --------------  -----  \n",
      " 0   Unnamed: 0         26517 non-null  int64  \n",
      " 1   genre_ids          26517 non-null  object \n",
      " 2   id                 26517 non-null  int64  \n",
      " 3   original_language  26517 non-null  object \n",
      " 4   original_title     26517 non-null  object \n",
      " 5   popularity         26517 non-null  float64\n",
      " 6   release_date       26517 non-null  object \n",
      " 7   primary_title      26517 non-null  object \n",
      " 8   vote_average       26517 non-null  float64\n",
      " 9   vote_count         26517 non-null  int64  \n",
      "dtypes: float64(2), int64(3), object(5)\n",
      "memory usage: 2.0+ MB\n"
     ]
    }
   ],
   "source": [
    "tmdb_movies = pd.read_csv('../data/tmdb.movies.csv.gz')\n",
    "tmdb_movies.rename(columns={'title': 'primary_title'}, inplace=True)\n",
    "tmdb_movies.info()"
   ]
  },
  {
   "cell_type": "markdown",
   "metadata": {},
   "source": [
    "# The Numbers Data"
   ]
  },
  {
   "cell_type": "code",
   "execution_count": 24,
   "metadata": {},
   "outputs": [
    {
     "name": "stdout",
     "output_type": "stream",
     "text": [
      "<class 'pandas.core.frame.DataFrame'>\n",
      "RangeIndex: 5782 entries, 0 to 5781\n",
      "Data columns (total 6 columns):\n",
      " #   Column             Non-Null Count  Dtype \n",
      "---  ------             --------------  ----- \n",
      " 0   id                 5782 non-null   int64 \n",
      " 1   release_date       5782 non-null   object\n",
      " 2   movie              5782 non-null   object\n",
      " 3   production_budget  5782 non-null   object\n",
      " 4   domestic_gross     5782 non-null   object\n",
      " 5   worldwide_gross    5782 non-null   object\n",
      "dtypes: int64(1), object(5)\n",
      "memory usage: 271.2+ KB\n"
     ]
    }
   ],
   "source": [
    "tn_movie_budgets = pd.read_csv('../data/tn.movie_budgets.csv.gz')\n",
    "tn_movie_budgets.info()"
   ]
  },
  {
   "cell_type": "code",
   "execution_count": 38,
   "metadata": {},
   "outputs": [
    {
     "name": "stdout",
     "output_type": "stream",
     "text": [
      "<class 'pandas.core.frame.DataFrame'>\n",
      "RangeIndex: 5782 entries, 0 to 5781\n",
      "Data columns (total 8 columns):\n",
      " #   Column             Non-Null Count  Dtype         \n",
      "---  ------             --------------  -----         \n",
      " 0   id                 5782 non-null   int64         \n",
      " 1   release_date       5782 non-null   datetime64[ns]\n",
      " 2   movie              5782 non-null   object        \n",
      " 3   production_budget  5782 non-null   object        \n",
      " 4   domestic_gross     5782 non-null   object        \n",
      " 5   worldwide_gross    5782 non-null   object        \n",
      " 6   release_month      5782 non-null   object        \n",
      " 7   release_year       5782 non-null   int32         \n",
      "dtypes: datetime64[ns](1), int32(1), int64(1), object(5)\n",
      "memory usage: 338.9+ KB\n"
     ]
    }
   ],
   "source": [
    "tn_movie_budgets['release_date'] = pd.to_datetime(tn_movie_budgets['release_date'])\n",
    "tn_movie_budgets['release_month'] = pd.to_datetime(tn_movie_budgets['release_date']).dt.month_name()\n",
    "tn_movie_budgets['release_year'] = pd.to_datetime(tn_movie_budgets['release_date']).dt.year\n",
    "tn_movie_budgets.info()"
   ]
  },
  {
   "cell_type": "code",
   "execution_count": 60,
   "metadata": {},
   "outputs": [
    {
     "data": {
      "text/plain": [
       "([0, 1, 2, 3, 4, 5, 6, 7, 8, 9, 10, 11],\n",
       " [Text(0, 0, 'December'),\n",
       "  Text(1, 0, 'May'),\n",
       "  Text(2, 0, 'June'),\n",
       "  Text(3, 0, 'April'),\n",
       "  Text(4, 0, 'November'),\n",
       "  Text(5, 0, 'July'),\n",
       "  Text(6, 0, 'March'),\n",
       "  Text(7, 0, 'February'),\n",
       "  Text(8, 0, 'October'),\n",
       "  Text(9, 0, 'August'),\n",
       "  Text(10, 0, 'September'),\n",
       "  Text(11, 0, 'January')])"
      ]
     },
     "execution_count": 60,
     "metadata": {},
     "output_type": "execute_result"
    },
    {
     "data": {
      "image/png": "[encoded data removed]",
      "text/plain": [
       "<Figure size 640x480 with 1 Axes>"
      ]
     },
     "metadata": {},
     "output_type": "display_data"
    }
   ],
   "source": [
    "#tn_movie_budgets['domestic_gross'] = tn_movie_budgets['domestic_gross'].str.replace('$', '')\n",
    "#tn_movie_budgets['domestic_gross'] = tn_movie_budgets['domestic_gross'].str.replace(',', '')\n",
    "tn_movie_budgets.groupby('release_month')['domestic_gross'].mean()\n",
    "sns.barplot(x='release_month', y='domestic_gross', data=tn_movie_budgets)\n",
    "plt.xticks(rotation=45)\n",
    "\n"
   ]
  },
  {
   "cell_type": "code",
   "execution_count": 54,
   "metadata": {},
   "outputs": [
    {
     "data": {
      "text/plain": [
       "<pandas.core.groupby.generic.SeriesGroupBy object at 0x29123fd60>"
      ]
     },
     "execution_count": 54,
     "metadata": {},
     "output_type": "execute_result"
    }
   ],
   "source": [
    "tn_movie_budgets.groupby('release_month')['domestic_gross']"
   ]
  },
  {
   "cell_type": "code",
   "execution_count": null,
   "metadata": {},
   "outputs": [],
   "source": []
  },
  {
   "cell_type": "markdown",
   "metadata": {},
   "source": [
    "# IMDB Data"
   ]
  },
  {
   "cell_type": "code",
   "execution_count": 25,
   "metadata": {},
   "outputs": [
    {
     "data": {
      "text/html": [
       "<div>\n",
       "<style scoped>\n",
       "    .dataframe tbody tr th:only-of-type {\n",
       "        vertical-align: middle;\n",
       "    }\n",
       "\n",
       "    .dataframe tbody tr th {\n",
       "        vertical-align: top;\n",
       "    }\n",
       "\n",
       "    .dataframe thead th {\n",
       "        text-align: right;\n",
       "    }\n",
       "</style>\n",
       "<table border=\"1\" class=\"dataframe\">\n",
       "  <thead>\n",
       "    <tr style=\"text-align: right;\">\n",
       "      <th></th>\n",
       "      <th>Table Names</th>\n",
       "    </tr>\n",
       "  </thead>\n",
       "  <tbody>\n",
       "    <tr>\n",
       "      <th>0</th>\n",
       "      <td>movie_basics</td>\n",
       "    </tr>\n",
       "    <tr>\n",
       "      <th>1</th>\n",
       "      <td>directors</td>\n",
       "    </tr>\n",
       "    <tr>\n",
       "      <th>2</th>\n",
       "      <td>known_for</td>\n",
       "    </tr>\n",
       "    <tr>\n",
       "      <th>3</th>\n",
       "      <td>movie_akas</td>\n",
       "    </tr>\n",
       "    <tr>\n",
       "      <th>4</th>\n",
       "      <td>movie_ratings</td>\n",
       "    </tr>\n",
       "    <tr>\n",
       "      <th>5</th>\n",
       "      <td>persons</td>\n",
       "    </tr>\n",
       "    <tr>\n",
       "      <th>6</th>\n",
       "      <td>principals</td>\n",
       "    </tr>\n",
       "    <tr>\n",
       "      <th>7</th>\n",
       "      <td>writers</td>\n",
       "    </tr>\n",
       "  </tbody>\n",
       "</table>\n",
       "</div>"
      ],
      "text/plain": [
       "     Table Names\n",
       "0   movie_basics\n",
       "1      directors\n",
       "2      known_for\n",
       "3     movie_akas\n",
       "4  movie_ratings\n",
       "5        persons\n",
       "6     principals\n",
       "7        writers"
      ]
     },
     "execution_count": 25,
     "metadata": {},
     "output_type": "execute_result"
    }
   ],
   "source": [
    "conn = sqlite3.connect('../data/im.db')\n",
    "pd.read_sql('SELECT name AS \"Table Names\" FROM sqlite_master WHERE type=\"table\"', conn)"
   ]
  },
  {
   "cell_type": "code",
   "execution_count": 26,
   "metadata": {},
   "outputs": [
    {
     "name": "stdout",
     "output_type": "stream",
     "text": [
      "<class 'pandas.core.frame.DataFrame'>\n",
      "RangeIndex: 146144 entries, 0 to 146143\n",
      "Data columns (total 6 columns):\n",
      " #   Column           Non-Null Count   Dtype  \n",
      "---  ------           --------------   -----  \n",
      " 0   movie_id         146144 non-null  object \n",
      " 1   primary_title    146144 non-null  object \n",
      " 2   original_title   146123 non-null  object \n",
      " 3   start_year       146144 non-null  int64  \n",
      " 4   runtime_minutes  114405 non-null  float64\n",
      " 5   genres           140736 non-null  object \n",
      "dtypes: float64(1), int64(1), object(4)\n",
      "memory usage: 6.7+ MB\n"
     ]
    }
   ],
   "source": [
    "# Making the IMDB movie_basics table into a pandas df\n",
    "imdb_movie_basics = pd.read_sql('SELECT * FROM movie_basics', conn)\n",
    "imdb_movie_basics.info()"
   ]
  },
  {
   "cell_type": "code",
   "execution_count": 27,
   "metadata": {},
   "outputs": [
    {
     "data": {
      "text/plain": [
       "movie_id   person_id\n",
       "tt2249786  nm3911770    52\n",
       "           nm1286055    52\n",
       "           nm2853432    52\n",
       "           nm2747918    52\n",
       "           nm2583932    52\n",
       "                        ..\n",
       "tt1997402  nm0950841     1\n",
       "tt1997405  nm1016009     1\n",
       "tt1997417  nm0133980     1\n",
       "tt1997429  nm4554137     1\n",
       "tt4105968  nm1297226     1\n",
       "Name: count, Length: 163535, dtype: int64"
      ]
     },
     "execution_count": 27,
     "metadata": {},
     "output_type": "execute_result"
    }
   ],
   "source": [
    "# Making the IMDB directors table into a pandas df\n",
    "imdb_directors = pd.read_sql('SELECT * FROM directors', conn)\n",
    "imdb_directors.value_counts()\n",
    "# May want to merge these with the movie and persons tables before converting"
   ]
  },
  {
   "cell_type": "code",
   "execution_count": 28,
   "metadata": {},
   "outputs": [
    {
     "name": "stdout",
     "output_type": "stream",
     "text": [
      "<class 'pandas.core.frame.DataFrame'>\n",
      "RangeIndex: 606648 entries, 0 to 606647\n",
      "Data columns (total 5 columns):\n",
      " #   Column              Non-Null Count   Dtype  \n",
      "---  ------              --------------   -----  \n",
      " 0   person_id           606648 non-null  object \n",
      " 1   primary_name        606648 non-null  object \n",
      " 2   birth_year          82736 non-null   float64\n",
      " 3   death_year          6783 non-null    float64\n",
      " 4   primary_profession  555308 non-null  object \n",
      "dtypes: float64(2), object(3)\n",
      "memory usage: 23.1+ MB\n"
     ]
    }
   ],
   "source": [
    "imdb_persons = pd.read_sql('SELECT * FROM persons', conn)\n",
    "imdb_persons.info()"
   ]
  },
  {
   "cell_type": "code",
   "execution_count": 29,
   "metadata": {},
   "outputs": [
    {
     "data": {
      "text/html": [
       "<div>\n",
       "<style scoped>\n",
       "    .dataframe tbody tr th:only-of-type {\n",
       "        vertical-align: middle;\n",
       "    }\n",
       "\n",
       "    .dataframe tbody tr th {\n",
       "        vertical-align: top;\n",
       "    }\n",
       "\n",
       "    .dataframe thead th {\n",
       "        text-align: right;\n",
       "    }\n",
       "</style>\n",
       "<table border=\"1\" class=\"dataframe\">\n",
       "  <thead>\n",
       "    <tr style=\"text-align: right;\">\n",
       "      <th></th>\n",
       "      <th>primary_name</th>\n",
       "      <th>num_movies</th>\n",
       "    </tr>\n",
       "  </thead>\n",
       "  <tbody>\n",
       "    <tr>\n",
       "      <th>0</th>\n",
       "      <td>Eric Roberts</td>\n",
       "      <td>143</td>\n",
       "    </tr>\n",
       "    <tr>\n",
       "      <th>1</th>\n",
       "      <td>Brahmanandam</td>\n",
       "      <td>69</td>\n",
       "    </tr>\n",
       "    <tr>\n",
       "      <th>2</th>\n",
       "      <td>Tom Sizemore</td>\n",
       "      <td>69</td>\n",
       "    </tr>\n",
       "    <tr>\n",
       "      <th>3</th>\n",
       "      <td>Seiji Nakamitsu</td>\n",
       "      <td>67</td>\n",
       "    </tr>\n",
       "    <tr>\n",
       "      <th>4</th>\n",
       "      <td>Michael Madsen</td>\n",
       "      <td>63</td>\n",
       "    </tr>\n",
       "    <tr>\n",
       "      <th>...</th>\n",
       "      <td>...</td>\n",
       "      <td>...</td>\n",
       "    </tr>\n",
       "    <tr>\n",
       "      <th>1856</th>\n",
       "      <td>Denzel Washington</td>\n",
       "      <td>11</td>\n",
       "    </tr>\n",
       "    <tr>\n",
       "      <th>1857</th>\n",
       "      <td>John Travolta</td>\n",
       "      <td>11</td>\n",
       "    </tr>\n",
       "    <tr>\n",
       "      <th>1858</th>\n",
       "      <td>Will Smith</td>\n",
       "      <td>11</td>\n",
       "    </tr>\n",
       "    <tr>\n",
       "      <th>1859</th>\n",
       "      <td>Parker Posey</td>\n",
       "      <td>11</td>\n",
       "    </tr>\n",
       "    <tr>\n",
       "      <th>1860</th>\n",
       "      <td>Anne Heche</td>\n",
       "      <td>11</td>\n",
       "    </tr>\n",
       "  </tbody>\n",
       "</table>\n",
       "<p>1861 rows × 2 columns</p>\n",
       "</div>"
      ],
      "text/plain": [
       "           primary_name  num_movies\n",
       "0          Eric Roberts         143\n",
       "1          Brahmanandam          69\n",
       "2          Tom Sizemore          69\n",
       "3       Seiji Nakamitsu          67\n",
       "4        Michael Madsen          63\n",
       "...                 ...         ...\n",
       "1856  Denzel Washington          11\n",
       "1857      John Travolta          11\n",
       "1858         Will Smith          11\n",
       "1859       Parker Posey          11\n",
       "1860         Anne Heche          11\n",
       "\n",
       "[1861 rows x 2 columns]"
      ]
     },
     "execution_count": 29,
     "metadata": {},
     "output_type": "execute_result"
    }
   ],
   "source": [
    "# Taking a look at actors and actresses\n",
    "\n",
    "pd.read_sql(\"\"\"\n",
    "SELECT primary_name, COUNT(primary_name) AS num_movies \n",
    "FROM principals \n",
    "JOIN persons\n",
    "USING(person_id)\n",
    "WHERE (category = 'actor' OR category = 'actress') AND characters IS NOT NULL \n",
    "GROUP BY person_id\n",
    "HAVING num_movies > 10\n",
    "ORDER BY num_movies DESC     \n",
    "            \"\"\", conn) "
   ]
  },
  {
   "cell_type": "markdown",
   "metadata": {},
   "source": [
    "# Combining different DataFrames"
   ]
  },
  {
   "cell_type": "code",
   "execution_count": 30,
   "metadata": {},
   "outputs": [
    {
     "name": "stdout",
     "output_type": "stream",
     "text": [
      "<class 'pandas.core.frame.DataFrame'>\n",
      "RangeIndex: 23612 entries, 0 to 23611\n",
      "Data columns (total 15 columns):\n",
      " #   Column             Non-Null Count  Dtype  \n",
      "---  ------             --------------  -----  \n",
      " 0   movie_id           23612 non-null  object \n",
      " 1   primary_title      23612 non-null  object \n",
      " 2   original_title_x   23607 non-null  object \n",
      " 3   start_year         23612 non-null  int64  \n",
      " 4   runtime_minutes    21750 non-null  float64\n",
      " 5   genres             23263 non-null  object \n",
      " 6   Unnamed: 0         23612 non-null  int64  \n",
      " 7   genre_ids          23612 non-null  object \n",
      " 8   id                 23612 non-null  int64  \n",
      " 9   original_language  23612 non-null  object \n",
      " 10  original_title_y   23612 non-null  object \n",
      " 11  popularity         23612 non-null  float64\n",
      " 12  release_date       23612 non-null  object \n",
      " 13  vote_average       23612 non-null  float64\n",
      " 14  vote_count         23612 non-null  int64  \n",
      "dtypes: float64(3), int64(4), object(8)\n",
      "memory usage: 2.7+ MB\n"
     ]
    }
   ],
   "source": [
    "# Combing the IMDB 'movie_basics' table with the TMDB 'tmdb_movies' table\n",
    "\n",
    "merged_movie_basics = pd.merge(imdb_movie_basics, tmdb_movies, on='primary_title')\n",
    "merged_movie_basics.info()"
   ]
  },
  {
   "cell_type": "code",
   "execution_count": 31,
   "metadata": {},
   "outputs": [
    {
     "name": "stdout",
     "output_type": "stream",
     "text": [
      "<class 'pandas.core.frame.DataFrame'>\n",
      "RangeIndex: 3772 entries, 0 to 3771\n",
      "Data columns (total 19 columns):\n",
      " #   Column             Non-Null Count  Dtype  \n",
      "---  ------             --------------  -----  \n",
      " 0   movie_id           3772 non-null   object \n",
      " 1   primary_title      3772 non-null   object \n",
      " 2   original_title_x   3772 non-null   object \n",
      " 3   start_year         3772 non-null   int64  \n",
      " 4   runtime_minutes    3545 non-null   float64\n",
      " 5   genres             3715 non-null   object \n",
      " 6   Unnamed: 0         3772 non-null   int64  \n",
      " 7   genre_ids          3772 non-null   object \n",
      " 8   id                 3772 non-null   int64  \n",
      " 9   original_language  3772 non-null   object \n",
      " 10  original_title_y   3772 non-null   object \n",
      " 11  popularity         3772 non-null   float64\n",
      " 12  release_date       3772 non-null   object \n",
      " 13  vote_average       3772 non-null   float64\n",
      " 14  vote_count         3772 non-null   int64  \n",
      " 15  studio             3772 non-null   object \n",
      " 16  domestic_gross     3738 non-null   float64\n",
      " 17  foreign_gross      2379 non-null   object \n",
      " 18  year               3772 non-null   int64  \n",
      "dtypes: float64(4), int64(5), object(10)\n",
      "memory usage: 560.0+ KB\n"
     ]
    }
   ],
   "source": [
    "# Trying to add the bom table to the merged_movie_basics table\n",
    "\n",
    "# Making the \"title\" column match \"primary title\"\n",
    "bom.rename(columns={'title': 'primary_title'}, inplace=True)\n",
    "\n",
    "merged_movie_basics = pd.merge(merged_movie_basics, bom, on='primary_title')\n",
    "merged_movie_basics.info()"
   ]
  },
  {
   "cell_type": "code",
   "execution_count": 34,
   "metadata": {},
   "outputs": [
    {
     "data": {
      "text/plain": [
       "<Axes: xlabel='year', ylabel='domestic_gross'>"
      ]
     },
     "execution_count": 34,
     "metadata": {},
     "output_type": "execute_result"
    },
    {
     "data": {
      "image/png": "[encoded data removed]",
      "text/plain": [
       "<Figure size 640x480 with 1 Axes>"
      ]
     },
     "metadata": {},
     "output_type": "display_data"
    }
   ],
   "source": [
    "sns.scatterplot(data=merged_movie_basics, x='year', y='domestic_gross')"
   ]
  }
 ],
 "metadata": {
  "kernelspec": {
   "display_name": "learn-env",
   "language": "python",
   "name": "python3"
  },
  "language_info": {
   "codemirror_mode": {
    "name": "ipython",
    "version": 3
   },
   "file_extension": ".py",
   "mimetype": "text/x-python",
   "name": "python",
   "nbconvert_exporter": "python",
   "pygments_lexer": "ipython3",
   "version": "3.9.18"
  }
 },
 "nbformat": 4,
 "nbformat_minor": 2
}
