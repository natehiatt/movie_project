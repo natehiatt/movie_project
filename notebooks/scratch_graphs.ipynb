{
 "cells": [
  {
   "cell_type": "code",
   "execution_count": 18,
   "metadata": {},
   "outputs": [],
   "source": [
    "import pandas as pd\n",
    "import numpy as np\n",
    "import matplotlib.pyplot as plt\n",
    "import seaborn as sns\n",
    "import scipy.stats as stats\n",
    "import sqlite3"
   ]
  },
  {
   "cell_type": "code",
   "execution_count": 19,
   "metadata": {},
   "outputs": [
    {
     "name": "stdout",
     "output_type": "stream",
     "text": [
      "<class 'pandas.core.frame.DataFrame'>\n",
      "RangeIndex: 3387 entries, 0 to 3386\n",
      "Data columns (total 5 columns):\n",
      " #   Column          Non-Null Count  Dtype  \n",
      "---  ------          --------------  -----  \n",
      " 0   title           3387 non-null   object \n",
      " 1   studio          3382 non-null   object \n",
      " 2   domestic_gross  3359 non-null   float64\n",
      " 3   foreign_gross   2037 non-null   object \n",
      " 4   year            3387 non-null   int64  \n",
      "dtypes: float64(1), int64(1), object(3)\n",
      "memory usage: 132.4+ KB\n"
     ]
    }
   ],
   "source": [
    "bom = pd.read_csv('../data/bom.movie_gross.csv.gz')\n",
    "bom.info()"
   ]
  },
  {
   "cell_type": "code",
   "execution_count": 35,
   "metadata": {},
   "outputs": [
    {
     "data": {
      "text/plain": [
       "year\n",
       "2010    328\n",
       "2011    399\n",
       "2012    400\n",
       "2013    350\n",
       "2014    395\n",
       "2015    450\n",
       "2016    436\n",
       "2017    321\n",
       "2018    308\n",
       "Name: count, dtype: int64"
      ]
     },
     "execution_count": 35,
     "metadata": {},
     "output_type": "execute_result"
    }
   ],
   "source": [
    "bom['year'].value_counts().sort_index()"
   ]
  },
  {
   "cell_type": "markdown",
   "metadata": {},
   "source": [
    "# Rotten Tomatoes Data"
   ]
  },
  {
   "cell_type": "code",
   "execution_count": 20,
   "metadata": {},
   "outputs": [
    {
     "name": "stdout",
     "output_type": "stream",
     "text": [
      "<class 'pandas.core.frame.DataFrame'>\n",
      "RangeIndex: 1560 entries, 0 to 1559\n",
      "Data columns (total 13 columns):\n",
      " #   Column         Non-Null Count  Dtype         \n",
      "---  ------         --------------  -----         \n",
      " 0   id             1560 non-null   int64         \n",
      " 1   synopsis       1498 non-null   object        \n",
      " 2   rating         1557 non-null   object        \n",
      " 3   genre          1552 non-null   object        \n",
      " 4   director       1361 non-null   object        \n",
      " 5   writer         1111 non-null   object        \n",
      " 6   theater_date   1201 non-null   datetime64[ns]\n",
      " 7   dvd_date       1201 non-null   datetime64[ns]\n",
      " 8   currency       340 non-null    object        \n",
      " 9   box_office     340 non-null    object        \n",
      " 10  runtime        1530 non-null   object        \n",
      " 11  studio         494 non-null    object        \n",
      " 12  release_month  1201 non-null   object        \n",
      "dtypes: datetime64[ns](2), int64(1), object(10)\n",
      "memory usage: 158.6+ KB\n"
     ]
    }
   ],
   "source": [
    "rt_info = pd.read_csv('../data/rt.movie_info.tsv.gz', sep='\\t')\n",
    "\n",
    "# Converting the release dates to datetime objects\n",
    "rt_info['theater_date'] = pd.to_datetime(rt_info['theater_date'])\n",
    "rt_info['dvd_date'] = pd.to_datetime(rt_info['dvd_date'])\n",
    "\n",
    "# creating a release_month column\n",
    "rt_info['release_month'] = pd.to_datetime(rt_info['theater_date']).dt.month_name()\n",
    "\n",
    "rt_info.info()"
   ]
  },
  {
   "cell_type": "code",
   "execution_count": 141,
   "metadata": {},
   "outputs": [
    {
     "data": {
      "text/html": [
       "<div>\n",
       "<style scoped>\n",
       "    .dataframe tbody tr th:only-of-type {\n",
       "        vertical-align: middle;\n",
       "    }\n",
       "\n",
       "    .dataframe tbody tr th {\n",
       "        vertical-align: top;\n",
       "    }\n",
       "\n",
       "    .dataframe thead th {\n",
       "        text-align: right;\n",
       "    }\n",
       "</style>\n",
       "<table border=\"1\" class=\"dataframe\">\n",
       "  <thead>\n",
       "    <tr style=\"text-align: right;\">\n",
       "      <th></th>\n",
       "      <th>id</th>\n",
       "      <th>synopsis</th>\n",
       "      <th>rating</th>\n",
       "      <th>genre</th>\n",
       "      <th>director</th>\n",
       "      <th>writer</th>\n",
       "      <th>theater_date</th>\n",
       "      <th>dvd_date</th>\n",
       "      <th>currency</th>\n",
       "      <th>box_office</th>\n",
       "      <th>runtime</th>\n",
       "      <th>studio</th>\n",
       "      <th>release_month</th>\n",
       "    </tr>\n",
       "  </thead>\n",
       "  <tbody>\n",
       "    <tr>\n",
       "      <th>0</th>\n",
       "      <td>1</td>\n",
       "      <td>This gritty, fast-paced, and innovative police...</td>\n",
       "      <td>R</td>\n",
       "      <td>Action and Adventure|Classics|Drama</td>\n",
       "      <td>William Friedkin</td>\n",
       "      <td>Ernest Tidyman</td>\n",
       "      <td>1971-10-09</td>\n",
       "      <td>2001-09-25</td>\n",
       "      <td>NaN</td>\n",
       "      <td>NaN</td>\n",
       "      <td>104 minutes</td>\n",
       "      <td>NaN</td>\n",
       "      <td>October</td>\n",
       "    </tr>\n",
       "    <tr>\n",
       "      <th>1</th>\n",
       "      <td>3</td>\n",
       "      <td>New York City, not-too-distant-future: Eric Pa...</td>\n",
       "      <td>R</td>\n",
       "      <td>Drama|Science Fiction and Fantasy</td>\n",
       "      <td>David Cronenberg</td>\n",
       "      <td>David Cronenberg|Don DeLillo</td>\n",
       "      <td>2012-08-17</td>\n",
       "      <td>2013-01-01</td>\n",
       "      <td>$</td>\n",
       "      <td>600,000</td>\n",
       "      <td>108 minutes</td>\n",
       "      <td>Entertainment One</td>\n",
       "      <td>August</td>\n",
       "    </tr>\n",
       "    <tr>\n",
       "      <th>2</th>\n",
       "      <td>5</td>\n",
       "      <td>Illeana Douglas delivers a superb performance ...</td>\n",
       "      <td>R</td>\n",
       "      <td>Drama|Musical and Performing Arts</td>\n",
       "      <td>Allison Anders</td>\n",
       "      <td>Allison Anders</td>\n",
       "      <td>1996-09-13</td>\n",
       "      <td>2000-04-18</td>\n",
       "      <td>NaN</td>\n",
       "      <td>NaN</td>\n",
       "      <td>116 minutes</td>\n",
       "      <td>NaN</td>\n",
       "      <td>September</td>\n",
       "    </tr>\n",
       "    <tr>\n",
       "      <th>3</th>\n",
       "      <td>6</td>\n",
       "      <td>Michael Douglas runs afoul of a treacherous su...</td>\n",
       "      <td>R</td>\n",
       "      <td>Drama|Mystery and Suspense</td>\n",
       "      <td>Barry Levinson</td>\n",
       "      <td>Paul Attanasio|Michael Crichton</td>\n",
       "      <td>1994-12-09</td>\n",
       "      <td>1997-08-27</td>\n",
       "      <td>NaN</td>\n",
       "      <td>NaN</td>\n",
       "      <td>128 minutes</td>\n",
       "      <td>NaN</td>\n",
       "      <td>December</td>\n",
       "    </tr>\n",
       "    <tr>\n",
       "      <th>4</th>\n",
       "      <td>7</td>\n",
       "      <td>NaN</td>\n",
       "      <td>NR</td>\n",
       "      <td>Drama|Romance</td>\n",
       "      <td>Rodney Bennett</td>\n",
       "      <td>Giles Cooper</td>\n",
       "      <td>NaT</td>\n",
       "      <td>NaT</td>\n",
       "      <td>NaN</td>\n",
       "      <td>NaN</td>\n",
       "      <td>200 minutes</td>\n",
       "      <td>NaN</td>\n",
       "      <td>NaN</td>\n",
       "    </tr>\n",
       "  </tbody>\n",
       "</table>\n",
       "</div>"
      ],
      "text/plain": [
       "   id                                           synopsis rating  \\\n",
       "0   1  This gritty, fast-paced, and innovative police...      R   \n",
       "1   3  New York City, not-too-distant-future: Eric Pa...      R   \n",
       "2   5  Illeana Douglas delivers a superb performance ...      R   \n",
       "3   6  Michael Douglas runs afoul of a treacherous su...      R   \n",
       "4   7                                                NaN     NR   \n",
       "\n",
       "                                 genre          director  \\\n",
       "0  Action and Adventure|Classics|Drama  William Friedkin   \n",
       "1    Drama|Science Fiction and Fantasy  David Cronenberg   \n",
       "2    Drama|Musical and Performing Arts    Allison Anders   \n",
       "3           Drama|Mystery and Suspense    Barry Levinson   \n",
       "4                        Drama|Romance    Rodney Bennett   \n",
       "\n",
       "                            writer theater_date   dvd_date currency  \\\n",
       "0                   Ernest Tidyman   1971-10-09 2001-09-25      NaN   \n",
       "1     David Cronenberg|Don DeLillo   2012-08-17 2013-01-01        $   \n",
       "2                   Allison Anders   1996-09-13 2000-04-18      NaN   \n",
       "3  Paul Attanasio|Michael Crichton   1994-12-09 1997-08-27      NaN   \n",
       "4                     Giles Cooper          NaT        NaT      NaN   \n",
       "\n",
       "  box_office      runtime             studio release_month  \n",
       "0        NaN  104 minutes                NaN       October  \n",
       "1    600,000  108 minutes  Entertainment One        August  \n",
       "2        NaN  116 minutes                NaN     September  \n",
       "3        NaN  128 minutes                NaN      December  \n",
       "4        NaN  200 minutes                NaN           NaN  "
      ]
     },
     "execution_count": 141,
     "metadata": {},
     "output_type": "execute_result"
    }
   ],
   "source": [
    "rt_info.head()"
   ]
  },
  {
   "cell_type": "code",
   "execution_count": 21,
   "metadata": {},
   "outputs": [
    {
     "name": "stdout",
     "output_type": "stream",
     "text": [
      "<class 'pandas.core.frame.DataFrame'>\n",
      "RangeIndex: 54432 entries, 0 to 54431\n",
      "Data columns (total 8 columns):\n",
      " #   Column      Non-Null Count  Dtype \n",
      "---  ------      --------------  ----- \n",
      " 0   id          54432 non-null  int64 \n",
      " 1   review      48869 non-null  object\n",
      " 2   rating      40915 non-null  object\n",
      " 3   fresh       54432 non-null  object\n",
      " 4   critic      51710 non-null  object\n",
      " 5   top_critic  54432 non-null  int64 \n",
      " 6   publisher   54123 non-null  object\n",
      " 7   date        54432 non-null  object\n",
      "dtypes: int64(2), object(6)\n",
      "memory usage: 3.3+ MB\n"
     ]
    }
   ],
   "source": [
    "rt_reviews = pd.read_csv('../data/rt.reviews.tsv.gz', sep='\\t', encoding='latin-1')\n",
    "rt_reviews.info()"
   ]
  },
  {
   "cell_type": "code",
   "execution_count": 152,
   "metadata": {},
   "outputs": [
    {
     "name": "stdout",
     "output_type": "stream",
     "text": [
      "<class 'pandas.core.frame.DataFrame'>\n",
      "RangeIndex: 54432 entries, 0 to 54431\n",
      "Data columns (total 20 columns):\n",
      " #   Column         Non-Null Count  Dtype         \n",
      "---  ------         --------------  -----         \n",
      " 0   id             54432 non-null  int64         \n",
      " 1   synopsis       54300 non-null  object        \n",
      " 2   rating_x       54346 non-null  object        \n",
      " 3   genre          54345 non-null  object        \n",
      " 4   director       48992 non-null  object        \n",
      " 5   writer         45206 non-null  object        \n",
      " 6   theater_date   53206 non-null  datetime64[ns]\n",
      " 7   dvd_date       53206 non-null  datetime64[ns]\n",
      " 8   currency       33310 non-null  object        \n",
      " 9   box_office     33310 non-null  object        \n",
      " 10  runtime        53594 non-null  object        \n",
      " 11  studio         40125 non-null  object        \n",
      " 12  release_month  53206 non-null  object        \n",
      " 13  review         48869 non-null  object        \n",
      " 14  rating_y       40915 non-null  object        \n",
      " 15  fresh          54432 non-null  object        \n",
      " 16  critic         51710 non-null  object        \n",
      " 17  top_critic     54432 non-null  int64         \n",
      " 18  publisher      54123 non-null  object        \n",
      " 19  date           54432 non-null  object        \n",
      "dtypes: datetime64[ns](2), int64(2), object(16)\n",
      "memory usage: 8.3+ MB\n"
     ]
    }
   ],
   "source": [
    "# Combing the rt sheets into one df\n",
    "\n",
    "rt_combined = pd.merge(rt_info, rt_reviews, on='id')\n",
    "rt_combined.info()"
   ]
  },
  {
   "cell_type": "markdown",
   "metadata": {},
   "source": [
    "# TMDB Data"
   ]
  },
  {
   "cell_type": "code",
   "execution_count": 23,
   "metadata": {},
   "outputs": [
    {
     "name": "stdout",
     "output_type": "stream",
     "text": [
      "<class 'pandas.core.frame.DataFrame'>\n",
      "RangeIndex: 26517 entries, 0 to 26516\n",
      "Data columns (total 10 columns):\n",
      " #   Column             Non-Null Count  Dtype  \n",
      "---  ------             --------------  -----  \n",
      " 0   Unnamed: 0         26517 non-null  int64  \n",
      " 1   genre_ids          26517 non-null  object \n",
      " 2   id                 26517 non-null  int64  \n",
      " 3   original_language  26517 non-null  object \n",
      " 4   original_title     26517 non-null  object \n",
      " 5   popularity         26517 non-null  float64\n",
      " 6   release_date       26517 non-null  object \n",
      " 7   primary_title      26517 non-null  object \n",
      " 8   vote_average       26517 non-null  float64\n",
      " 9   vote_count         26517 non-null  int64  \n",
      "dtypes: float64(2), int64(3), object(5)\n",
      "memory usage: 2.0+ MB\n"
     ]
    }
   ],
   "source": [
    "tmdb_movies = pd.read_csv('../data/tmdb.movies.csv.gz')\n",
    "tmdb_movies.rename(columns={'title': 'primary_title'}, inplace=True)\n",
    "tmdb_movies.info()"
   ]
  },
  {
   "cell_type": "markdown",
   "metadata": {},
   "source": [
    "# The Numbers Data"
   ]
  },
  {
   "cell_type": "code",
   "execution_count": 24,
   "metadata": {},
   "outputs": [
    {
     "name": "stdout",
     "output_type": "stream",
     "text": [
      "<class 'pandas.core.frame.DataFrame'>\n",
      "RangeIndex: 5782 entries, 0 to 5781\n",
      "Data columns (total 6 columns):\n",
      " #   Column             Non-Null Count  Dtype \n",
      "---  ------             --------------  ----- \n",
      " 0   id                 5782 non-null   int64 \n",
      " 1   release_date       5782 non-null   object\n",
      " 2   movie              5782 non-null   object\n",
      " 3   production_budget  5782 non-null   object\n",
      " 4   domestic_gross     5782 non-null   object\n",
      " 5   worldwide_gross    5782 non-null   object\n",
      "dtypes: int64(1), object(5)\n",
      "memory usage: 271.2+ KB\n"
     ]
    }
   ],
   "source": [
    "tn_movie_budgets = pd.read_csv('../data/tn.movie_budgets.csv.gz')\n",
    "tn_movie_budgets.info()"
   ]
  },
  {
   "cell_type": "code",
   "execution_count": 94,
   "metadata": {},
   "outputs": [
    {
     "name": "stdout",
     "output_type": "stream",
     "text": [
      "<class 'pandas.core.frame.DataFrame'>\n",
      "RangeIndex: 5782 entries, 0 to 5781\n",
      "Data columns (total 8 columns):\n",
      " #   Column             Non-Null Count  Dtype         \n",
      "---  ------             --------------  -----         \n",
      " 0   id                 5782 non-null   int64         \n",
      " 1   release_date       5782 non-null   datetime64[ns]\n",
      " 2   movie              5782 non-null   object        \n",
      " 3   production_budget  5782 non-null   object        \n",
      " 4   domestic_gross     5782 non-null   int64         \n",
      " 5   worldwide_gross    5782 non-null   int64         \n",
      " 6   release_month      5782 non-null   object        \n",
      " 7   release_year       5782 non-null   int32         \n",
      "dtypes: datetime64[ns](1), int32(1), int64(3), object(3)\n",
      "memory usage: 338.9+ KB\n"
     ]
    }
   ],
   "source": [
    "tn_movie_budgets['release_date'] = pd.to_datetime(tn_movie_budgets['release_date'])\n",
    "tn_movie_budgets['release_month'] = pd.to_datetime(tn_movie_budgets['release_date']).dt.month_name()\n",
    "tn_movie_budgets['release_year'] = pd.to_datetime(tn_movie_budgets['release_date']).dt.year\n",
    "\n",
    "#tn_movie_budgets['domestic_gross'] = tn_movie_budgets['domestic_gross'].str.replace('$', '')\n",
    "#tn_movie_budgets['domestic_gross'] = tn_movie_budgets['domestic_gross'].str.replace(',', '').astytpe(int) \n",
    "\n",
    "#tn_movie_budgets['worldwide_gross'] = tn_movie_budgets['worldwide_gross'].str.replace('$', '')\n",
    "#tn_movie_budgets['worldwide_gross'] = tn_movie_budgets['worldwide_gross'].str.replace(',', '').astype(int)\n",
    "\n",
    "tn_movie_budgets.info()"
   ]
  },
  {
   "cell_type": "code",
   "execution_count": 99,
   "metadata": {},
   "outputs": [
    {
     "data": {
      "text/plain": [
       "release_month\n",
       "December     745\n",
       "October      573\n",
       "August       496\n",
       "September    493\n",
       "November     486\n",
       "June         479\n",
       "March        470\n",
       "April        454\n",
       "July         440\n",
       "May          407\n",
       "February     392\n",
       "January      347\n",
       "Name: count, dtype: int64"
      ]
     },
     "execution_count": 99,
     "metadata": {},
     "output_type": "execute_result"
    }
   ],
   "source": [
    "months = ['January', 'February', 'March', 'April', 'May', 'June', 'July', 'August', 'September', 'October', 'November', 'December']\n",
    "tn_movie_budgets['release_month'] = pd.Categorical(tn_movie_budgets['release_month'], categories=months, ordered=True)\n",
    "tn_movie_budgets['release_month'].value_counts()"
   ]
  },
  {
   "cell_type": "code",
   "execution_count": 100,
   "metadata": {},
   "outputs": [
    {
     "name": "stderr",
     "output_type": "stream",
     "text": [
      "/var/folders/gf/gqtw2hsd3xx5_9tt2z47xflr0000gn/T/ipykernel_16187/1286484701.py:5: FutureWarning: The default of observed=False is deprecated and will be changed to True in a future version of pandas. Pass observed=False to retain current behavior or observed=True to adopt the future default and silence this warning.\n",
      "  tn_movie_budgets.groupby('release_month')['domestic_gross'].mean().sort_index(ascending=True).plot.bar()\n"
     ]
    },
    {
     "data": {
      "text/plain": [
       "(array([ 0,  1,  2,  3,  4,  5,  6,  7,  8,  9, 10, 11]),\n",
       " [Text(0, 0, 'January'),\n",
       "  Text(1, 0, 'February'),\n",
       "  Text(2, 0, 'March'),\n",
       "  Text(3, 0, 'April'),\n",
       "  Text(4, 0, 'May'),\n",
       "  Text(5, 0, 'June'),\n",
       "  Text(6, 0, 'July'),\n",
       "  Text(7, 0, 'August'),\n",
       "  Text(8, 0, 'September'),\n",
       "  Text(9, 0, 'October'),\n",
       "  Text(10, 0, 'November'),\n",
       "  Text(11, 0, 'December')])"
      ]
     },
     "execution_count": 100,
     "metadata": {},
     "output_type": "execute_result"
    },
    {
     "data": {
      "image/png": "[encoded data removed]",
      "text/plain": [
       "<Figure size 640x480 with 1 Axes>"
      ]
     },
     "metadata": {},
     "output_type": "display_data"
    }
   ],
   "source": [
    "\n",
    "#tn_movie_budgets['domestic_gross'] = tn_movie_budgets['domestic_gross'].str.replace('$', '')\n",
    "#tn_movie_budgets['domestic_gross'] = tn_movie_budgets['domestic_gross'].str.replace(',', '')\n",
    "\n",
    "\n",
    "tn_movie_budgets.groupby('release_month')['domestic_gross'].mean().sort_index(ascending=True).plot.bar()\n",
    "\n",
    "\n",
    "\n",
    "#ax = plt.bar(tn_movie_budgets['release_month'], tn_movie_budgets['domestic_gross'])\n",
    "\n",
    "#months = ['January', 'February', 'March', 'April', 'May', 'June', 'July', 'August', 'September', 'October', 'November', 'December']\n",
    "#tn_movie_budgets['release_month'].value_counts().loc[months].plot.bar()\n",
    "\n",
    "plt.title('Average Domestic Gross by Release Month')\n",
    "plt.xlabel('Release Month')\n",
    "plt.ylabel('Domestic Gross')\n",
    "plt.xticks(rotation=45)\n",
    "\n",
    "\n",
    "\n",
    "\n"
   ]
  },
  {
   "cell_type": "code",
   "execution_count": 101,
   "metadata": {},
   "outputs": [
    {
     "name": "stderr",
     "output_type": "stream",
     "text": [
      "/var/folders/gf/gqtw2hsd3xx5_9tt2z47xflr0000gn/T/ipykernel_16187/959629973.py:1: FutureWarning: The default of observed=False is deprecated and will be changed to True in a future version of pandas. Pass observed=False to retain current behavior or observed=True to adopt the future default and silence this warning.\n",
      "  tn_movie_budgets.groupby('release_month')['worldwide_gross'].mean().plot.bar()\n"
     ]
    },
    {
     "data": {
      "text/plain": [
       "(array([ 0,  1,  2,  3,  4,  5,  6,  7,  8,  9, 10, 11]),\n",
       " [Text(0, 0, 'January'),\n",
       "  Text(1, 0, 'February'),\n",
       "  Text(2, 0, 'March'),\n",
       "  Text(3, 0, 'April'),\n",
       "  Text(4, 0, 'May'),\n",
       "  Text(5, 0, 'June'),\n",
       "  Text(6, 0, 'July'),\n",
       "  Text(7, 0, 'August'),\n",
       "  Text(8, 0, 'September'),\n",
       "  Text(9, 0, 'October'),\n",
       "  Text(10, 0, 'November'),\n",
       "  Text(11, 0, 'December')])"
      ]
     },
     "execution_count": 101,
     "metadata": {},
     "output_type": "execute_result"
    },
    {
     "data": {
      "image/png": "[encoded data removed]",
      "text/plain": [
       "<Figure size 640x480 with 1 Axes>"
      ]
     },
     "metadata": {},
     "output_type": "display_data"
    }
   ],
   "source": [
    "tn_movie_budgets.groupby('release_month')['worldwide_gross'].mean().plot.bar()\n",
    "plt.title('Average World-Wide Gross by Release Month')\n",
    "plt.xlabel('Release Month')\n",
    "plt.ylabel('Average World-Wide Gross (in million $)')\n",
    "plt.xticks(rotation=45)\n"
   ]
  },
  {
   "cell_type": "code",
   "execution_count": 129,
   "metadata": {},
   "outputs": [
    {
     "name": "stderr",
     "output_type": "stream",
     "text": [
      "/var/folders/gf/gqtw2hsd3xx5_9tt2z47xflr0000gn/T/ipykernel_16187/607684797.py:2: FutureWarning: The default of observed=False is deprecated and will be changed to True in a future version of pandas. Pass observed=False to retain current behavior or observed=True to adopt the future default and silence this warning.\n",
      "  tn_movie_budgets_nonzero.groupby('release_month')['domestic_gross'].mean().plot.bar()\n"
     ]
    },
    {
     "data": {
      "text/plain": [
       "(array([ 0,  1,  2,  3,  4,  5,  6,  7,  8,  9, 10, 11]),\n",
       " [Text(0, 0, 'January'),\n",
       "  Text(1, 0, 'February'),\n",
       "  Text(2, 0, 'March'),\n",
       "  Text(3, 0, 'April'),\n",
       "  Text(4, 0, 'May'),\n",
       "  Text(5, 0, 'June'),\n",
       "  Text(6, 0, 'July'),\n",
       "  Text(7, 0, 'August'),\n",
       "  Text(8, 0, 'September'),\n",
       "  Text(9, 0, 'October'),\n",
       "  Text(10, 0, 'November'),\n",
       "  Text(11, 0, 'December')])"
      ]
     },
     "execution_count": 129,
     "metadata": {},
     "output_type": "execute_result"
    },
    {
     "data": {
      "image/png": "[encoded data removed]",
      "text/plain": [
       "<Figure size 640x480 with 1 Axes>"
      ]
     },
     "metadata": {},
     "output_type": "display_data"
    }
   ],
   "source": [
    "tn_movie_budgets_nonzero = tn_movie_budgets[tn_movie_budgets['domestic_gross'] != 0].copy()\n",
    "tn_movie_budgets_nonzero.groupby('release_month')['domestic_gross'].mean().plot.bar()\n",
    "plt.title('Average Domestic Gross by Release Month')\n",
    "plt.xlabel('Release Month')\n",
    "plt.ylabel('Average Domestic Gross (in million $)')\n",
    "plt.xticks(rotation=45)\n"
   ]
  },
  {
   "cell_type": "code",
   "execution_count": 128,
   "metadata": {},
   "outputs": [],
   "source": [
    "tn_movie_budgets['production_budget'] = tn_movie_budgets['production_budget'].str.replace('$', '')\n",
    "tn_movie_budgets['production_budget'] = tn_movie_budgets['production_budget'].str.replace(',', '').astype(int)\n"
   ]
  },
  {
   "cell_type": "code",
   "execution_count": 112,
   "metadata": {},
   "outputs": [
    {
     "name": "stdout",
     "output_type": "stream",
     "text": [
      "<class 'pandas.core.frame.DataFrame'>\n",
      "Index: 5234 entries, 0 to 5781\n",
      "Data columns (total 8 columns):\n",
      " #   Column             Non-Null Count  Dtype         \n",
      "---  ------             --------------  -----         \n",
      " 0   id                 5234 non-null   int64         \n",
      " 1   release_date       5234 non-null   datetime64[ns]\n",
      " 2   movie              5234 non-null   object        \n",
      " 3   production_budget  5234 non-null   object        \n",
      " 4   domestic_gross     5234 non-null   int64         \n",
      " 5   worldwide_gross    5234 non-null   int64         \n",
      " 6   release_month      5234 non-null   category      \n",
      " 7   release_year       5234 non-null   int32         \n",
      "dtypes: category(1), datetime64[ns](1), int32(1), int64(3), object(2)\n",
      "memory usage: 312.2+ KB\n"
     ]
    }
   ],
   "source": [
    "tn_movie_budgets_nonzero.info()"
   ]
  },
  {
   "cell_type": "code",
   "execution_count": 139,
   "metadata": {},
   "outputs": [
    {
     "data": {
      "text/html": [
       "<div>\n",
       "<style scoped>\n",
       "    .dataframe tbody tr th:only-of-type {\n",
       "        vertical-align: middle;\n",
       "    }\n",
       "\n",
       "    .dataframe tbody tr th {\n",
       "        vertical-align: top;\n",
       "    }\n",
       "\n",
       "    .dataframe thead th {\n",
       "        text-align: right;\n",
       "    }\n",
       "</style>\n",
       "<table border=\"1\" class=\"dataframe\">\n",
       "  <thead>\n",
       "    <tr style=\"text-align: right;\">\n",
       "      <th></th>\n",
       "      <th>id</th>\n",
       "      <th>release_date</th>\n",
       "      <th>movie</th>\n",
       "      <th>production_budget</th>\n",
       "      <th>domestic_gross</th>\n",
       "      <th>worldwide_gross</th>\n",
       "      <th>release_month</th>\n",
       "      <th>release_year</th>\n",
       "    </tr>\n",
       "  </thead>\n",
       "  <tbody>\n",
       "    <tr>\n",
       "      <th>42</th>\n",
       "      <td>43</td>\n",
       "      <td>1997-12-19</td>\n",
       "      <td>Titanic</td>\n",
       "      <td>200000000</td>\n",
       "      <td>659363944</td>\n",
       "      <td>2208208395</td>\n",
       "      <td>December</td>\n",
       "      <td>1997</td>\n",
       "    </tr>\n",
       "  </tbody>\n",
       "</table>\n",
       "</div>"
      ],
      "text/plain": [
       "    id release_date    movie  production_budget  domestic_gross  \\\n",
       "42  43   1997-12-19  Titanic          200000000       659363944   \n",
       "\n",
       "    worldwide_gross release_month  release_year  \n",
       "42       2208208395      December          1997  "
      ]
     },
     "execution_count": 139,
     "metadata": {},
     "output_type": "execute_result"
    }
   ],
   "source": [
    "tn_movie_budgets.loc[tn_movie_budgets['movie'] == \"Titanic\"]\n"
   ]
  },
  {
   "cell_type": "code",
   "execution_count": 133,
   "metadata": {},
   "outputs": [],
   "source": [
    "from lin_reg import best_line"
   ]
  },
  {
   "cell_type": "code",
   "execution_count": 134,
   "metadata": {},
   "outputs": [
    {
     "data": {
      "image/png": "[encoded data removed]",
      "text/plain": [
       "<Figure size 640x480 with 1 Axes>"
      ]
     },
     "metadata": {},
     "output_type": "display_data"
    },
    {
     "data": {
      "image/png": "[encoded data removed]",
      "text/plain": [
       "<Figure size 640x480 with 1 Axes>"
      ]
     },
     "metadata": {},
     "output_type": "display_data"
    }
   ],
   "source": [
    "plt.scatter(tn_movie_budgets_nonzero['production_budget'], tn_movie_budgets_nonzero['domestic_gross'])\n",
    "plt.title('Domestic Gross vs Production Budget')\n",
    "plt.xlabel('Production Budget')\n",
    "plt.ylabel('Domestic Gross')\n",
    "plt.xticks(rotation=45, ha='right', size=8, )\n",
    "best_line(tn_movie_budgets_nonzero['production_budget'], tn_movie_budgets_nonzero['domestic_gross'])\n",
    "\n"
   ]
  },
  {
   "cell_type": "code",
   "execution_count": 137,
   "metadata": {},
   "outputs": [
    {
     "data": {
      "text/plain": [
       "release_year\n",
       "1915      1\n",
       "1916      2\n",
       "1920      1\n",
       "1925      2\n",
       "1927      1\n",
       "       ... \n",
       "2016    219\n",
       "2017    168\n",
       "2018    143\n",
       "2019     67\n",
       "2020      3\n",
       "Name: count, Length: 96, dtype: int64"
      ]
     },
     "execution_count": 137,
     "metadata": {},
     "output_type": "execute_result"
    }
   ],
   "source": [
    "# How many years of data do we have for the tn_movie_budgets data set?\n",
    "tn_movie_budgets['release_year'].value_counts().sort_index(ascending=True)"
   ]
  },
  {
   "cell_type": "code",
   "execution_count": 124,
   "metadata": {},
   "outputs": [
    {
     "data": {
      "text/html": [
       "<div>\n",
       "<style scoped>\n",
       "    .dataframe tbody tr th:only-of-type {\n",
       "        vertical-align: middle;\n",
       "    }\n",
       "\n",
       "    .dataframe tbody tr th {\n",
       "        vertical-align: top;\n",
       "    }\n",
       "\n",
       "    .dataframe thead th {\n",
       "        text-align: right;\n",
       "    }\n",
       "</style>\n",
       "<table border=\"1\" class=\"dataframe\">\n",
       "  <thead>\n",
       "    <tr style=\"text-align: right;\">\n",
       "      <th></th>\n",
       "      <th>id</th>\n",
       "      <th>release_date</th>\n",
       "      <th>movie</th>\n",
       "      <th>production_budget</th>\n",
       "      <th>domestic_gross</th>\n",
       "      <th>worldwide_gross</th>\n",
       "      <th>release_month</th>\n",
       "      <th>release_year</th>\n",
       "    </tr>\n",
       "  </thead>\n",
       "  <tbody>\n",
       "    <tr>\n",
       "      <th>3525</th>\n",
       "      <td>26</td>\n",
       "      <td>1982-06-11</td>\n",
       "      <td>ET: The Extra-Terrestrial</td>\n",
       "      <td>$10,500,000</td>\n",
       "      <td>435110554</td>\n",
       "      <td>792965326</td>\n",
       "      <td>June</td>\n",
       "      <td>1982</td>\n",
       "    </tr>\n",
       "    <tr>\n",
       "      <th>3464</th>\n",
       "      <td>65</td>\n",
       "      <td>1977-05-25</td>\n",
       "      <td>Star Wars Ep. IV: A New Hope</td>\n",
       "      <td>$11,000,000</td>\n",
       "      <td>460998007</td>\n",
       "      <td>786598007</td>\n",
       "      <td>May</td>\n",
       "      <td>1977</td>\n",
       "    </tr>\n",
       "    <tr>\n",
       "      <th>303</th>\n",
       "      <td>4</td>\n",
       "      <td>1999-05-19</td>\n",
       "      <td>Star Wars Ep. I: The Phantom Menace</td>\n",
       "      <td>$115,000,000</td>\n",
       "      <td>474544677</td>\n",
       "      <td>1027044677</td>\n",
       "      <td>May</td>\n",
       "      <td>1999</td>\n",
       "    </tr>\n",
       "    <tr>\n",
       "      <th>237</th>\n",
       "      <td>38</td>\n",
       "      <td>2013-11-22</td>\n",
       "      <td>The Hunger Games: Catching Fire</td>\n",
       "      <td>$130,000,000</td>\n",
       "      <td>424668047</td>\n",
       "      <td>864868047</td>\n",
       "      <td>November</td>\n",
       "      <td>2013</td>\n",
       "    </tr>\n",
       "    <tr>\n",
       "      <th>218</th>\n",
       "      <td>19</td>\n",
       "      <td>2002-05-03</td>\n",
       "      <td>Spider-Man</td>\n",
       "      <td>$139,000,000</td>\n",
       "      <td>403706375</td>\n",
       "      <td>821706375</td>\n",
       "      <td>May</td>\n",
       "      <td>2002</td>\n",
       "    </tr>\n",
       "    <tr>\n",
       "      <th>155</th>\n",
       "      <td>56</td>\n",
       "      <td>2013-11-22</td>\n",
       "      <td>Frozen</td>\n",
       "      <td>$150,000,000</td>\n",
       "      <td>400738009</td>\n",
       "      <td>1272469910</td>\n",
       "      <td>November</td>\n",
       "      <td>2013</td>\n",
       "    </tr>\n",
       "    <tr>\n",
       "      <th>154</th>\n",
       "      <td>55</td>\n",
       "      <td>2017-06-02</td>\n",
       "      <td>Wonder Woman</td>\n",
       "      <td>$150,000,000</td>\n",
       "      <td>412563408</td>\n",
       "      <td>821133378</td>\n",
       "      <td>June</td>\n",
       "      <td>2017</td>\n",
       "    </tr>\n",
       "    <tr>\n",
       "      <th>134</th>\n",
       "      <td>35</td>\n",
       "      <td>2017-03-17</td>\n",
       "      <td>Beauty and the Beast</td>\n",
       "      <td>$160,000,000</td>\n",
       "      <td>504014165</td>\n",
       "      <td>1259199706</td>\n",
       "      <td>March</td>\n",
       "      <td>2017</td>\n",
       "    </tr>\n",
       "    <tr>\n",
       "      <th>112</th>\n",
       "      <td>13</td>\n",
       "      <td>2018-06-22</td>\n",
       "      <td>Jurassic World: Fallen Kingdom</td>\n",
       "      <td>$170,000,000</td>\n",
       "      <td>417719760</td>\n",
       "      <td>1305772799</td>\n",
       "      <td>June</td>\n",
       "      <td>2018</td>\n",
       "    </tr>\n",
       "    <tr>\n",
       "      <th>95</th>\n",
       "      <td>96</td>\n",
       "      <td>2019-03-08</td>\n",
       "      <td>Captain Marvel</td>\n",
       "      <td>$175,000,000</td>\n",
       "      <td>426525952</td>\n",
       "      <td>1123061550</td>\n",
       "      <td>March</td>\n",
       "      <td>2019</td>\n",
       "    </tr>\n",
       "    <tr>\n",
       "      <th>74</th>\n",
       "      <td>75</td>\n",
       "      <td>2008-07-18</td>\n",
       "      <td>The Dark Knight</td>\n",
       "      <td>$185,000,000</td>\n",
       "      <td>533720947</td>\n",
       "      <td>1001996207</td>\n",
       "      <td>July</td>\n",
       "      <td>2008</td>\n",
       "    </tr>\n",
       "    <tr>\n",
       "      <th>47</th>\n",
       "      <td>48</td>\n",
       "      <td>2013-05-03</td>\n",
       "      <td>Iron Man 3</td>\n",
       "      <td>$200,000,000</td>\n",
       "      <td>408992272</td>\n",
       "      <td>1215392272</td>\n",
       "      <td>May</td>\n",
       "      <td>2013</td>\n",
       "    </tr>\n",
       "    <tr>\n",
       "      <th>45</th>\n",
       "      <td>46</td>\n",
       "      <td>2016-06-17</td>\n",
       "      <td>Finding Dory</td>\n",
       "      <td>$200,000,000</td>\n",
       "      <td>486295561</td>\n",
       "      <td>1021215193</td>\n",
       "      <td>June</td>\n",
       "      <td>2016</td>\n",
       "    </tr>\n",
       "    <tr>\n",
       "      <th>44</th>\n",
       "      <td>45</td>\n",
       "      <td>2016-12-16</td>\n",
       "      <td>Rogue One: A Star Wars Story</td>\n",
       "      <td>$200,000,000</td>\n",
       "      <td>532177324</td>\n",
       "      <td>1049102856</td>\n",
       "      <td>December</td>\n",
       "      <td>2016</td>\n",
       "    </tr>\n",
       "    <tr>\n",
       "      <th>46</th>\n",
       "      <td>47</td>\n",
       "      <td>2010-06-18</td>\n",
       "      <td>Toy Story 3</td>\n",
       "      <td>$200,000,000</td>\n",
       "      <td>415004880</td>\n",
       "      <td>1068879522</td>\n",
       "      <td>June</td>\n",
       "      <td>2010</td>\n",
       "    </tr>\n",
       "    <tr>\n",
       "      <th>42</th>\n",
       "      <td>43</td>\n",
       "      <td>1997-12-19</td>\n",
       "      <td>Titanic</td>\n",
       "      <td>$200,000,000</td>\n",
       "      <td>659363944</td>\n",
       "      <td>2208208395</td>\n",
       "      <td>December</td>\n",
       "      <td>1997</td>\n",
       "    </tr>\n",
       "    <tr>\n",
       "      <th>41</th>\n",
       "      <td>42</td>\n",
       "      <td>2018-02-16</td>\n",
       "      <td>Black Panther</td>\n",
       "      <td>$200,000,000</td>\n",
       "      <td>700059566</td>\n",
       "      <td>1348258224</td>\n",
       "      <td>February</td>\n",
       "      <td>2018</td>\n",
       "    </tr>\n",
       "    <tr>\n",
       "      <th>43</th>\n",
       "      <td>44</td>\n",
       "      <td>2018-06-15</td>\n",
       "      <td>Incredibles 2</td>\n",
       "      <td>$200,000,000</td>\n",
       "      <td>608581744</td>\n",
       "      <td>1242520711</td>\n",
       "      <td>June</td>\n",
       "      <td>2018</td>\n",
       "    </tr>\n",
       "    <tr>\n",
       "      <th>35</th>\n",
       "      <td>36</td>\n",
       "      <td>2009-06-24</td>\n",
       "      <td>Transformers: Revenge of the Fallen</td>\n",
       "      <td>$210,000,000</td>\n",
       "      <td>402111870</td>\n",
       "      <td>836519699</td>\n",
       "      <td>June</td>\n",
       "      <td>2009</td>\n",
       "    </tr>\n",
       "    <tr>\n",
       "      <th>33</th>\n",
       "      <td>34</td>\n",
       "      <td>2015-06-12</td>\n",
       "      <td>Jurassic World</td>\n",
       "      <td>$215,000,000</td>\n",
       "      <td>652270625</td>\n",
       "      <td>1648854864</td>\n",
       "      <td>June</td>\n",
       "      <td>2015</td>\n",
       "    </tr>\n",
       "    <tr>\n",
       "      <th>27</th>\n",
       "      <td>28</td>\n",
       "      <td>2006-07-07</td>\n",
       "      <td>Pirates of the Caribbean: Dead Manâs Chest</td>\n",
       "      <td>$225,000,000</td>\n",
       "      <td>423315812</td>\n",
       "      <td>1066215812</td>\n",
       "      <td>July</td>\n",
       "      <td>2006</td>\n",
       "    </tr>\n",
       "    <tr>\n",
       "      <th>26</th>\n",
       "      <td>27</td>\n",
       "      <td>2012-05-04</td>\n",
       "      <td>The Avengers</td>\n",
       "      <td>$225,000,000</td>\n",
       "      <td>623279547</td>\n",
       "      <td>1517935897</td>\n",
       "      <td>May</td>\n",
       "      <td>2012</td>\n",
       "    </tr>\n",
       "    <tr>\n",
       "      <th>16</th>\n",
       "      <td>17</td>\n",
       "      <td>2016-05-06</td>\n",
       "      <td>Captain America: Civil War</td>\n",
       "      <td>$250,000,000</td>\n",
       "      <td>408084349</td>\n",
       "      <td>1140069413</td>\n",
       "      <td>May</td>\n",
       "      <td>2016</td>\n",
       "    </tr>\n",
       "    <tr>\n",
       "      <th>10</th>\n",
       "      <td>11</td>\n",
       "      <td>2012-07-20</td>\n",
       "      <td>The Dark Knight Rises</td>\n",
       "      <td>$275,000,000</td>\n",
       "      <td>448139099</td>\n",
       "      <td>1084439099</td>\n",
       "      <td>July</td>\n",
       "      <td>2012</td>\n",
       "    </tr>\n",
       "    <tr>\n",
       "      <th>6</th>\n",
       "      <td>7</td>\n",
       "      <td>2018-04-27</td>\n",
       "      <td>Avengers: Infinity War</td>\n",
       "      <td>$300,000,000</td>\n",
       "      <td>678815482</td>\n",
       "      <td>2048134200</td>\n",
       "      <td>April</td>\n",
       "      <td>2018</td>\n",
       "    </tr>\n",
       "    <tr>\n",
       "      <th>5</th>\n",
       "      <td>6</td>\n",
       "      <td>2015-12-18</td>\n",
       "      <td>Star Wars Ep. VII: The Force Awakens</td>\n",
       "      <td>$306,000,000</td>\n",
       "      <td>936662225</td>\n",
       "      <td>2053311220</td>\n",
       "      <td>December</td>\n",
       "      <td>2015</td>\n",
       "    </tr>\n",
       "    <tr>\n",
       "      <th>4</th>\n",
       "      <td>5</td>\n",
       "      <td>2017-12-15</td>\n",
       "      <td>Star Wars Ep. VIII: The Last Jedi</td>\n",
       "      <td>$317,000,000</td>\n",
       "      <td>620181382</td>\n",
       "      <td>1316721747</td>\n",
       "      <td>December</td>\n",
       "      <td>2017</td>\n",
       "    </tr>\n",
       "    <tr>\n",
       "      <th>3</th>\n",
       "      <td>4</td>\n",
       "      <td>2015-05-01</td>\n",
       "      <td>Avengers: Age of Ultron</td>\n",
       "      <td>$330,600,000</td>\n",
       "      <td>459005868</td>\n",
       "      <td>1403013963</td>\n",
       "      <td>May</td>\n",
       "      <td>2015</td>\n",
       "    </tr>\n",
       "    <tr>\n",
       "      <th>0</th>\n",
       "      <td>1</td>\n",
       "      <td>2009-12-18</td>\n",
       "      <td>Avatar</td>\n",
       "      <td>$425,000,000</td>\n",
       "      <td>760507625</td>\n",
       "      <td>2776345279</td>\n",
       "      <td>December</td>\n",
       "      <td>2009</td>\n",
       "    </tr>\n",
       "    <tr>\n",
       "      <th>692</th>\n",
       "      <td>93</td>\n",
       "      <td>2004-05-19</td>\n",
       "      <td>Shrek 2</td>\n",
       "      <td>$70,000,000</td>\n",
       "      <td>441226247</td>\n",
       "      <td>937008132</td>\n",
       "      <td>May</td>\n",
       "      <td>2004</td>\n",
       "    </tr>\n",
       "    <tr>\n",
       "      <th>608</th>\n",
       "      <td>9</td>\n",
       "      <td>1994-06-15</td>\n",
       "      <td>The Lion King</td>\n",
       "      <td>$79,300,000</td>\n",
       "      <td>421785283</td>\n",
       "      <td>986214868</td>\n",
       "      <td>June</td>\n",
       "      <td>1994</td>\n",
       "    </tr>\n",
       "    <tr>\n",
       "      <th>537</th>\n",
       "      <td>38</td>\n",
       "      <td>2012-03-23</td>\n",
       "      <td>The Hunger Games</td>\n",
       "      <td>$80,000,000</td>\n",
       "      <td>408010692</td>\n",
       "      <td>677923379</td>\n",
       "      <td>March</td>\n",
       "      <td>2012</td>\n",
       "    </tr>\n",
       "    <tr>\n",
       "      <th>437</th>\n",
       "      <td>38</td>\n",
       "      <td>2017-12-20</td>\n",
       "      <td>Jumanji: Welcome to the Jungle</td>\n",
       "      <td>$90,000,000</td>\n",
       "      <td>404508916</td>\n",
       "      <td>964496193</td>\n",
       "      <td>December</td>\n",
       "      <td>2017</td>\n",
       "    </tr>\n",
       "  </tbody>\n",
       "</table>\n",
       "</div>"
      ],
      "text/plain": [
       "      id release_date                                         movie  \\\n",
       "3525  26   1982-06-11                     ET: The Extra-Terrestrial   \n",
       "3464  65   1977-05-25                  Star Wars Ep. IV: A New Hope   \n",
       "303    4   1999-05-19           Star Wars Ep. I: The Phantom Menace   \n",
       "237   38   2013-11-22               The Hunger Games: Catching Fire   \n",
       "218   19   2002-05-03                                    Spider-Man   \n",
       "155   56   2013-11-22                                        Frozen   \n",
       "154   55   2017-06-02                                  Wonder Woman   \n",
       "134   35   2017-03-17                          Beauty and the Beast   \n",
       "112   13   2018-06-22                Jurassic World: Fallen Kingdom   \n",
       "95    96   2019-03-08                                Captain Marvel   \n",
       "74    75   2008-07-18                               The Dark Knight   \n",
       "47    48   2013-05-03                                    Iron Man 3   \n",
       "45    46   2016-06-17                                  Finding Dory   \n",
       "44    45   2016-12-16                  Rogue One: A Star Wars Story   \n",
       "46    47   2010-06-18                                   Toy Story 3   \n",
       "42    43   1997-12-19                                       Titanic   \n",
       "41    42   2018-02-16                                 Black Panther   \n",
       "43    44   2018-06-15                                 Incredibles 2   \n",
       "35    36   2009-06-24           Transformers: Revenge of the Fallen   \n",
       "33    34   2015-06-12                                Jurassic World   \n",
       "27    28   2006-07-07  Pirates of the Caribbean: Dead Manâs Chest   \n",
       "26    27   2012-05-04                                  The Avengers   \n",
       "16    17   2016-05-06                    Captain America: Civil War   \n",
       "10    11   2012-07-20                         The Dark Knight Rises   \n",
       "6      7   2018-04-27                        Avengers: Infinity War   \n",
       "5      6   2015-12-18          Star Wars Ep. VII: The Force Awakens   \n",
       "4      5   2017-12-15             Star Wars Ep. VIII: The Last Jedi   \n",
       "3      4   2015-05-01                       Avengers: Age of Ultron   \n",
       "0      1   2009-12-18                                        Avatar   \n",
       "692   93   2004-05-19                                       Shrek 2   \n",
       "608    9   1994-06-15                                 The Lion King   \n",
       "537   38   2012-03-23                              The Hunger Games   \n",
       "437   38   2017-12-20                Jumanji: Welcome to the Jungle   \n",
       "\n",
       "     production_budget  domestic_gross  worldwide_gross release_month  \\\n",
       "3525       $10,500,000       435110554        792965326          June   \n",
       "3464       $11,000,000       460998007        786598007           May   \n",
       "303       $115,000,000       474544677       1027044677           May   \n",
       "237       $130,000,000       424668047        864868047      November   \n",
       "218       $139,000,000       403706375        821706375           May   \n",
       "155       $150,000,000       400738009       1272469910      November   \n",
       "154       $150,000,000       412563408        821133378          June   \n",
       "134       $160,000,000       504014165       1259199706         March   \n",
       "112       $170,000,000       417719760       1305772799          June   \n",
       "95        $175,000,000       426525952       1123061550         March   \n",
       "74        $185,000,000       533720947       1001996207          July   \n",
       "47        $200,000,000       408992272       1215392272           May   \n",
       "45        $200,000,000       486295561       1021215193          June   \n",
       "44        $200,000,000       532177324       1049102856      December   \n",
       "46        $200,000,000       415004880       1068879522          June   \n",
       "42        $200,000,000       659363944       2208208395      December   \n",
       "41        $200,000,000       700059566       1348258224      February   \n",
       "43        $200,000,000       608581744       1242520711          June   \n",
       "35        $210,000,000       402111870        836519699          June   \n",
       "33        $215,000,000       652270625       1648854864          June   \n",
       "27        $225,000,000       423315812       1066215812          July   \n",
       "26        $225,000,000       623279547       1517935897           May   \n",
       "16        $250,000,000       408084349       1140069413           May   \n",
       "10        $275,000,000       448139099       1084439099          July   \n",
       "6         $300,000,000       678815482       2048134200         April   \n",
       "5         $306,000,000       936662225       2053311220      December   \n",
       "4         $317,000,000       620181382       1316721747      December   \n",
       "3         $330,600,000       459005868       1403013963           May   \n",
       "0         $425,000,000       760507625       2776345279      December   \n",
       "692        $70,000,000       441226247        937008132           May   \n",
       "608        $79,300,000       421785283        986214868          June   \n",
       "537        $80,000,000       408010692        677923379         March   \n",
       "437        $90,000,000       404508916        964496193      December   \n",
       "\n",
       "      release_year  \n",
       "3525          1982  \n",
       "3464          1977  \n",
       "303           1999  \n",
       "237           2013  \n",
       "218           2002  \n",
       "155           2013  \n",
       "154           2017  \n",
       "134           2017  \n",
       "112           2018  \n",
       "95            2019  \n",
       "74            2008  \n",
       "47            2013  \n",
       "45            2016  \n",
       "44            2016  \n",
       "46            2010  \n",
       "42            1997  \n",
       "41            2018  \n",
       "43            2018  \n",
       "35            2009  \n",
       "33            2015  \n",
       "27            2006  \n",
       "26            2012  \n",
       "16            2016  \n",
       "10            2012  \n",
       "6             2018  \n",
       "5             2015  \n",
       "4             2017  \n",
       "3             2015  \n",
       "0             2009  \n",
       "692           2004  \n",
       "608           1994  \n",
       "537           2012  \n",
       "437           2017  "
      ]
     },
     "execution_count": 124,
     "metadata": {},
     "output_type": "execute_result"
    }
   ],
   "source": [
    "tn_movie_budgets_outliers = tn_movie_budgets_nonzero[tn_movie_budgets_nonzero['domestic_gross'] > 400000000]\n",
    "tn_movie_budgets_outliers.sort_values(by='production_budget', ascending=True)"
   ]
  },
  {
   "cell_type": "code",
   "execution_count": 119,
   "metadata": {},
   "outputs": [
    {
     "data": {
      "text/plain": [
       "([], [])"
      ]
     },
     "execution_count": 119,
     "metadata": {},
     "output_type": "execute_result"
    },
    {
     "data": {
      "image/png": "[encoded data removed]",
      "text/plain": [
       "<Figure size 640x480 with 1 Axes>"
      ]
     },
     "metadata": {},
     "output_type": "display_data"
    }
   ],
   "source": [
    "plt.scatter(tn_movie_budgets['production_budget'], tn_movie_budgets['domestic_gross'])\n",
    "plt.title('Domestic Gross vs Production Budget')\n",
    "plt.xlabel('Production Budget')\n",
    "plt.ylabel('Domestic Gross')\n",
    "plt.xticks(ticks=[], rotation=45, ha='right', size=8, )"
   ]
  },
  {
   "cell_type": "code",
   "execution_count": 54,
   "metadata": {},
   "outputs": [
    {
     "data": {
      "text/plain": [
       "<pandas.core.groupby.generic.SeriesGroupBy object at 0x29123fd60>"
      ]
     },
     "execution_count": 54,
     "metadata": {},
     "output_type": "execute_result"
    }
   ],
   "source": [
    "tn_movie_budgets.groupby('release_month')['domestic_gross']"
   ]
  },
  {
   "cell_type": "code",
   "execution_count": null,
   "metadata": {},
   "outputs": [],
   "source": []
  },
  {
   "cell_type": "markdown",
   "metadata": {},
   "source": [
    "# IMDB Data"
   ]
  },
  {
   "cell_type": "code",
   "execution_count": 25,
   "metadata": {},
   "outputs": [
    {
     "data": {
      "text/html": [
       "<div>\n",
       "<style scoped>\n",
       "    .dataframe tbody tr th:only-of-type {\n",
       "        vertical-align: middle;\n",
       "    }\n",
       "\n",
       "    .dataframe tbody tr th {\n",
       "        vertical-align: top;\n",
       "    }\n",
       "\n",
       "    .dataframe thead th {\n",
       "        text-align: right;\n",
       "    }\n",
       "</style>\n",
       "<table border=\"1\" class=\"dataframe\">\n",
       "  <thead>\n",
       "    <tr style=\"text-align: right;\">\n",
       "      <th></th>\n",
       "      <th>Table Names</th>\n",
       "    </tr>\n",
       "  </thead>\n",
       "  <tbody>\n",
       "    <tr>\n",
       "      <th>0</th>\n",
       "      <td>movie_basics</td>\n",
       "    </tr>\n",
       "    <tr>\n",
       "      <th>1</th>\n",
       "      <td>directors</td>\n",
       "    </tr>\n",
       "    <tr>\n",
       "      <th>2</th>\n",
       "      <td>known_for</td>\n",
       "    </tr>\n",
       "    <tr>\n",
       "      <th>3</th>\n",
       "      <td>movie_akas</td>\n",
       "    </tr>\n",
       "    <tr>\n",
       "      <th>4</th>\n",
       "      <td>movie_ratings</td>\n",
       "    </tr>\n",
       "    <tr>\n",
       "      <th>5</th>\n",
       "      <td>persons</td>\n",
       "    </tr>\n",
       "    <tr>\n",
       "      <th>6</th>\n",
       "      <td>principals</td>\n",
       "    </tr>\n",
       "    <tr>\n",
       "      <th>7</th>\n",
       "      <td>writers</td>\n",
       "    </tr>\n",
       "  </tbody>\n",
       "</table>\n",
       "</div>"
      ],
      "text/plain": [
       "     Table Names\n",
       "0   movie_basics\n",
       "1      directors\n",
       "2      known_for\n",
       "3     movie_akas\n",
       "4  movie_ratings\n",
       "5        persons\n",
       "6     principals\n",
       "7        writers"
      ]
     },
     "execution_count": 25,
     "metadata": {},
     "output_type": "execute_result"
    }
   ],
   "source": [
    "conn = sqlite3.connect('../data/im.db')\n",
    "pd.read_sql('SELECT name AS \"Table Names\" FROM sqlite_master WHERE type=\"table\"', conn)"
   ]
  },
  {
   "cell_type": "code",
   "execution_count": 26,
   "metadata": {},
   "outputs": [
    {
     "name": "stdout",
     "output_type": "stream",
     "text": [
      "<class 'pandas.core.frame.DataFrame'>\n",
      "RangeIndex: 146144 entries, 0 to 146143\n",
      "Data columns (total 6 columns):\n",
      " #   Column           Non-Null Count   Dtype  \n",
      "---  ------           --------------   -----  \n",
      " 0   movie_id         146144 non-null  object \n",
      " 1   primary_title    146144 non-null  object \n",
      " 2   original_title   146123 non-null  object \n",
      " 3   start_year       146144 non-null  int64  \n",
      " 4   runtime_minutes  114405 non-null  float64\n",
      " 5   genres           140736 non-null  object \n",
      "dtypes: float64(1), int64(1), object(4)\n",
      "memory usage: 6.7+ MB\n"
     ]
    }
   ],
   "source": [
    "# Making the IMDB movie_basics table into a pandas df\n",
    "imdb_movie_basics = pd.read_sql('SELECT * FROM movie_basics', conn)\n",
    "imdb_movie_basics.info()"
   ]
  },
  {
   "cell_type": "code",
   "execution_count": 27,
   "metadata": {},
   "outputs": [
    {
     "data": {
      "text/plain": [
       "movie_id   person_id\n",
       "tt2249786  nm3911770    52\n",
       "           nm1286055    52\n",
       "           nm2853432    52\n",
       "           nm2747918    52\n",
       "           nm2583932    52\n",
       "                        ..\n",
       "tt1997402  nm0950841     1\n",
       "tt1997405  nm1016009     1\n",
       "tt1997417  nm0133980     1\n",
       "tt1997429  nm4554137     1\n",
       "tt4105968  nm1297226     1\n",
       "Name: count, Length: 163535, dtype: int64"
      ]
     },
     "execution_count": 27,
     "metadata": {},
     "output_type": "execute_result"
    }
   ],
   "source": [
    "# Making the IMDB directors table into a pandas df\n",
    "imdb_directors = pd.read_sql('SELECT * FROM directors', conn)\n",
    "imdb_directors.value_counts()\n",
    "# May want to merge these with the movie and persons tables before converting"
   ]
  },
  {
   "cell_type": "code",
   "execution_count": 28,
   "metadata": {},
   "outputs": [
    {
     "name": "stdout",
     "output_type": "stream",
     "text": [
      "<class 'pandas.core.frame.DataFrame'>\n",
      "RangeIndex: 606648 entries, 0 to 606647\n",
      "Data columns (total 5 columns):\n",
      " #   Column              Non-Null Count   Dtype  \n",
      "---  ------              --------------   -----  \n",
      " 0   person_id           606648 non-null  object \n",
      " 1   primary_name        606648 non-null  object \n",
      " 2   birth_year          82736 non-null   float64\n",
      " 3   death_year          6783 non-null    float64\n",
      " 4   primary_profession  555308 non-null  object \n",
      "dtypes: float64(2), object(3)\n",
      "memory usage: 23.1+ MB\n"
     ]
    }
   ],
   "source": [
    "imdb_persons = pd.read_sql('SELECT * FROM persons', conn)\n",
    "imdb_persons.info()"
   ]
  },
  {
   "cell_type": "code",
   "execution_count": 151,
   "metadata": {},
   "outputs": [
    {
     "data": {
      "text/html": [
       "<div>\n",
       "<style scoped>\n",
       "    .dataframe tbody tr th:only-of-type {\n",
       "        vertical-align: middle;\n",
       "    }\n",
       "\n",
       "    .dataframe tbody tr th {\n",
       "        vertical-align: top;\n",
       "    }\n",
       "\n",
       "    .dataframe thead th {\n",
       "        text-align: right;\n",
       "    }\n",
       "</style>\n",
       "<table border=\"1\" class=\"dataframe\">\n",
       "  <thead>\n",
       "    <tr style=\"text-align: right;\">\n",
       "      <th></th>\n",
       "      <th>averagerating</th>\n",
       "      <th>numvotes</th>\n",
       "      <th>start_year</th>\n",
       "      <th>runtime_minutes</th>\n",
       "    </tr>\n",
       "  </thead>\n",
       "  <tbody>\n",
       "    <tr>\n",
       "      <th>count</th>\n",
       "      <td>73856.000000</td>\n",
       "      <td>7.385600e+04</td>\n",
       "      <td>73856.000000</td>\n",
       "      <td>66236.000000</td>\n",
       "    </tr>\n",
       "    <tr>\n",
       "      <th>mean</th>\n",
       "      <td>6.332729</td>\n",
       "      <td>3.523662e+03</td>\n",
       "      <td>2014.276132</td>\n",
       "      <td>94.654040</td>\n",
       "    </tr>\n",
       "    <tr>\n",
       "      <th>std</th>\n",
       "      <td>1.474978</td>\n",
       "      <td>3.029402e+04</td>\n",
       "      <td>2.614807</td>\n",
       "      <td>208.574111</td>\n",
       "    </tr>\n",
       "    <tr>\n",
       "      <th>min</th>\n",
       "      <td>1.000000</td>\n",
       "      <td>5.000000e+00</td>\n",
       "      <td>2010.000000</td>\n",
       "      <td>3.000000</td>\n",
       "    </tr>\n",
       "    <tr>\n",
       "      <th>25%</th>\n",
       "      <td>5.500000</td>\n",
       "      <td>1.400000e+01</td>\n",
       "      <td>2012.000000</td>\n",
       "      <td>81.000000</td>\n",
       "    </tr>\n",
       "    <tr>\n",
       "      <th>50%</th>\n",
       "      <td>6.500000</td>\n",
       "      <td>4.900000e+01</td>\n",
       "      <td>2014.000000</td>\n",
       "      <td>91.000000</td>\n",
       "    </tr>\n",
       "    <tr>\n",
       "      <th>75%</th>\n",
       "      <td>7.400000</td>\n",
       "      <td>2.820000e+02</td>\n",
       "      <td>2016.000000</td>\n",
       "      <td>104.000000</td>\n",
       "    </tr>\n",
       "    <tr>\n",
       "      <th>max</th>\n",
       "      <td>10.000000</td>\n",
       "      <td>1.841066e+06</td>\n",
       "      <td>2019.000000</td>\n",
       "      <td>51420.000000</td>\n",
       "    </tr>\n",
       "  </tbody>\n",
       "</table>\n",
       "</div>"
      ],
      "text/plain": [
       "       averagerating      numvotes    start_year  runtime_minutes\n",
       "count   73856.000000  7.385600e+04  73856.000000     66236.000000\n",
       "mean        6.332729  3.523662e+03   2014.276132        94.654040\n",
       "std         1.474978  3.029402e+04      2.614807       208.574111\n",
       "min         1.000000  5.000000e+00   2010.000000         3.000000\n",
       "25%         5.500000  1.400000e+01   2012.000000        81.000000\n",
       "50%         6.500000  4.900000e+01   2014.000000        91.000000\n",
       "75%         7.400000  2.820000e+02   2016.000000       104.000000\n",
       "max        10.000000  1.841066e+06   2019.000000     51420.000000"
      ]
     },
     "execution_count": 151,
     "metadata": {},
     "output_type": "execute_result"
    }
   ],
   "source": [
    "movie_ratings = pd.read_sql(\"\"\"\n",
    "SELECT * \n",
    "            FROM movie_ratings\n",
    "            JOIN movie_basics \n",
    "            USING(movie_id)\n",
    "            \n",
    "            \"\"\", conn)\n",
    "\n",
    "movie_ratings.describe()"
   ]
  },
  {
   "cell_type": "code",
   "execution_count": null,
   "metadata": {},
   "outputs": [],
   "source": []
  },
  {
   "cell_type": "code",
   "execution_count": 29,
   "metadata": {},
   "outputs": [
    {
     "data": {
      "text/html": [
       "<div>\n",
       "<style scoped>\n",
       "    .dataframe tbody tr th:only-of-type {\n",
       "        vertical-align: middle;\n",
       "    }\n",
       "\n",
       "    .dataframe tbody tr th {\n",
       "        vertical-align: top;\n",
       "    }\n",
       "\n",
       "    .dataframe thead th {\n",
       "        text-align: right;\n",
       "    }\n",
       "</style>\n",
       "<table border=\"1\" class=\"dataframe\">\n",
       "  <thead>\n",
       "    <tr style=\"text-align: right;\">\n",
       "      <th></th>\n",
       "      <th>primary_name</th>\n",
       "      <th>num_movies</th>\n",
       "    </tr>\n",
       "  </thead>\n",
       "  <tbody>\n",
       "    <tr>\n",
       "      <th>0</th>\n",
       "      <td>Eric Roberts</td>\n",
       "      <td>143</td>\n",
       "    </tr>\n",
       "    <tr>\n",
       "      <th>1</th>\n",
       "      <td>Brahmanandam</td>\n",
       "      <td>69</td>\n",
       "    </tr>\n",
       "    <tr>\n",
       "      <th>2</th>\n",
       "      <td>Tom Sizemore</td>\n",
       "      <td>69</td>\n",
       "    </tr>\n",
       "    <tr>\n",
       "      <th>3</th>\n",
       "      <td>Seiji Nakamitsu</td>\n",
       "      <td>67</td>\n",
       "    </tr>\n",
       "    <tr>\n",
       "      <th>4</th>\n",
       "      <td>Michael Madsen</td>\n",
       "      <td>63</td>\n",
       "    </tr>\n",
       "    <tr>\n",
       "      <th>...</th>\n",
       "      <td>...</td>\n",
       "      <td>...</td>\n",
       "    </tr>\n",
       "    <tr>\n",
       "      <th>1856</th>\n",
       "      <td>Denzel Washington</td>\n",
       "      <td>11</td>\n",
       "    </tr>\n",
       "    <tr>\n",
       "      <th>1857</th>\n",
       "      <td>John Travolta</td>\n",
       "      <td>11</td>\n",
       "    </tr>\n",
       "    <tr>\n",
       "      <th>1858</th>\n",
       "      <td>Will Smith</td>\n",
       "      <td>11</td>\n",
       "    </tr>\n",
       "    <tr>\n",
       "      <th>1859</th>\n",
       "      <td>Parker Posey</td>\n",
       "      <td>11</td>\n",
       "    </tr>\n",
       "    <tr>\n",
       "      <th>1860</th>\n",
       "      <td>Anne Heche</td>\n",
       "      <td>11</td>\n",
       "    </tr>\n",
       "  </tbody>\n",
       "</table>\n",
       "<p>1861 rows × 2 columns</p>\n",
       "</div>"
      ],
      "text/plain": [
       "           primary_name  num_movies\n",
       "0          Eric Roberts         143\n",
       "1          Brahmanandam          69\n",
       "2          Tom Sizemore          69\n",
       "3       Seiji Nakamitsu          67\n",
       "4        Michael Madsen          63\n",
       "...                 ...         ...\n",
       "1856  Denzel Washington          11\n",
       "1857      John Travolta          11\n",
       "1858         Will Smith          11\n",
       "1859       Parker Posey          11\n",
       "1860         Anne Heche          11\n",
       "\n",
       "[1861 rows x 2 columns]"
      ]
     },
     "execution_count": 29,
     "metadata": {},
     "output_type": "execute_result"
    }
   ],
   "source": [
    "# Taking a look at actors and actresses\n",
    "\n",
    "pd.read_sql(\"\"\"\n",
    "SELECT primary_name, COUNT(primary_name) AS num_movies \n",
    "FROM principals \n",
    "JOIN persons\n",
    "USING(person_id)\n",
    "WHERE (category = 'actor' OR category = 'actress') AND characters IS NOT NULL \n",
    "GROUP BY person_id\n",
    "HAVING num_movies > 10\n",
    "ORDER BY num_movies DESC     \n",
    "            \"\"\", conn) "
   ]
  },
  {
   "cell_type": "markdown",
   "metadata": {},
   "source": [
    "# Combining different DataFrames"
   ]
  },
  {
   "cell_type": "code",
   "execution_count": 30,
   "metadata": {},
   "outputs": [
    {
     "name": "stdout",
     "output_type": "stream",
     "text": [
      "<class 'pandas.core.frame.DataFrame'>\n",
      "RangeIndex: 23612 entries, 0 to 23611\n",
      "Data columns (total 15 columns):\n",
      " #   Column             Non-Null Count  Dtype  \n",
      "---  ------             --------------  -----  \n",
      " 0   movie_id           23612 non-null  object \n",
      " 1   primary_title      23612 non-null  object \n",
      " 2   original_title_x   23607 non-null  object \n",
      " 3   start_year         23612 non-null  int64  \n",
      " 4   runtime_minutes    21750 non-null  float64\n",
      " 5   genres             23263 non-null  object \n",
      " 6   Unnamed: 0         23612 non-null  int64  \n",
      " 7   genre_ids          23612 non-null  object \n",
      " 8   id                 23612 non-null  int64  \n",
      " 9   original_language  23612 non-null  object \n",
      " 10  original_title_y   23612 non-null  object \n",
      " 11  popularity         23612 non-null  float64\n",
      " 12  release_date       23612 non-null  object \n",
      " 13  vote_average       23612 non-null  float64\n",
      " 14  vote_count         23612 non-null  int64  \n",
      "dtypes: float64(3), int64(4), object(8)\n",
      "memory usage: 2.7+ MB\n"
     ]
    }
   ],
   "source": [
    "# Combing the IMDB 'movie_basics' table with the TMDB 'tmdb_movies' table\n",
    "\n",
    "merged_movie_basics = pd.merge(imdb_movie_basics, tmdb_movies, on='primary_title')\n",
    "merged_movie_basics.info()"
   ]
  },
  {
   "cell_type": "code",
   "execution_count": 31,
   "metadata": {},
   "outputs": [
    {
     "name": "stdout",
     "output_type": "stream",
     "text": [
      "<class 'pandas.core.frame.DataFrame'>\n",
      "RangeIndex: 3772 entries, 0 to 3771\n",
      "Data columns (total 19 columns):\n",
      " #   Column             Non-Null Count  Dtype  \n",
      "---  ------             --------------  -----  \n",
      " 0   movie_id           3772 non-null   object \n",
      " 1   primary_title      3772 non-null   object \n",
      " 2   original_title_x   3772 non-null   object \n",
      " 3   start_year         3772 non-null   int64  \n",
      " 4   runtime_minutes    3545 non-null   float64\n",
      " 5   genres             3715 non-null   object \n",
      " 6   Unnamed: 0         3772 non-null   int64  \n",
      " 7   genre_ids          3772 non-null   object \n",
      " 8   id                 3772 non-null   int64  \n",
      " 9   original_language  3772 non-null   object \n",
      " 10  original_title_y   3772 non-null   object \n",
      " 11  popularity         3772 non-null   float64\n",
      " 12  release_date       3772 non-null   object \n",
      " 13  vote_average       3772 non-null   float64\n",
      " 14  vote_count         3772 non-null   int64  \n",
      " 15  studio             3772 non-null   object \n",
      " 16  domestic_gross     3738 non-null   float64\n",
      " 17  foreign_gross      2379 non-null   object \n",
      " 18  year               3772 non-null   int64  \n",
      "dtypes: float64(4), int64(5), object(10)\n",
      "memory usage: 560.0+ KB\n"
     ]
    }
   ],
   "source": [
    "# Trying to add the bom table to the merged_movie_basics table\n",
    "\n",
    "# Making the \"title\" column match \"primary title\"\n",
    "bom.rename(columns={'title': 'primary_title'}, inplace=True)\n",
    "\n",
    "merged_movie_basics = pd.merge(merged_movie_basics, bom, on='primary_title')\n",
    "merged_movie_basics.info()"
   ]
  },
  {
   "cell_type": "code",
   "execution_count": 34,
   "metadata": {},
   "outputs": [
    {
     "data": {
      "text/plain": [
       "<Axes: xlabel='year', ylabel='domestic_gross'>"
      ]
     },
     "execution_count": 34,
     "metadata": {},
     "output_type": "execute_result"
    },
    {
     "data": {
      "image/png": "[encoded data removed]",
      "text/plain": [
       "<Figure size 640x480 with 1 Axes>"
      ]
     },
     "metadata": {},
     "output_type": "display_data"
    }
   ],
   "source": [
    "sns.scatterplot(data=merged_movie_basics, x='year', y='domestic_gross')"
   ]
  }
 ],
 "metadata": {
  "kernelspec": {
   "display_name": "learn-env",
   "language": "python",
   "name": "python3"
  },
  "language_info": {
   "codemirror_mode": {
    "name": "ipython",
    "version": 3
   },
   "file_extension": ".py",
   "mimetype": "text/x-python",
   "name": "python",
   "nbconvert_exporter": "python",
   "pygments_lexer": "ipython3",
   "version": "3.9.18"
  }
 },
 "nbformat": 4,
 "nbformat_minor": 2
}
